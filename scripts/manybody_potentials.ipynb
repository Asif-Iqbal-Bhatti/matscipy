{
 "cells": [
  {
   "cell_type": "markdown",
   "id": "591ad3fb-376b-435b-998c-d36046863b77",
   "metadata": {},
   "source": [
    "# Manybody Potential Expressions\n",
    "\n",
    "This notebook uses symbolic differentiation to derive expressions for common manybody potentials defined in terms of the following functions:\n",
    "\n",
    "$$ \\phi(r_{ij}^2, \\xi_{ij}), \\Theta(r_{ij}^2, r_{ik}^2, r_{jk}^2) $$\n",
    "\n",
    "To avoid verbosity, expressions in this notebook will use the following symbol substitution:\n",
    "\n",
    "$$ R = R_1 = r_{ij}^2\\\\\n",
    "R_2 = r_{ik}^2\\\\\n",
    "R_3 = r_{jk}^2\\\\\n",
    "\\xi = \\xi_{ij} $$\n",
    "\n",
    "So that the above functions become:\n",
    "\n",
    "$$ \\phi(R, \\xi), \\Theta(R_1, R_2, R_3) $$\n"
   ]
  },
  {
   "cell_type": "code",
   "execution_count": null,
   "id": "4a095b4b-111c-4374-b138-9b92bb75c27c",
   "metadata": {},
   "outputs": [],
   "source": [
    "from sympy import *\n",
    "from sympy.abc import R, xi, x\n",
    "from IPython.display import display, Latex\n",
    "\n",
    "init_printing()\n",
    "\n",
    "R1, R2, R3 = symbols(\"R_{1:4}\")"
   ]
  },
  {
   "cell_type": "markdown",
   "id": "a3e4f4cc-58c2-44f9-a6b4-c023ee41ae7f",
   "metadata": {},
   "source": [
    "Below are two classes that represent the above functions $\\phi$ and $\\Theta$. Their member functions `gradient()` and `hessian()` return the correct derivatives in the order expected by the `Manybody` calculator class in `matscipy`."
   ]
  },
  {
   "cell_type": "code",
   "execution_count": null,
   "id": "f1ff0cbf-2f7f-480f-b3f3-96996c7e8551",
   "metadata": {},
   "outputs": [],
   "source": [
    "class Potential:\n",
    "    def __init__(self, expression, latex):\n",
    "        self.e = expression\n",
    "        self.latex = latex\n",
    "    def show(self):\n",
    "        display(Latex(f\"$${self.latex} = {latex(self.e)}$$\"))\n",
    "        display(Latex(f\"$$\\\\nabla{self.latex} = {latex(self.gradient)}$$\"))\n",
    "        display(Latex(f\"$$\\\\nabla^2{self.latex} = {latex(self.hessian)}$$\"))\n",
    "\n",
    "class Phi(Potential):\n",
    "    def __init__(self, expression):\n",
    "        super().__init__(expression, \"\\\\phi(R, \\\\xi)\")\n",
    "        self.gradient = [(diff(self.e, v)) for v in (R, xi)]\n",
    "        self.hessian = [(diff(self.e, *v)) for v in [(R, R), (xi, xi), (R, xi)]]\n",
    "\n",
    "class Theta(Potential):\n",
    "    def __init__(self, expression):\n",
    "        super().__init__(expression, \"\\\\Theta(R_1, R_2, R_3)\")\n",
    "        self.gradient = [(diff(self.e, v)) for v in (R1, R2, R3)]\n",
    "        self.hessian = [(diff(self.e, *v)) for v in [(R1, R1), (R2, R2), (R3, R3), (R2, R3), (R1, R3), (R1, R2)]]"
   ]
  },
  {
   "cell_type": "markdown",
   "id": "44902eba-46bf-4c33-9582-28d27f04e1eb",
   "metadata": {},
   "source": [
    "## Harmonic Pair Potential\n",
    "\n",
    "Below is the definition of a harmonic pair potential, with the added contribution from the three body interaction $\\xi$."
   ]
  },
  {
   "cell_type": "code",
   "execution_count": null,
   "id": "67b1d779-5cba-4bf8-b201-fcb0dac2de3d",
   "metadata": {},
   "outputs": [],
   "source": [
    "# Define equilibrium distance and stiffness\n",
    "k, r0 = symbols(\"k, r_0\")\n",
    "\n",
    "energy = k / 2 * (sqrt(R) - r0)**2 + xi\n",
    "harmonic = Phi(energy)\n",
    "harmonic.show()"
   ]
  },
  {
   "cell_type": "markdown",
   "id": "434fff33-d06e-4916-a4c7-eae1bff2a019",
   "metadata": {},
   "source": [
    "## Lennard-Jones Pair Potential\n",
    "\n",
    "LJ works nicely because of even powers that play nice with the definition in terms of the *squared distance*."
   ]
  },
  {
   "cell_type": "code",
   "execution_count": null,
   "id": "3bcae8ef-4e79-455d-ad05-b25e112f7f4b",
   "metadata": {},
   "outputs": [],
   "source": [
    "# Define characteristic distance and energy\n",
    "eps, sigma = symbols(\"\\\\epsilon, \\\\sigma\")\n",
    "\n",
    "energy = 4 * eps * (sigma**12 / R**6 - sigma**6 / R**3) + xi\n",
    "lj = Phi(energy)\n",
    "lj.show()"
   ]
  },
  {
   "cell_type": "markdown",
   "id": "ea2c5259-be8b-4d98-a550-cedc0c390ac3",
   "metadata": {},
   "source": [
    "## Harmonic Angle Potential\n",
    "\n",
    "Three-body potential that enforces an angle stiffness between two bonds."
   ]
  },
  {
   "cell_type": "code",
   "execution_count": null,
   "id": "6ab1b123-f489-450f-b8a6-185413c886e1",
   "metadata": {},
   "outputs": [],
   "source": [
    "k_theta, theta0 = symbols(\"k_\\\\theta, \\\\theta_0\")\n",
    "\n",
    "cos_angle = (R1 + R3 - R2)/(2 * sqrt(R1 * R3))\n",
    "\n",
    "# Print derivatives of angle cosine\n",
    "Theta(cos_angle).show()"
   ]
  }
 ],
 "metadata": {
  "kernelspec": {
   "display_name": "Python 3 (ipykernel)",
   "language": "python",
   "name": "python3"
  },
  "language_info": {
   "codemirror_mode": {
    "name": "ipython",
    "version": 3
   },
   "file_extension": ".py",
   "mimetype": "text/x-python",
   "name": "python",
   "nbconvert_exporter": "python",
   "pygments_lexer": "ipython3",
   "version": "3.9.7"
  }
 },
 "nbformat": 4,
 "nbformat_minor": 5
}
