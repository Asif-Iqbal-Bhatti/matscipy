{
 "cells": [
  {
   "cell_type": "markdown",
   "metadata": {},
   "source": [
    "# Dislocation Quadrupoles\n",
    "Dislocation Quadrupoles are structures designed with the goal of enabling the study of dislocation systems in periodic cells. In order for the system to be periodic, the cell must have a net Burgers vector of zero. To achieve this, we place two dislocations with Burgers vectors of equal magnitude and opposite sign (i.e. $+\\textbf{b}$ and $-\\textbf{b}$) in the structure.\n",
    "\n",
    "The code is designed to allow the generation of these structures in as small a structure is required for a given separation of the dislocations along the glide direction.\n",
    "\n",
    "To start, lets look at the $90^\\circ$ partial dislocation in Diamond, using a dislocation cylinder approach documented in earlier docs and the same potential by [D. Holland and M. Marder](https://journals.aps.org/prl/abstract/10.1103/PhysRevLett.80.746):"
   ]
  },
  {
   "cell_type": "code",
   "execution_count": 1,
   "metadata": {},
   "outputs": [
    {
     "data": {
      "application/vnd.jupyter.widget-view+json": {
       "model_id": "54b4581777fa4a6b9ab8a35e7584df40",
       "version_major": 2,
       "version_minor": 0
      },
      "text/plain": []
     },
     "metadata": {},
     "output_type": "display_data"
    },
    {
     "data": {
      "application/vnd.jupyter.widget-view+json": {
       "model_id": "1885c85738f24d68bbe222f89c9f3a6c",
       "version_major": 2,
       "version_minor": 0
      },
      "text/plain": [
       "NGLWidget(layout=Layout(height='300px', width='100%'))"
      ]
     },
     "metadata": {},
     "output_type": "display_data"
    }
   ],
   "source": [
    "from matscipy.dislocation import DiamondGlide90degreePartial, get_elastic_constants\n",
    "from matscipy.calculators.manybody.explicit_forms.stillinger_weber import StillingerWeber,\\\n",
    "                                                                Holland_Marder_PRL_80_746_Si\n",
    "from matscipy.calculators.manybody import Manybody\n",
    "calc = Manybody(**StillingerWeber(Holland_Marder_PRL_80_746_Si))\n",
    "\n",
    "alat, C11, C12, C44 = get_elastic_constants(calculator=calc, symbol=\"Si\", verbose=False)\n",
    "\n",
    "\n",
    "Si_disloc = DiamondGlide90degreePartial(alat, C11, C12, C44, symbol=\"Si\")\n",
    "\n",
    "bulk, disloc = Si_disloc.build_cylinder(radius=20)\n",
    "\n",
    "Si_disloc.view_cyl(disloc, scale=0.3, add_bonds=True)\n"
   ]
  },
  {
   "cell_type": "markdown",
   "metadata": {},
   "source": []
  },
  {
   "cell_type": "code",
   "execution_count": 2,
   "metadata": {},
   "outputs": [
    {
     "name": "stdout",
     "output_type": "stream",
     "text": [
      "Periodic displacement iteration 0 -> max(|dr|) = 1.0393\n",
      "Periodic displacement iteration 1 -> max(|dr|) = 0.1551\n",
      "Periodic displacement iteration 2 -> max(|dr|) = 0.0062\n",
      "Periodic displacement iteration 3 -> max(|dr|) = 0.0015\n",
      "Periodic displacement iteration 4 -> max(|dr|) = 0.0006\n",
      "Periodic displacements converged to r_tol=0.001 after 4 iterations\n"
     ]
    },
    {
     "data": {
      "application/vnd.jupyter.widget-view+json": {
       "model_id": "a76a81b58a5b4109b27d3228d6534d8b",
       "version_major": 2,
       "version_minor": 0
      },
      "text/plain": [
       "NGLWidget(layout=Layout(height='300px', width='100%'))"
      ]
     },
     "metadata": {},
     "output_type": "display_data"
    }
   ],
   "source": [
    "from matscipy.dislocation import CubicCrystalDislocationQuadrupole\n",
    "\n",
    "quad = CubicCrystalDislocationQuadrupole(DiamondGlide90degreePartial, alat, C11, C12, C44, symbol=\"Si\")\n",
    "\n",
    "quad_bulk, quad_disloc = quad.build_quadrupole(glide_separation=4, self_consistent=False)\n",
    "\n",
    "view = quad.view_quad(quad_disloc, scale=0.3, add_bonds=True)\n",
    "view.control.zoom(0.2)\n",
    "view"
   ]
  },
  {
   "cell_type": "markdown",
   "metadata": {},
   "source": [
    "## Dislocation Glide in quadrupoles\n",
    "As quadrupoles are extremely useful for modelling dislocations using plane-wave DFT, it can be convenient to be able to set up initial guesses for complex processes such as dislocation glide. In this scenario, we assume that the full infinite dislocation line glides in unison, ignoring the true \"kink\" process.\n",
    "\n",
    "We can use the function `build_glide_quadrupoles` to construct a set of images for this system, which can optionally model the glide of either the \"left\" ($+\\mathbf{b}$) or \"right\" ($-\\mathbf{b}$) dislocation cores, or both at once."
   ]
  },
  {
   "cell_type": "code",
   "execution_count": 3,
   "metadata": {},
   "outputs": [],
   "source": [
    "num_images = 4\n",
    "\n",
    "glide_quads = quad.build_glide_quadrupoles(nims=num_images, \n",
    "                                            glide_left=True, # Let the left dislocation glide\n",
    "                                            glide_right=True, # Let the left dislocation glide\n",
    "                                            self_consistent=False,\n",
    "                                            glide_separation=4,\n",
    "                                            verbose=False)"
   ]
  },
  {
   "cell_type": "code",
   "execution_count": 4,
   "metadata": {},
   "outputs": [
    {
     "data": {
      "application/vnd.jupyter.widget-view+json": {
       "model_id": "47277810579c49b4828bc18a63f11623",
       "version_major": 2,
       "version_minor": 0
      },
      "text/plain": [
       "NGLWidget(layout=Layout(height='300px', width='100%'))"
      ]
     },
     "metadata": {},
     "output_type": "display_data"
    }
   ],
   "source": [
    "# image 0 will be identical to the above structure\n",
    "quad.view_quad(glide_quads[1], scale=0.3, add_bonds=True)"
   ]
  },
  {
   "cell_type": "code",
   "execution_count": 5,
   "metadata": {},
   "outputs": [
    {
     "data": {
      "application/vnd.jupyter.widget-view+json": {
       "model_id": "223169329f354fa0ad6aced218119e7c",
       "version_major": 2,
       "version_minor": 0
      },
      "text/plain": [
       "NGLWidget(layout=Layout(height='300px', width='100%'))"
      ]
     },
     "metadata": {},
     "output_type": "display_data"
    }
   ],
   "source": [
    "quad.view_quad(glide_quads[2], scale=0.3, add_bonds=True)"
   ]
  },
  {
   "cell_type": "code",
   "execution_count": 6,
   "metadata": {},
   "outputs": [
    {
     "data": {
      "application/vnd.jupyter.widget-view+json": {
       "model_id": "ffb9f75d30504df6b39cf26fe41ba6cc",
       "version_major": 2,
       "version_minor": 0
      },
      "text/plain": [
       "NGLWidget(layout=Layout(height='300px', width='100%'))"
      ]
     },
     "metadata": {},
     "output_type": "display_data"
    }
   ],
   "source": [
    "quad.view_quad(glide_quads[3], scale=0.3, add_bonds=True)"
   ]
  },
  {
   "cell_type": "markdown",
   "metadata": {},
   "source": [
    "## Quadrupole Kink\n",
    "Dislocation kink is commonly a more energetically accessible way for a dislocation to move in the glide direction. Rather than the full dislocation line gliding as one, the kink mechanism involves a small section of the dislocation line nucleating out by a glide vector, forming a pair of kinks. This pair of kinks can then diffuse along the direction of the dislocation line, advancing the line locally by a single glide vector.\n",
    "\n",
    "In the quadrupole cells, we model an infinite chain of single kinks, where the dislocation line advances by one glide direction every periodic repetition of the structure in the Z direction. This is distinct from the kink-pair mechanism, which would need two kinks (which migrate the dislocation line in opposite directions), however the single kink structures can be useful in making kink behaviour accessible to the small scales required by expensive methods such as DFT.\n",
    "\n",
    "To actually construct kink structures from a quadrupole object, we use the `build_kink_quadrupole()` method of `CubicCrystalDislocationQuadrupole`. The main two important parameters to define are `invert_direction`, which changes the directionality of the kinks (some systems have distinct \"left\" kinks and \"right\" kinks), and `z_reps`, which both changes the size of the final structure, as well as the initial guess for the length of the kink.\n",
    "\n",
    ":::{note}\n",
    "Because the kink advances the system by a single glide vector, and cells are typically multiple glide vectors long, the structure will not initially be periodic. To solve this, some atomic layers are removed (as controlled by `layer_tol`). In multispecies systems, this may disrupt the atomic composition of the end structure.\n",
    ":::"
   ]
  },
  {
   "cell_type": "code",
   "execution_count": 8,
   "metadata": {},
   "outputs": [
    {
     "name": "stdout",
     "output_type": "stream",
     "text": [
      "1\n",
      "432\n"
     ]
    },
    {
     "data": {
      "application/vnd.jupyter.widget-view+json": {
       "model_id": "e93b000006694b34b4d077502048c0bc",
       "version_major": 2,
       "version_minor": 0
      },
      "text/plain": [
       "NGLWidget(layout=Layout(height='300px', width='100%'))"
      ]
     },
     "metadata": {},
     "output_type": "display_data"
    }
   ],
   "source": [
    "kink_quad = quad.build_kink_quadrupole(z_reps=5, \n",
    "                                       self_consistent=False,\n",
    "                                       glide_separation=4,\n",
    "                                       verbose=False, layer_tol=1e-2)\n",
    "\n",
    "quad.view_quad(kink_quad, scale=0.6, add_bonds=False)"
   ]
  },
  {
   "cell_type": "code",
   "execution_count": null,
   "metadata": {},
   "outputs": [],
   "source": []
  }
 ],
 "metadata": {
  "kernelspec": {
   "display_name": "Python 3",
   "language": "python",
   "name": "python3"
  },
  "language_info": {
   "codemirror_mode": {
    "name": "ipython",
    "version": 3
   },
   "file_extension": ".py",
   "mimetype": "text/x-python",
   "name": "python",
   "nbconvert_exporter": "python",
   "pygments_lexer": "ipython3",
   "version": "3.10.12"
  }
 },
 "nbformat": 4,
 "nbformat_minor": 2
}
