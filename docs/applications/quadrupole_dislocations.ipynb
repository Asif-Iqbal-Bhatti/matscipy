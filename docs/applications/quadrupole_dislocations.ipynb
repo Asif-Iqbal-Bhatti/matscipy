{
 "cells": [
  {
   "cell_type": "markdown",
   "metadata": {},
   "source": [
    "# Dislocation Quadrupoles\n",
    "Dislocation Quadrupoles are structures designed with the goal of enabling the study of dislocation systems in periodic cells. In order for the system to be periodic, the cell must have a net Burgers vector of zero. To achieve this, we place two dislocations with Burgers vectors of equal magnitude and opposite sign (i.e. $+\\textbf{b}$ and $-\\textbf{b}$) in the structure.\n",
    "\n",
    "The code is designed to allow the generation of these structures in as small a structure is required for a given separation of the dislocations along the glide direction.\n",
    "\n",
    "To start, lets look at the $90^\\circ$ partial dislocation in Diamond, using a dislocation cylinder approach documented in earlier docs and the same potential by [D. Holland and M. Marder](https://journals.aps.org/prl/abstract/10.1103/PhysRevLett.80.746):"
   ]
  },
  {
   "cell_type": "code",
   "execution_count": 1,
   "metadata": {},
   "outputs": [
    {
     "data": {
      "application/vnd.jupyter.widget-view+json": {
       "model_id": "4c8dbbae625d4766b4bc73a5f9200cf3",
       "version_major": 2,
       "version_minor": 0
      },
      "text/plain": []
     },
     "metadata": {},
     "output_type": "display_data"
    },
    {
     "data": {
      "application/vnd.jupyter.widget-view+json": {
       "model_id": "a55eb80283494b20bb69bf013f65956c",
       "version_major": 2,
       "version_minor": 0
      },
      "text/plain": [
       "NGLWidget(layout=Layout(height='300px', width='100%'))"
      ]
     },
     "metadata": {},
     "output_type": "display_data"
    }
   ],
   "source": [
    "from matscipy.dislocation import DiamondGlide90degreePartial, get_elastic_constants\n",
    "from matscipy.calculators.manybody.explicit_forms.stillinger_weber import StillingerWeber,\\\n",
    "                                                                Holland_Marder_PRL_80_746_Si\n",
    "from matscipy.calculators.manybody import Manybody\n",
    "calc = Manybody(**StillingerWeber(Holland_Marder_PRL_80_746_Si))\n",
    "\n",
    "alat, C11, C12, C44 = get_elastic_constants(calculator=calc, symbol=\"Si\", verbose=False)\n",
    "\n",
    "\n",
    "Si_disloc = DiamondGlide90degreePartial(alat, C11, C12, C44, symbol=\"Si\")\n",
    "\n",
    "bulk, disloc = Si_disloc.build_cylinder(radius=20)\n",
    "\n",
    "Si_disloc.view_cyl(disloc, scale=0.3, add_bonds=True)\n"
   ]
  },
  {
   "cell_type": "markdown",
   "metadata": {},
   "source": []
  },
  {
   "cell_type": "code",
   "execution_count": 3,
   "metadata": {},
   "outputs": [
    {
     "name": "stdout",
     "output_type": "stream",
     "text": [
      "Periodic displacement iteration 0 -> max(|dr|) = 1.0393\n",
      "Periodic displacement iteration 1 -> max(|dr|) = 0.131\n",
      "Periodic displacement iteration 2 -> max(|dr|) = 0.0077\n",
      "Periodic displacement iteration 3 -> max(|dr|) = 0.0021\n",
      "Periodic displacement iteration 4 -> max(|dr|) = 0.0009\n",
      "Periodic displacements converged to r_tol=0.001 after 4 iterations\n"
     ]
    }
   ],
   "source": [
    "from matscipy.dislocation import CubicCrystalDislocationQuadrupole\n",
    "\n",
    "quad = CubicCrystalDislocationQuadrupole(DiamondGlide90degreePartial, alat, C11, C12, C44, symbol=\"Si\")\n",
    "\n",
    "quad_bulk, quad_disloc = quad.build_quadrupole(partial_distance=8, self_consistent=False)\n",
    "\n",
    "view = quad.view_quad(quad_disloc, scale=0.3, add_bonds=True)\n",
    "view.control.zoom(0.2)\n",
    "view"
   ]
  },
  {
   "cell_type": "code",
   "execution_count": null,
   "metadata": {},
   "outputs": [],
   "source": []
  }
 ],
 "metadata": {
  "kernelspec": {
   "display_name": "Python 3",
   "language": "python",
   "name": "python3"
  },
  "language_info": {
   "codemirror_mode": {
    "name": "ipython",
    "version": 3
   },
   "file_extension": ".py",
   "mimetype": "text/x-python",
   "name": "python",
   "nbconvert_exporter": "python",
   "pygments_lexer": "ipython3",
   "version": "3.10.12"
  }
 },
 "nbformat": 4,
 "nbformat_minor": 2
}
