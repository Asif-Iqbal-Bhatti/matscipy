{
 "cells": [
  {
   "cell_type": "markdown",
   "id": "1aad7bd0-ad93-4037-90be-39a90e0609fc",
   "metadata": {},
   "source": [
    "# Elastic Constants\n",
    "\n",
    "Solids respond to small external loads through a reversible elastic response. The strength of the response is characterized by the elastic moduli. {py:mod}`matscipy.elasticity` implements functions for computing elastic moduli from small deformation of atomistic systems that consider potential symmetries of the underlying atomic system, in particular for crystals. {py:mod}`matscipy.elasticity` also implements analytic calculation of elastic moduli for some interatomic potentials, described in more detail below. The computation of elastic moduli is a basic prerequisite for multi-scale modelling of materials, as they are the most basic parameters of continuum material models.\n",
    "\n",
    "In this tutorial, we will go over different ways that `matscipy` can compute elastic constants of an atomic configuration.\n",
    "\n",
    "## Problem setup"
   ]
  },
  {
   "cell_type": "code",
   "execution_count": null,
   "id": "f7edef8b-a391-44fb-8591-2e80db68f9fc",
   "metadata": {},
   "outputs": [],
   "source": []
  }
 ],
 "metadata": {
  "kernelspec": {
   "display_name": "Python 3 (ipykernel)",
   "language": "python",
   "name": "python3"
  },
  "language_info": {
   "codemirror_mode": {
    "name": "ipython",
    "version": 3
   },
   "file_extension": ".py",
   "mimetype": "text/x-python",
   "name": "python",
   "nbconvert_exporter": "python",
   "pygments_lexer": "ipython3",
   "version": "3.11.2"
  }
 },
 "nbformat": 4,
 "nbformat_minor": 5
}
