{
 "cells": [
  {
   "cell_type": "code",
   "execution_count": 62,
   "metadata": {},
   "outputs": [],
   "source": [
    "import numpy as np\n",
    "import matplotlib.pyplot as plt\n",
    "\n",
    "from matscipy.dislocation import get_elastic_constants, plot_vitek\n",
    "\n",
    "from ase.optimize.precon import PreconLBFGS\n",
    "\n",
    "# interactive visualisation inside the notebook\n",
    "from nglview import show_ase\n",
    "def interactive_view(system, scale=0.5):\n",
    "    view = show_ase(system)\n",
    "    view._remove_representation()\n",
    "    view.add_unitcell()\n",
    "    view.add_spacefill()\n",
    "    view.update_spacefill(radiusType='covalent',\n",
    "                          radiusScale=scale)\n",
    "\n",
    "    view.camera = 'orthographic'\n",
    "    view.parameters = {\"clipDist\": 0}\n",
    "\n",
    "    view.center()\n",
    "    view._remote_call(\"setSize\", target=\"Widget\", args=[\"300px\", \"300px\"])\n",
    "    return view\n"
   ]
  },
  {
   "cell_type": "markdown",
   "metadata": {},
   "source": [
    "# Building cylindrical configurations with dislocations\n",
    "\n",
    "![](dislocation_cylinder.png)\n",
    "\n",
    "The `matscipy.dislocation` provides a set of tools to create atomistic configurations containing dislocations. In this example we focus on cylindrical configurations. In order to create a dislocation we start with a cylinder of bulk material oriented along the vector of the future dislocation line $\\vec l$. By convention assumed in `matscipy.dislocation` Z direction of the cell always corresponds to the dislocation line $\\vec l$. Then a displacement field is applied to the cylinder and outer radial shell is fixed in order to stabilise the configuration. So we end up with periodic boundary conditions along the dislocation line (Z) and fixed boundaries along X and Y directions. \n",
    "\n",
    "Ase shown on the figure above, screw dislocations are characterised by a displacement with corresponding burgers vector $\\vec b$ parallel to the dislocation line $\\vec l$, while edge dislocations have the burgers vector $\\vec b$ perpendicular to $\\vec l$. Here we use an anisotrpoic solution within [Stroh formalism](https://doi.org/10.1080/14786435808565804) to generate displacement field as implemented in [atomman](https://www.ctcms.nist.gov/potentials/atomman/) package. Please note that for this example we use very small systems (small radius). For production calculations one should do a convergence tests with the system size in order to ensure that fixed boundaries do not affect the studied properties.\n"
   ]
  },
  {
   "cell_type": "markdown",
   "metadata": {},
   "source": [
    "## Body Centered Cubic \n",
    "\n",
    "Here we will use tungsten as an example BCC material. We need lattice parameter $a_0$ and elastic constants $C_{11}$, $C_{12}$ and $C_{44}$ to create dislocation configuration. For the case of _ab initio_ calculation one can provide corresponding values directly. For much faster calculations based on interatomic potentials `matscipy.dislocation` provides a convenient method `get_elastic_constants` to calculate desired properties. We will use and Embedded Atom Potential from [Marinica _et. al._ 2013 paper](http://dx.doi.org/10.1088/0953-8984/25/39/395502) (version EAM4) for the case of tungsten."
   ]
  },
  {
   "cell_type": "code",
   "execution_count": 63,
   "metadata": {
    "tags": [
     "hide-output"
    ]
   },
   "outputs": [
    {
     "name": "stdout",
     "output_type": "stream",
     "text": [
      "      Step     Time          Energy         fmax\n",
      "*Force-consistent energies used in optimization.\n",
      "FIRE:    0 17:45:40       -8.896394*       0.7808\n",
      "FIRE:    1 17:45:40       -8.899920*       0.1160\n",
      "FIRE:    2 17:45:40       -8.897214*       0.7321\n",
      "FIRE:    3 17:45:40       -8.898398*       0.5505\n",
      "FIRE:    4 17:45:40       -8.899676*       0.2427\n",
      "FIRE:    5 17:45:40       -8.899933*       0.1055\n",
      "FIRE:    6 17:45:40       -8.899940*       0.0997\n",
      "FIRE:    7 17:45:40       -8.899952*       0.0883\n",
      "FIRE:    8 17:45:40       -8.899967*       0.0719\n",
      "FIRE:    9 17:45:40       -8.899981*       0.0515\n",
      "FIRE:   10 17:45:40       -8.899991*       0.0281\n",
      "FIRE:   11 17:45:40       -8.899996*       0.0030\n",
      "FIRE:   12 17:45:40       -8.899993*       0.0223\n",
      "FIRE:   13 17:45:40       -8.899993*       0.0220\n",
      "FIRE:   14 17:45:40       -8.899993*       0.0214\n",
      "FIRE:   15 17:45:40       -8.899993*       0.0204\n",
      "FIRE:   16 17:45:40       -8.899994*       0.0192\n",
      "FIRE:   17 17:45:40       -8.899994*       0.0177\n",
      "FIRE:   18 17:45:40       -8.899994*       0.0160\n",
      "FIRE:   19 17:45:40       -8.899995*       0.0140\n",
      "FIRE:   20 17:45:40       -8.899995*       0.0116\n",
      "FIRE:   21 17:45:40       -8.899995*       0.0087\n",
      "FIRE:   22 17:45:40       -8.899996*       0.0053\n",
      "FIRE:   23 17:45:40       -8.899996*       0.0015\n",
      "FIRE:   24 17:45:40       -8.899996*       0.0029\n",
      "FIRE:   25 17:45:40       -8.899996*       0.0028\n",
      "FIRE:   26 17:45:40       -8.899996*       0.0028\n",
      "FIRE:   27 17:45:40       -8.899996*       0.0027\n",
      "FIRE:   28 17:45:40       -8.899996*       0.0026\n",
      "FIRE:   29 17:45:40       -8.899996*       0.0025\n",
      "FIRE:   30 17:45:40       -8.899996*       0.0023\n",
      "FIRE:   31 17:45:40       -8.899996*       0.0022\n",
      "FIRE:   32 17:45:40       -8.899996*       0.0020\n",
      "FIRE:   33 17:45:40       -8.899996*       0.0017\n",
      "FIRE:   34 17:45:40       -8.899996*       0.0014\n",
      "FIRE:   35 17:45:40       -8.899996*       0.0010\n",
      "FIRE:   36 17:45:40       -8.899996*       0.0006\n",
      "FIRE:   37 17:45:40       -8.899996*       0.0001\n",
      "Fitting C_11\n",
      "Strain array([-0.02, -0.01,  0.  ,  0.01,  0.02])\n",
      "Stress array([-1.18132438e+01, -5.57640625e+00,  5.16699364e-04,  4.98363138e+00,\n",
      "        9.85155622e+00]) GPa\n",
      "Cij (gradient) / GPa    :     538.8963758636845\n",
      "Error in Cij / GPa      :     16.5825717045366\n",
      "Correlation coefficient :     0.9985827043591162\n",
      "Setting C11 (1) to 3.363527 +/- 0.103500\n",
      "\n",
      "\n",
      "Fitting C_21\n",
      "Strain array([-0.02, -0.01,  0.  ,  0.01,  0.02])\n",
      "Stress array([-5.18065223e+00, -2.29474891e+00,  5.16699364e-04,  1.85231305e+00,\n",
      "        3.74210436e+00]) GPa\n",
      "Cij (gradient) / GPa    :     219.92575154543857\n",
      "Error in Cij / GPa      :     12.448181242736544\n",
      "Correlation coefficient :     0.9952287298127411\n",
      "Setting C21 (7) to 1.372669 +/- 0.077695\n",
      "\n",
      "\n",
      "Fitting C_31\n",
      "Strain array([-0.02, -0.01,  0.  ,  0.01,  0.02])\n",
      "Stress array([-5.18065223e+00, -2.29474891e+00,  5.16699364e-04,  1.85231305e+00,\n",
      "        3.74210436e+00]) GPa\n",
      "Cij (gradient) / GPa    :     219.92575154543883\n",
      "Error in Cij / GPa      :     12.44818124273641\n",
      "Correlation coefficient :     0.9952287298127412\n",
      "Updating C31 (7) with value 1.372669 +/- 0.077695\n",
      "\n",
      "\n",
      "Fitting C_44\n",
      "Strain array([-0.02, -0.01,  0.  ,  0.01,  0.02])\n",
      "Stress array([-4.37402918e+00, -1.88648042e+00, -4.92161680e-16,  1.43561482e+00,\n",
      "        2.90478275e+00]) GPa\n",
      "Cij (gradient) / GPa    :     178.79719102977347\n",
      "Error in Cij / GPa      :     12.700273290907242\n",
      "Correlation coefficient :     0.9925165888430469\n",
      "Setting C44 (4) to 1.115964 +/- 0.079269\n",
      "\n",
      "\n",
      "[[b C11 b C12 b C12 b     b     b    ]\n",
      " [b C12 b C11 b C12 b     b     b    ]\n",
      " [b C12 b C12 b C11 b     b     b    ]\n",
      " [b     b     b     b C44 b     b    ]\n",
      " [b     b     b     b     b C44 b    ]\n",
      " [b     b     b     b     b     b C44]]\n",
      "\n",
      " = \n",
      "\n",
      "[[538.9  219.93 219.93   0.     0.     0.  ]\n",
      " [219.93 538.9  219.93   0.     0.     0.  ]\n",
      " [219.93 219.93 538.9    0.     0.     0.  ]\n",
      " [  0.     0.     0.   178.8    0.     0.  ]\n",
      " [  0.     0.     0.     0.   178.8    0.  ]\n",
      " [  0.     0.     0.     0.     0.   178.8 ]]\n",
      "C_11 = 538.90 +/- 16.58 GPa\n",
      "C_12 = 219.93 +/- 12.45 GPa\n",
      "C_44 = 178.80 +/- 12.70 GPa\n"
     ]
    }
   ],
   "source": [
    "# the calculator to provide forces and energies from the potential\n",
    "from matscipy.calculators.eam import EAM\n",
    "eam_calc = EAM(\"../../tests/w_eam4.fs\")\n",
    "\n",
    "# the function accepts any ASE type of calculator\n",
    "alat, C11, C12, C44 = get_elastic_constants(calculator=eam_calc, symbol=\"W\")"
   ]
  },
  {
   "cell_type": "code",
   "execution_count": 64,
   "metadata": {},
   "outputs": [
    {
     "name": "stdout",
     "output_type": "stream",
     "text": [
      "3.143 (Angstrom), 538.90, 219.93, 178.80 (GPa)\n"
     ]
    }
   ],
   "source": [
    "print(f\"{alat:.3f} (Angstrom), {C11:.2f}, {C12:.2f}, {C44:.2f} (GPa)\")"
   ]
  },
  {
   "cell_type": "markdown",
   "metadata": {},
   "source": [
    "The values are in good agreement with corresponding numbers in the paper: 3.143, 523, 202, 161"
   ]
  },
  {
   "cell_type": "markdown",
   "metadata": {},
   "source": [
    "### 1/2<111>{110} screw dislocation\n",
    "\n",
    "The notation 1/2<111>{110} means a dislocation with a burgers vector 1/2<111> and glide plane {110}. For screw dislocation, the dislocation line is parallel to the burgers vector, thus Z direction of the cell will be along <111>. The glide plane {110} fixes the Y direction to be <110> and the X direction is fixed by the geometry to be along <112>. However you do not have to think about it to start since `BCCScrew111Dislocation` object contains all the necessary information. All you need to do is to pass $a_0$ and elastic constants $C_{11}$, $C_{12}$ and $C_{44}$ and the symbol of the desired BCC element to the constructor."
   ]
  },
  {
   "cell_type": "code",
   "execution_count": 65,
   "metadata": {},
   "outputs": [
    {
     "name": "stdout",
     "output_type": "stream",
     "text": [
      "Cell orientation:\n",
      "[[ 1  1 -2]\n",
      " [-1  1  0]\n",
      " [ 1  1  1]]\n",
      "Burgers vector:\n",
      "[1.57169589 1.57169589 1.57169589]\n"
     ]
    }
   ],
   "source": [
    "from matscipy.dislocation import BCCScrew111Dislocation\n",
    "\n",
    "W_screw = BCCScrew111Dislocation(alat, C11, C12, C44, symbol=\"W\")\n",
    "\n",
    "print(\"Cell orientation:\")\n",
    "print(W_screw.axes)\n",
    "\n",
    "print(\"Burgers vector:\")\n",
    "print(W_screw.burgers)\n"
   ]
  },
  {
   "cell_type": "markdown",
   "metadata": {},
   "source": [
    "We are going to use `BCCScrew111Dislocation.build_cylinder()` function to build the cells. All the necessary parameters are passed automatically and we only need to chose the radius of the cell in (X,Y) plane. The function returns reference bulk cell and a cell containing dislocation. The displacement field is applied iteratively untill a converged value is achieved, the printed output prints the difference between the steps.  "
   ]
  },
  {
   "cell_type": "code",
   "execution_count": 66,
   "metadata": {},
   "outputs": [
    {
     "name": "stdout",
     "output_type": "stream",
     "text": [
      "disloc SCF 0 |d1-d2|_inf = 0.0014003702928255812\n",
      "disloc SCF 1 |d1-d2|_inf = 6.701013134463585e-06\n",
      "disloc SCF 2 |d1-d2|_inf = 3.20650794805033e-08\n"
     ]
    },
    {
     "name": "stdout",
     "output_type": "stream",
     "text": [
      "\n",
      "Cell vectors:\n",
      "[[61.59764738  0.          0.        ]\n",
      " [ 0.         62.23598202  0.        ]\n",
      " [ 0.          0.          2.72225714]]\n",
      "\n",
      " Burgers vector lenth:\n",
      "2.7222571354952314\n"
     ]
    },
    {
     "data": {
      "application/vnd.jupyter.widget-view+json": {
       "model_id": "16dd32fb62cb45d6ae8b36cc2860bc61",
       "version_major": 2,
       "version_minor": 0
      },
      "text/plain": [
       "NGLWidget()"
      ]
     },
     "metadata": {},
     "output_type": "display_data"
    }
   ],
   "source": [
    "W_screw_bulk, W_screw_dislo = W_screw.build_cylinder(radius=20)\n",
    "\n",
    "interactive_view(W_screw_dislo)\n",
    "\n",
    "print(\"\\nCell vectors:\")\n",
    "print(W_screw_dislo.cell.array)\n",
    "\n",
    "print(\"\\nBurgers vector lenth:\")\n",
    "print(np.linalg.norm(W_screw.burgers))\n",
    "\n",
    "interactive_view(W_screw_dislo)"
   ]
  },
  {
   "cell_type": "markdown",
   "metadata": {},
   "source": [
    "\n",
    "Here we have a cell with $|\\vec b| = \\frac{\\sqrt{3}}{2}a_0$ length along the dislocation line. With a periodic conditions along Z it corresponds to infinitely long straight dislocation line. Note that the periodic boundary conditions along the dislocation line are not applied in the visualisation. It makes it easier to see the displecement, but you might notice the atoms outside the simulation box. \n",
    "\n",
    "To increase the size of the cell along the line we can rely on the magic of [ASE](https://wiki.fysik.dtu.dk/ase/) and simply multiply the cell."
   ]
  },
  {
   "cell_type": "code",
   "execution_count": 67,
   "metadata": {},
   "outputs": [
    {
     "data": {
      "application/vnd.jupyter.widget-view+json": {
       "model_id": "ac787bd50eb14347b4717172407eefa5",
       "version_major": 2,
       "version_minor": 0
      },
      "text/plain": [
       "NGLWidget()"
      ]
     },
     "metadata": {},
     "output_type": "display_data"
    }
   ],
   "source": [
    "interactive_view(W_screw_dislo * [1, 1, 10])"
   ]
  },
  {
   "cell_type": "markdown",
   "metadata": {},
   "source": [
    "Since fo screw dislocations the displacement is parallel to the dislocation line, it is not easy to see the displacement without 3D tools. Thus so-called differential displacement (Vitek) maps are used to visualise the dislocation core. `matscipy.dislocation` offers a tool called `plot_vitek` to build these maps. The colors of the atoms represent three non equivalen planes of W atoms along <111> direction and the arrows represent the difference in displacement of atoms along Z direction. The visualisation below shows so-called compact and symmetric core, which is the most stable for BCC materials. "
   ]
  },
  {
   "cell_type": "code",
   "execution_count": 68,
   "metadata": {},
   "outputs": [
    {
     "data": {
      "image/png": "[encoded data removed]",
      "text/plain": [
       "<Figure size 432x288 with 1 Axes>"
      ]
     },
     "metadata": {
      "needs_background": "light"
     },
     "output_type": "display_data"
    }
   ],
   "source": [
    "fig, ax = plt.subplots()\n",
    "plot_vitek(W_screw_dislo, W_screw_bulk, alat=alat, xyscale=5, plot_axes=ax)\n",
    "ax.set_aspect(\"equal\")\n",
    "ax.set_xlabel(f\"{W_screw.axes[0]} direction ($\\AA$)\")\n",
    "ax.set_ylabel(f\"{W_screw.axes[1]} direction ($\\AA$)\");"
   ]
  },
  {
   "cell_type": "markdown",
   "metadata": {},
   "source": [
    "We can use the ASE minimisation tools to minimise the structure using the chosen interatomic potential:"
   ]
  },
  {
   "cell_type": "code",
   "execution_count": 69,
   "metadata": {
    "tags": [
     "hide-output"
    ]
   },
   "outputs": [
    {
     "name": "stdout",
     "output_type": "stream",
     "text": [
      "PreconLBFGS:   0  17:45:43    -1936.097809       2.5284\n",
      "PreconLBFGS:   1  17:45:46    -1936.291225       0.3596\n",
      "PreconLBFGS:   2  17:45:47    -1936.346345       0.2286\n",
      "PreconLBFGS:   3  17:45:48    -1936.361558       0.6206\n",
      "PreconLBFGS:   4  17:45:48    -1936.374387       0.1534\n",
      "PreconLBFGS:   5  17:45:49    -1936.377025       0.0604\n",
      "PreconLBFGS:   6  17:45:50    -1936.378171       0.0846\n",
      "PreconLBFGS:   7  17:45:52    -1936.378413       0.0449\n",
      "PreconLBFGS:   8  17:45:52    -1936.378520       0.0124\n",
      "PreconLBFGS:   9  17:45:53    -1936.378533       0.0059\n"
     ]
    },
    {
     "data": {
      "text/plain": [
       "True"
      ]
     },
     "execution_count": 69,
     "metadata": {},
     "output_type": "execute_result"
    }
   ],
   "source": [
    "W_screw_dislo.calc = eam_calc\n",
    "opt = PreconLBFGS(W_screw_dislo)\n",
    "opt.run(fmax=0.01)\n"
   ]
  },
  {
   "cell_type": "code",
   "execution_count": 70,
   "metadata": {},
   "outputs": [
    {
     "data": {
      "image/png": "[encoded data removed]",
      "text/plain": [
       "<Figure size 432x288 with 1 Axes>"
      ]
     },
     "metadata": {
      "needs_background": "light"
     },
     "output_type": "display_data"
    }
   ],
   "source": [
    "fig, ax = plt.subplots()\n",
    "plot_vitek(W_screw_dislo, W_screw_bulk, alat=alat, xyscale=5, plot_axes=ax)\n",
    "ax.set_aspect(\"equal\")\n",
    "ax.set_xlabel(f\"{W_screw.axes[0]} direction ($\\AA$)\")\n",
    "ax.set_ylabel(f\"{W_screw.axes[1]} direction ($\\AA$)\");"
   ]
  },
  {
   "cell_type": "markdown",
   "metadata": {},
   "source": [
    "Differential displacement map of the relaxed structure shows almost the same picture as before with symmetric 'easy' dislocation core. This means that for the selected interatomic potential this structure is indeed the most stable and that the initial guess of the displacement was reasonably good. "
   ]
  },
  {
   "cell_type": "markdown",
   "metadata": {},
   "source": [
    "### 1/2<111>{110} edge dislocation\n",
    "\n",
    "As we said before, for edge dislocations burgers vecort $\\vec b$ is perpendicular to the dislocation $\\vec l$. So here, we have the same glide plane of (110) which fixes the cell Y direction to <110>. X direction now will be along burgers vector <111> and Z dislocation line direction <112>."
   ]
  },
  {
   "cell_type": "code",
   "execution_count": 71,
   "metadata": {},
   "outputs": [
    {
     "name": "stdout",
     "output_type": "stream",
     "text": [
      "Cell orientation:\n",
      "[[ 1  1  1]\n",
      " [ 1 -1  0]\n",
      " [ 1  1 -2]]\n",
      "Brurgers vector:\n",
      "[1.57169589 1.57169589 1.57169589]\n"
     ]
    }
   ],
   "source": [
    "from matscipy.dislocation import BCCEdge111Dislocation\n",
    "\n",
    "W_edge = BCCEdge111Dislocation(alat, C11, C12, C44)\n",
    "\n",
    "print(\"Cell orientation:\")\n",
    "print(W_edge.axes)\n",
    "\n",
    "print(\"Burgers vector:\")\n",
    "print(W_edge.burgers)\n"
   ]
  },
  {
   "cell_type": "code",
   "execution_count": 72,
   "metadata": {},
   "outputs": [
    {
     "name": "stdout",
     "output_type": "stream",
     "text": [
      "disloc SCF 0 |d1-d2|_inf = 0.17503856559581366\n",
      "disloc SCF 1 |d1-d2|_inf = 0.030669955637878832\n",
      "disloc SCF 2 |d1-d2|_inf = 0.004376523884616179\n",
      "disloc SCF 3 |d1-d2|_inf = 0.0008807296154242916\n",
      "disloc SCF 4 |d1-d2|_inf = 0.0001545318258490136\n",
      "disloc SCF 5 |d1-d2|_inf = 2.611311185346521e-05\n",
      "disloc SCF 6 |d1-d2|_inf = 5.7489147281541975e-06\n",
      "disloc SCF 7 |d1-d2|_inf = 7.771344639473377e-07\n",
      "\n",
      "Cell vectors:\n",
      "[[54.44514271  0.          0.        ]\n",
      " [ 0.         53.34512744  0.        ]\n",
      " [ 0.          0.          7.69970592]]\n",
      "\n",
      " Burgers vector lenth:\n",
      "2.7222571354952314\n"
     ]
    },
    {
     "data": {
      "application/vnd.jupyter.widget-view+json": {
       "model_id": "be19a5730c794aae8b7eb68045b83c77",
       "version_major": 2,
       "version_minor": 0
      },
      "text/plain": [
       "NGLWidget()"
      ]
     },
     "metadata": {},
     "output_type": "display_data"
    }
   ],
   "source": [
    "W_edge_bulk, W_edge_dislo = W_edge.build_cylinder(radius=15)\n",
    "\n",
    "print(\"\\nCell vectors:\")\n",
    "print(W_edge_dislo.cell.array)\n",
    "\n",
    "print(\"\\nBurgers vector lenth:\")\n",
    "print(np.linalg.norm(W_edge.burgers))\n",
    "\n",
    "interactive_view(W_edge_dislo, scale=0.25)"
   ]
  },
  {
   "cell_type": "markdown",
   "metadata": {},
   "source": [
    "It can be seen that the case of edge dislocation the requires more iterations to achieve converged displacement field."
   ]
  },
  {
   "cell_type": "code",
   "execution_count": 73,
   "metadata": {
    "tags": [
     "hide-output"
    ]
   },
   "outputs": [
    {
     "name": "stdout",
     "output_type": "stream",
     "text": [
      "PreconLBFGS:   0  17:45:56    -3017.104358       5.8264\n",
      "PreconLBFGS:   1  17:46:00    -3017.709448       4.8423\n",
      "PreconLBFGS:   2  17:46:01    -3018.145844       3.6772\n",
      "PreconLBFGS:   3  17:46:02    -3018.509917       2.2949\n",
      "PreconLBFGS:   4  17:46:03    -3018.881065       1.4546\n",
      "PreconLBFGS:   5  17:46:05    -3019.131877       0.7014\n",
      "PreconLBFGS:   6  17:46:06    -3019.257094       0.4935\n",
      "PreconLBFGS:   7  17:46:07    -3019.309591       0.8500\n",
      "PreconLBFGS:   8  17:46:09    -3019.331649       0.4274\n",
      "PreconLBFGS:   9  17:46:11    -3019.339919       0.2540\n",
      "PreconLBFGS:  10  17:46:13    -3019.343713       0.2224\n",
      "PreconLBFGS:  11  17:46:14    -3019.345547       0.3021\n",
      "PreconLBFGS:  12  17:46:16    -3019.347613       0.1698\n",
      "PreconLBFGS:  13  17:46:17    -3019.348607       0.0915\n",
      "PreconLBFGS:  14  17:46:19    -3019.349042       0.0348\n",
      "PreconLBFGS:  15  17:46:20    -3019.349154       0.0489\n",
      "PreconLBFGS:  16  17:46:21    -3019.349259       0.0276\n",
      "PreconLBFGS:  17  17:46:23    -3019.349286       0.0100\n",
      "PreconLBFGS:  18  17:46:24    -3019.349297       0.0057\n"
     ]
    },
    {
     "data": {
      "text/plain": [
       "True"
      ]
     },
     "execution_count": 73,
     "metadata": {},
     "output_type": "execute_result"
    }
   ],
   "source": [
    "W_edge_dislo.calc = eam_calc\n",
    "opt = PreconLBFGS(W_edge_dislo)\n",
    "opt.run(fmax=0.01)"
   ]
  },
  {
   "cell_type": "code",
   "execution_count": 74,
   "metadata": {},
   "outputs": [
    {
     "data": {
      "application/vnd.jupyter.widget-view+json": {
       "model_id": "ffa1a678356e486d87749676e6ce4f85",
       "version_major": 2,
       "version_minor": 0
      },
      "text/plain": [
       "NGLWidget()"
      ]
     },
     "metadata": {},
     "output_type": "display_data"
    }
   ],
   "source": [
    "interactive_view(W_edge_dislo, scale=0.25)"
   ]
  },
  {
   "cell_type": "markdown",
   "metadata": {},
   "source": [
    "It can be seen that relaxed core structure differs significantly from the initial guess."
   ]
  },
  {
   "cell_type": "markdown",
   "metadata": {},
   "source": [
    "### 1/2<111>{110} mixed dislocation\n",
    "\n",
    "For mixed dislocation the cell vector are the same as for the screw dislocation. However the displacement vector is applied along <111> direction that is not parallel to the Z direction: [$1\\bar 11$] and [$1\\bar 1 \\bar1$] with an angle of 70.5 degrees between the vectors. This leads to both edge and screw component in the displacement and thus the name _mixed_ dislocation."
   ]
  },
  {
   "cell_type": "code",
   "execution_count": 104,
   "metadata": {},
   "outputs": [
    {
     "name": "stdout",
     "output_type": "stream",
     "text": [
      "Cell orientation:\n",
      "[[ 1 -1 -2]\n",
      " [ 1  1  0]\n",
      " [ 1 -1  1]]\n",
      "Burgers vector:\n",
      "[ 1.57169589 -1.57169589 -1.57169589]\n"
     ]
    }
   ],
   "source": [
    "from matscipy.dislocation import BCCMixed111Dislocation\n",
    "\n",
    "W_mixed = BCCMixed111Dislocation(alat, C11, C12, C44)\n",
    "\n",
    "print(\"Cell orientation:\")\n",
    "print(W_mixed.axes)\n",
    "\n",
    "print(\"Burgers vector:\")\n",
    "print(W_mixed.burgers)\n"
   ]
  },
  {
   "cell_type": "code",
   "execution_count": 105,
   "metadata": {},
   "outputs": [
    {
     "name": "stdout",
     "output_type": "stream",
     "text": [
      "disloc SCF 0 |d1-d2|_inf = 0.10539253373490873\n",
      "disloc SCF 1 |d1-d2|_inf = 0.018105901181897643\n",
      "disloc SCF 2 |d1-d2|_inf = 0.0028537827503362645\n",
      "disloc SCF 3 |d1-d2|_inf = 0.0004461832291074441\n",
      "disloc SCF 4 |d1-d2|_inf = 6.968773949250773e-05\n",
      "disloc SCF 5 |d1-d2|_inf = 1.0882737324524605e-05\n",
      "disloc SCF 6 |d1-d2|_inf = 1.6994622201171872e-06\n",
      "disloc SCF 7 |d1-d2|_inf = 2.6538950442800413e-07\n",
      "\n",
      "Cell vectors:\n",
      "[[61.59764738  0.          0.        ]\n",
      " [ 0.         62.23598202  0.        ]\n",
      " [ 0.          0.          2.72225714]]\n",
      "\n",
      "Burgers vector lenth:\n",
      "2.7222571354952314\n"
     ]
    },
    {
     "data": {
      "application/vnd.jupyter.widget-view+json": {
       "model_id": "e6e8cd4dd3f94b06a921d8bac0bc7c68",
       "version_major": 2,
       "version_minor": 0
      },
      "text/plain": [
       "NGLWidget()"
      ]
     },
     "metadata": {},
     "output_type": "display_data"
    }
   ],
   "source": [
    "W_mixed_bulk, W_mixed_dislo = W_mixed.build_cylinder(radius=17)\n",
    "\n",
    "print(\"\\nCell vectors:\")\n",
    "print(W_mixed_dislo.cell.array)\n",
    "\n",
    "print(\"\\nBurgers vector lenth:\")\n",
    "print(np.linalg.norm(W_mixed.burgers))\n",
    "\n",
    "interactive_view(W_mixed_dislo, scale=0.5)"
   ]
  },
  {
   "cell_type": "code",
   "execution_count": 111,
   "metadata": {},
   "outputs": [
    {
     "data": {
      "image/png": "[encoded data removed]",
      "text/plain": [
       "<Figure size 432x288 with 1 Axes>"
      ]
     },
     "metadata": {
      "needs_background": "light"
     },
     "output_type": "display_data"
    }
   ],
   "source": [
    "fig, ax = plt.subplots()\n",
    "plot_vitek(W_mixed_dislo, W_mixed_bulk, alat=alat, xyscale=8, plot_axes=ax)\n",
    "ax.set_aspect(\"equal\")\n",
    "ax.set_xlabel(f\"{W_mixed.axes[0]} direction ($\\AA$)\")\n",
    "ax.set_ylabel(f\"{W_mixed.axes[1]} direction ($\\AA$)\");"
   ]
  },
  {
   "cell_type": "markdown",
   "metadata": {},
   "source": [
    "It can be seen that the screw displacement component is not local as compared to the case of screw dislocation. This is because in this visualisation edge component of the displacement is not taken into account. It is the full displacement as screw plus edge component that makes a periodic vector leading to perfect structure and thus no displacement far from the dislocation core."
   ]
  },
  {
   "cell_type": "code",
   "execution_count": 112,
   "metadata": {
    "tags": [
     "hide-output"
    ]
   },
   "outputs": [
    {
     "name": "stdout",
     "output_type": "stream",
     "text": [
      "PreconLBFGS:   0  18:11:56    -1378.796211       6.1079\n",
      "PreconLBFGS:   1  18:11:58    -1379.177181       5.5696\n",
      "PreconLBFGS:   2  18:11:58    -1379.433631       3.8806\n",
      "PreconLBFGS:   3  18:11:59    -1379.678480       2.8772\n",
      "PreconLBFGS:   4  18:12:00    -1379.877549       1.7194\n",
      "PreconLBFGS:   5  18:12:00    -1380.025465       1.0665\n",
      "PreconLBFGS:   6  18:12:00    -1380.137886       0.4828\n",
      "PreconLBFGS:   7  18:12:01    -1380.207597       0.7496\n",
      "PreconLBFGS:   8  18:12:01    -1380.243102       0.6630\n",
      "PreconLBFGS:   9  18:12:02    -1380.255614       0.5914\n",
      "PreconLBFGS:  10  18:12:03    -1380.262569       0.6070\n",
      "PreconLBFGS:  11  18:12:03    -1380.272479       0.2771\n",
      "PreconLBFGS:  12  18:12:04    -1380.278208       0.2129\n",
      "PreconLBFGS:  13  18:12:05    -1380.283037       0.2463\n",
      "PreconLBFGS:  14  18:12:06    -1380.285827       0.1471\n",
      "PreconLBFGS:  15  18:12:06    -1380.287208       0.1001\n",
      "PreconLBFGS:  16  18:12:07    -1380.287801       0.0572\n",
      "PreconLBFGS:  17  18:12:07    -1380.287999       0.0161\n",
      "PreconLBFGS:  18  18:12:08    -1380.288042       0.0102\n",
      "PreconLBFGS:  19  18:12:09    -1380.288059       0.0061\n"
     ]
    },
    {
     "data": {
      "text/plain": [
       "True"
      ]
     },
     "execution_count": 112,
     "metadata": {},
     "output_type": "execute_result"
    }
   ],
   "source": [
    "W_mixed_dislo.calc = eam_calc\n",
    "opt = PreconLBFGS(W_mixed_dislo)\n",
    "opt.run(fmax=0.01)"
   ]
  },
  {
   "cell_type": "code",
   "execution_count": 91,
   "metadata": {},
   "outputs": [
    {
     "data": {
      "application/vnd.jupyter.widget-view+json": {
       "model_id": "dd80ae03bbe5421aa359fa4326d6534f",
       "version_major": 2,
       "version_minor": 0
      },
      "text/plain": [
       "NGLWidget()"
      ]
     },
     "metadata": {},
     "output_type": "display_data"
    }
   ],
   "source": [
    "interactive_view(W_mixed_dislo, scale=0.5)"
   ]
  },
  {
   "cell_type": "code",
   "execution_count": 113,
   "metadata": {},
   "outputs": [
    {
     "data": {
      "image/png": "[encoded data removed]",
      "text/plain": [
       "<Figure size 432x288 with 1 Axes>"
      ]
     },
     "metadata": {
      "needs_background": "light"
     },
     "output_type": "display_data"
    }
   ],
   "source": [
    "fig, ax = plt.subplots()\n",
    "plot_vitek(W_mixed_dislo, W_mixed_bulk, alat=alat, xyscale=8, plot_axes=ax)\n",
    "ax.set_aspect(\"equal\")\n",
    "ax.set_xlabel(f\"{W_mixed.axes[0]} direction ($\\AA$)\")\n",
    "ax.set_ylabel(f\"{W_mixed.axes[1]} direction ($\\AA$)\");"
   ]
  },
  {
   "cell_type": "markdown",
   "metadata": {},
   "source": [
    "Spreading of the dislocation core along the glide plane can be seen in the displacement map after relaxation."
   ]
  },
  {
   "cell_type": "markdown",
   "metadata": {},
   "source": [
    "### <100>{110} edge 'junction' dislocation\n",
    "\n",
    "So called junction dislocations with burdgers vector along <100> can be formed in the reactions between more abundant dislocations with burgers vector <111> such as: \n",
    "\n",
    "$$\n",
    "    \\frac{1}{2}[1\\bar{1}1] + \\frac{1}{2}[11\\bar{1}] = [100]\n",
    "$$\n",
    "\n",
    "They share the same glide plane ad 1/2<111> dislocations and can play important role in impurity segregation. "
   ]
  },
  {
   "cell_type": "code",
   "execution_count": 114,
   "metadata": {},
   "outputs": [
    {
     "name": "stdout",
     "output_type": "stream",
     "text": [
      "Cell orientation:\n",
      "[[ 1  0  0]\n",
      " [ 0  1  1]\n",
      " [ 0 -1  1]]\n",
      "Burgers vector:\n",
      "[3.14339178 0.         0.        ]\n"
     ]
    }
   ],
   "source": [
    "from matscipy.dislocation import BCCEdge100110Dislocation\n",
    "\n",
    "W_edge = BCCEdge100110Dislocation(alat, C11, C12, C44)\n",
    "\n",
    "print(\"Cell orientation:\")\n",
    "print(W_edge.axes)\n",
    "\n",
    "print(\"Burgers vector:\")\n",
    "print(W_edge.burgers)\n"
   ]
  },
  {
   "cell_type": "code",
   "execution_count": 115,
   "metadata": {},
   "outputs": [
    {
     "name": "stdout",
     "output_type": "stream",
     "text": [
      "disloc SCF 0 |d1-d2|_inf = 0.2560104778537572\n",
      "disloc SCF 1 |d1-d2|_inf = 0.060168332357741605\n",
      "disloc SCF 2 |d1-d2|_inf = 0.008688118653886967\n",
      "disloc SCF 3 |d1-d2|_inf = 0.002036828550612449\n",
      "disloc SCF 4 |d1-d2|_inf = 0.00025500431885919217\n",
      "disloc SCF 5 |d1-d2|_inf = 8.301996157844549e-05\n",
      "disloc SCF 6 |d1-d2|_inf = 1.657879984715005e-05\n",
      "disloc SCF 7 |d1-d2|_inf = 1.7271584200617696e-06\n",
      "disloc SCF 8 |d1-d2|_inf = 6.753730281694459e-07\n"
     ]
    },
    {
     "data": {
      "application/vnd.jupyter.widget-view+json": {
       "model_id": "d7fbb8ab564e4cd5868adc766d70fdd3",
       "version_major": 2,
       "version_minor": 0
      },
      "text/plain": [
       "NGLWidget()"
      ]
     },
     "metadata": {},
     "output_type": "display_data"
    }
   ],
   "source": [
    "W_edge_bulk, W_edge_dislo = W_edge.build_cylinder(radius=15)\n",
    "interactive_view(W_edge_dislo, scale=0.3)"
   ]
  },
  {
   "cell_type": "code",
   "execution_count": 116,
   "metadata": {
    "tags": [
     "hide-output"
    ]
   },
   "outputs": [
    {
     "name": "stdout",
     "output_type": "stream",
     "text": [
      "PreconLBFGS:   0  18:20:57    -1730.274578       3.4263\n",
      "PreconLBFGS:   1  18:20:59    -1730.777063       2.4833\n",
      "PreconLBFGS:   2  18:20:59    -1731.178752       2.1508\n",
      "PreconLBFGS:   3  18:21:00    -1731.476037       1.8161\n",
      "PreconLBFGS:   4  18:21:00    -1731.690456       1.3642\n",
      "PreconLBFGS:   5  18:21:01    -1731.853182       0.7967\n",
      "PreconLBFGS:   6  18:21:02    -1731.973529       0.6496\n",
      "PreconLBFGS:   7  18:21:02    -1732.026735       0.5298\n",
      "PreconLBFGS:   8  18:21:03    -1732.042318       0.2324\n",
      "PreconLBFGS:   9  18:21:04    -1732.049330       0.1783\n",
      "PreconLBFGS:  10  18:21:05    -1732.051240       0.1082\n",
      "PreconLBFGS:  11  18:21:06    -1732.052185       0.0623\n",
      "PreconLBFGS:  12  18:21:07    -1732.052429       0.0465\n",
      "PreconLBFGS:  13  18:21:09    -1732.052507       0.0273\n",
      "PreconLBFGS:  14  18:21:10    -1732.052541       0.0196\n",
      "PreconLBFGS:  15  18:21:12    -1732.052557       0.0112\n",
      "PreconLBFGS:  16  18:21:13    -1732.052567       0.0087\n"
     ]
    },
    {
     "data": {
      "text/plain": [
       "True"
      ]
     },
     "execution_count": 116,
     "metadata": {},
     "output_type": "execute_result"
    }
   ],
   "source": [
    "W_edge_dislo.calc = eam_calc\n",
    "opt = PreconLBFGS(W_edge_dislo)\n",
    "opt.run(fmax=0.01)"
   ]
  },
  {
   "cell_type": "code",
   "execution_count": 117,
   "metadata": {},
   "outputs": [
    {
     "data": {
      "application/vnd.jupyter.widget-view+json": {
       "model_id": "c28fbc37cabf46b7bffb8a6636ed2b1e",
       "version_major": 2,
       "version_minor": 0
      },
      "text/plain": [
       "NGLWidget()"
      ]
     },
     "metadata": {},
     "output_type": "display_data"
    }
   ],
   "source": [
    "interactive_view(W_edge_dislo, scale=0.3)"
   ]
  },
  {
   "cell_type": "markdown",
   "metadata": {},
   "source": [
    "### <100>{001} edge dislocation\n",
    "\n",
    "This is the same junction dislocation but lying in a different glide plane."
   ]
  },
  {
   "cell_type": "code",
   "execution_count": 118,
   "metadata": {},
   "outputs": [
    {
     "name": "stdout",
     "output_type": "stream",
     "text": [
      "Cell orientation:\n",
      "[[ 1  0  0]\n",
      " [ 0  0 -1]\n",
      " [ 0  1  0]]\n",
      "Burgers vector:\n",
      "[3.14339178 0.         0.        ]\n"
     ]
    }
   ],
   "source": [
    "from matscipy.dislocation import BCCEdge100Dislocation\n",
    "\n",
    "W_edge = BCCEdge100Dislocation(alat, C11, C12, C44)\n",
    "\n",
    "print(\"Cell orientation:\")\n",
    "print(W_edge.axes)\n",
    "\n",
    "print(\"Burgers vector:\")\n",
    "print(W_edge.burgers)\n"
   ]
  },
  {
   "cell_type": "code",
   "execution_count": 119,
   "metadata": {},
   "outputs": [
    {
     "name": "stdout",
     "output_type": "stream",
     "text": [
      "disloc SCF 0 |d1-d2|_inf = 0.2972369526680858\n",
      "disloc SCF 1 |d1-d2|_inf = 0.038938521701512574\n",
      "disloc SCF 2 |d1-d2|_inf = 0.011189887637262474\n",
      "disloc SCF 3 |d1-d2|_inf = 0.0014928978841749763\n",
      "disloc SCF 4 |d1-d2|_inf = 0.0004654204442429144\n",
      "disloc SCF 5 |d1-d2|_inf = 8.16202896045462e-05\n",
      "disloc SCF 6 |d1-d2|_inf = 1.3592535523576643e-05\n",
      "disloc SCF 7 |d1-d2|_inf = 4.370933882835715e-06\n",
      "disloc SCF 8 |d1-d2|_inf = 5.007789461095036e-07\n"
     ]
    },
    {
     "data": {
      "application/vnd.jupyter.widget-view+json": {
       "model_id": "2a990407a4144ae097f576fd3a8fa971",
       "version_major": 2,
       "version_minor": 0
      },
      "text/plain": [
       "NGLWidget()"
      ]
     },
     "metadata": {},
     "output_type": "display_data"
    }
   ],
   "source": [
    "W_edge_bulk, W_edge_dislo = W_edge.build_cylinder(radius=15)\n",
    "interactive_view(W_edge_dislo, scale=0.4)"
   ]
  },
  {
   "cell_type": "code",
   "execution_count": 120,
   "metadata": {
    "tags": [
     "hide-output"
    ]
   },
   "outputs": [
    {
     "name": "stdout",
     "output_type": "stream",
     "text": [
      "PreconLBFGS:   0  18:21:44    -1197.049020       4.0122\n",
      "PreconLBFGS:   1  18:21:46    -1197.620258       2.9055\n",
      "PreconLBFGS:   2  18:21:46    -1198.067899       2.6049\n",
      "PreconLBFGS:   3  18:21:47    -1198.399388       2.4441\n",
      "PreconLBFGS:   4  18:21:47    -1198.586897       1.1265\n",
      "PreconLBFGS:   5  18:21:47    -1198.671152       1.3040\n",
      "PreconLBFGS:   6  18:21:48    -1198.697964       0.7715\n",
      "PreconLBFGS:   7  18:21:49    -1198.716499       0.2101\n",
      "PreconLBFGS:   8  18:21:50    -1198.718510       0.1449\n",
      "PreconLBFGS:   9  18:21:50    -1198.719648       0.1189\n",
      "PreconLBFGS:  10  18:21:51    -1198.720365       0.0850\n",
      "PreconLBFGS:  11  18:21:52    -1198.720723       0.0767\n",
      "PreconLBFGS:  12  18:21:53    -1198.720870       0.0402\n",
      "PreconLBFGS:  13  18:21:54    -1198.720932       0.0269\n",
      "PreconLBFGS:  14  18:21:55    -1198.720978       0.0333\n",
      "PreconLBFGS:  15  18:21:56    -1198.721004       0.0175\n",
      "PreconLBFGS:  16  18:21:57    -1198.721017       0.0121\n",
      "PreconLBFGS:  17  18:21:58    -1198.721022       0.0046\n"
     ]
    },
    {
     "data": {
      "text/plain": [
       "True"
      ]
     },
     "execution_count": 120,
     "metadata": {},
     "output_type": "execute_result"
    }
   ],
   "source": [
    "W_edge_dislo.calc = eam_calc\n",
    "opt = PreconLBFGS(W_edge_dislo)\n",
    "opt.run(fmax=0.01)"
   ]
  },
  {
   "cell_type": "code",
   "execution_count": 121,
   "metadata": {},
   "outputs": [
    {
     "data": {
      "application/vnd.jupyter.widget-view+json": {
       "model_id": "a0056c8ee94a4568b71887325358d4b4",
       "version_major": 2,
       "version_minor": 0
      },
      "text/plain": [
       "NGLWidget()"
      ]
     },
     "metadata": {},
     "output_type": "display_data"
    }
   ],
   "source": [
    "interactive_view(W_edge_dislo, scale=0.4)"
   ]
  },
  {
   "cell_type": "markdown",
   "metadata": {},
   "source": [
    "## Face Centered Cubic\n",
    "\n",
    "Work in progress."
   ]
  },
  {
   "cell_type": "markdown",
   "metadata": {},
   "source": [
    "## Diamond \n",
    "\n",
    "Work in progress."
   ]
  },
  {
   "cell_type": "markdown",
   "metadata": {},
   "source": []
  }
 ],
 "metadata": {
  "kernelspec": {
   "display_name": "base",
   "language": "python",
   "name": "python3"
  },
  "language_info": {
   "codemirror_mode": {
    "name": "ipython",
    "version": 3
   },
   "file_extension": ".py",
   "mimetype": "text/x-python",
   "name": "python",
   "nbconvert_exporter": "python",
   "pygments_lexer": "ipython3",
   "version": "3.9.15"
  },
  "orig_nbformat": 4
 },
 "nbformat": 4,
 "nbformat_minor": 2
}
