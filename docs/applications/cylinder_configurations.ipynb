{
 "cells": [
  {
   "cell_type": "code",
   "execution_count": 54,
   "metadata": {},
   "outputs": [],
   "source": [
    "import numpy as np\n",
    "import matplotlib.pyplot as plt\n",
    "plt.rcParams['figure.figsize'] = (3, 3)\n",
    "\n",
    "from matscipy.dislocation import get_elastic_constants, plot_vitek\n",
    "\n",
    "from ase.optimize.precon import PreconLBFGS\n",
    "\n",
    "from ovito.io.ase import ase_to_ovito\n",
    "from ovito.modifiers import CommonNeighborAnalysisModifier, IdentifyDiamondModifier\n",
    "from ovito.pipeline import StaticSource, Pipeline\n",
    "\n",
    "# Get the results of Ovito Common Neighbor Analysis \n",
    "# https://www.ovito.org/docs/current/reference/pipelines/modifiers/common_neighbor_analysis.html\n",
    "# and Identify Diamond modifier\n",
    "# https://www.ovito.org/docs/current/reference/pipelines/modifiers/identify_diamond.html\n",
    "# for better visualisation of the dislocation core\n",
    "# it will be identified as \"other\" structure type\n",
    "def get_structure_types(structure, diamond_structure=False):\n",
    "    \"\"\"Get the results of Common Neighbor Analysis and \n",
    "        Identify Diamond modifiers from Ovito\n",
    "    Args:\n",
    "        structure (ase.atoms): input structure\n",
    "    Returns:\n",
    "        atom_labels (array of ints): per atom labels of the structure types\n",
    "        structure_names (list of strings): names of the structure types\n",
    "        colors (list of strings): colors of the structure types in hex format\n",
    "    \"\"\"\n",
    "    ovito_structure = structure.copy()\n",
    "    if \"fix_mask\" in ovito_structure.arrays:\n",
    "        del ovito_structure.arrays[\"fix_mask\"]\n",
    "    \n",
    "    if diamond_structure:\n",
    "        modifier = IdentifyDiamondModifier()\n",
    "    else:\n",
    "        modifier = CommonNeighborAnalysisModifier() \n",
    "    \n",
    "    data = ase_to_ovito(ovito_structure)\n",
    "    pipeline = Pipeline(source=StaticSource(data=data))\n",
    "    pipeline.modifiers.append(modifier)\n",
    "    data = pipeline.compute()\n",
    "\n",
    "    atom_labels = data.particles['Structure Type'].array\n",
    "\n",
    "    structure_names = [structure.name for structure in modifier.structures]\n",
    "    colors = [structure.color for structure in modifier.structures]\n",
    "    hex_colors = ['#{:02x}{:02x}{:02x}'.format(int(r*255), int(g*255), int(b*255)) for r, g, b in colors] \n",
    "\n",
    "    return atom_labels, structure_names, hex_colors\n",
    "\n",
    "# interactive visualisation  inside the notebook with nglview\n",
    "from nglview import show_ase, ASEStructure\n",
    "\n",
    "def add_dislocation(view, system, name, color=[0, 1, 0], x_shift=0.0):\n",
    "    '''Add dislocation line to the view as a cylinder and two cones.\n",
    "    The cylinder is hollow by default so the second cylinder is needed to close it.\n",
    "    In case partial distance is provided, two dislocation lines are added and are shifter accordingly.\n",
    "    '''\n",
    "    \n",
    "    center = system.positions.mean(axis=0)\n",
    "    view.shape.add_cylinder((center[0] + x_shift, center[1], -2.0), \n",
    "                            (center[0] + x_shift, center[1], system.cell[2][2] - 0.5),\n",
    "                            color,\n",
    "                            [0.3],\n",
    "                            name)\n",
    "    \n",
    "    view.shape.add_cone((center[0] + x_shift, center[1], -2.0), \n",
    "                        (center[0] + x_shift, center[1], 0.5),\n",
    "                        color,\n",
    "                        [0.3],\n",
    "                        name)\n",
    "       \n",
    "    view.shape.add_cone((center[0] + x_shift, center[1], system.cell[2][2] - 0.5), \n",
    "                        (center[0] + x_shift, center[1], system.cell[2][2] + 1.0),\n",
    "                        color,\n",
    "                        [0.55],\n",
    "                        name)\n",
    "    \n",
    "\n",
    "def interactive_view(system, scale=0.5, diamond_structure=False, add_bonds=False,\n",
    "                     d_name='', d_color=[0, 1, 0], partial_distance=None):\n",
    "\n",
    "    atom_labels, structure_names, colors = get_structure_types(system, \n",
    "                                                               diamond_structure=diamond_structure)\n",
    "\n",
    "    view = show_ase(system)\n",
    "    view.hide([0])\n",
    "    \n",
    "    if add_bonds: # add bonds between all atoms to have bonds between structures\n",
    "        component = view.add_component(ASEStructure(system), default_representation=False, name='between structures')\n",
    "        component.add_ball_and_stick(cylinderOnly=True, radiusType='covalent', radiusScale=scale, aspectRatio=0.1)\n",
    "    \n",
    "    for structure_type in np.unique(atom_labels):\n",
    "        # every structure type is a different component\n",
    "        mask = atom_labels == structure_type\n",
    "        component = view.add_component(ASEStructure(system[mask]), \n",
    "                                       default_representation=False, name=str(structure_names[structure_type]))\n",
    "        if add_bonds:\n",
    "            component.add_ball_and_stick(color=colors[structure_type], radiusType='covalent', radiusScale=scale)\n",
    "        else:\n",
    "            component.add_spacefill(color=colors[structure_type], radiusType='covalent', radiusScale=scale)\n",
    "        \n",
    "    component.add_unitcell()\n",
    "\n",
    "    if partial_distance is None:\n",
    "        add_dislocation(view, system, d_name + ' dislocation line', d_color)\n",
    "    else:\n",
    "        if type(d_name) == list:\n",
    "            add_dislocation(view, system, d_name[0] + ' dislocation line', d_color, x_shift= -partial_distance / 2.0)\n",
    "            add_dislocation(view, system, d_name[1] + ' dislocation line', d_color, x_shift= partial_distance / 2.0)\n",
    "        else:\n",
    "            add_dislocation(view, system, d_name + ' dislocation line', d_color, x_shift= -partial_distance / 2.0)\n",
    "            add_dislocation(view, system, d_name + ' dislocation line', d_color, x_shift= partial_distance / 2.0)\n",
    "\n",
    "    view.camera = 'orthographic'\n",
    "    view.parameters = {\"clipDist\": 0}\n",
    "\n",
    "    view._remote_call(\"setSize\", target=\"Widget\", args=[\"300px\", \"300px\"])\n",
    "    view.center()\n",
    "    \n",
    "    tooltip_js = \"\"\"\n",
    "                 this.stage.mouseControls.add('hoverPick', (stage, pickingProxy) => {\n",
    "                        let tooltip = this.stage.tooltip;\n",
    "                        if(pickingProxy && pickingProxy.atom && !pickingProxy.bond){\n",
    "                            let atom = pickingProxy.atom;\n",
    "                            tooltip.innerText = atom.atomname + \" atom: \" + atom.structure.name;\n",
    "                        } else if (pickingProxy && pickingProxy.bond){\n",
    "                            let bond = pickingProxy.bond;\n",
    "                            tooltip.innerText = bond.atom1.atomname + \"-\" + bond.atom2.atomname + \" bond: \" + bond.structure.name;\n",
    "                        } else if (pickingProxy && pickingProxy.unitcell){\n",
    "                            tooltip.innerText = \"Unit cell\";\n",
    "                        }\n",
    "                    });\n",
    "                 \"\"\"\n",
    "    view._js(tooltip_js)\n",
    "    return view\n"
   ]
  },
  {
   "cell_type": "markdown",
   "metadata": {},
   "source": [
    "# Building cylindrical configurations with dislocations\n",
    "\n",
    "![](dislocation_cylinder.png)\n",
    "\n",
    "The `matscipy.dislocation` provides a set of tools to create atomistic configurations containing dislocations. In this example we focus on cylindrical configurations. In order to create a dislocation we start with a cylinder of bulk material oriented along the vector of the future dislocation line $\\vec l$. By convention assumed in `matscipy.dislocation` Z direction of the cell always corresponds to the dislocation line $\\vec l$. Then a displacement field is applied to the cylinder and outer radial shell is fixed in order to stabilise the configuration. So we end up with periodic boundary conditions along the dislocation line (Z) and fixed boundaries along X and Y directions. \n",
    "\n",
    "Ase shown on the figure above, screw dislocations are characterised by a displacement with corresponding burgers vector $\\vec b$ parallel to the dislocation line $\\vec l$, while edge dislocations have the burgers vector $\\vec b$ perpendicular to $\\vec l$. Here we use an anisotrpoic solution within [Stroh formalism](https://doi.org/10.1080/14786435808565804) to generate displacement field as implemented in [atomman](https://www.ctcms.nist.gov/potentials/atomman/) package. Please note that for this example we use very small systems (small radius). For production calculations one should do a convergence tests with the system size in order to ensure that fixed boundaries do not affect the studied properties.\n"
   ]
  },
  {
   "cell_type": "markdown",
   "metadata": {},
   "source": [
    "## Body Centered Cubic \n",
    "\n",
    "Here we will use tungsten as an example BCC material. We need lattice parameter $a_0$ and elastic constants $C_{11}$, $C_{12}$ and $C_{44}$ to create dislocation configuration. For the case of _ab initio_ calculation one can provide corresponding values directly. For much faster calculations based on interatomic potentials `matscipy.dislocation` provides a convenient method `get_elastic_constants` to calculate desired properties. We will use and Embedded Atom Potential from [Marinica _et. al._ 2013 paper](http://dx.doi.org/10.1088/0953-8984/25/39/395502) (version EAM4) for the case of tungsten."
   ]
  },
  {
   "cell_type": "code",
   "execution_count": 2,
   "metadata": {
    "tags": [
     "hide-output"
    ]
   },
   "outputs": [
    {
     "name": "stdout",
     "output_type": "stream",
     "text": [
      "      Step     Time          Energy         fmax\n",
      "*Force-consistent energies used in optimization.\n",
      "FIRE:    0 14:23:33      -17.792788*       1.5616\n",
      "FIRE:    1 14:23:33      -17.796007*       1.2330\n",
      "FIRE:    2 14:23:33      -17.798904*       0.6354\n",
      "FIRE:    3 14:23:33      -17.799853*       0.2223\n",
      "FIRE:    4 14:23:33      -17.799882*       0.1976\n",
      "FIRE:    5 14:23:33      -17.799928*       0.1509\n",
      "FIRE:    6 14:23:33      -17.799970*       0.0870\n",
      "FIRE:    7 14:23:33      -17.799991*       0.0130\n",
      "FIRE:    8 14:23:33      -17.799981*       0.0629\n",
      "FIRE:    9 14:23:33      -17.799981*       0.0611\n",
      "FIRE:   10 14:23:33      -17.799982*       0.0576\n",
      "FIRE:   11 14:23:33      -17.799984*       0.0525\n",
      "FIRE:   12 14:23:33      -17.799986*       0.0458\n",
      "FIRE:   13 14:23:33      -17.799988*       0.0379\n",
      "FIRE:   14 14:23:33      -17.799989*       0.0289\n",
      "FIRE:   15 14:23:33      -17.799991*       0.0191\n",
      "FIRE:   16 14:23:33      -17.799991*       0.0076\n",
      "FIRE:   17 14:23:33      -17.799992*       0.0052\n",
      "FIRE:   18 14:23:33      -17.799992*       0.0052\n",
      "FIRE:   19 14:23:33      -17.799992*       0.0051\n",
      "FIRE:   20 14:23:33      -17.799992*       0.0049\n",
      "FIRE:   21 14:23:33      -17.799992*       0.0047\n",
      "FIRE:   22 14:23:33      -17.799992*       0.0044\n",
      "FIRE:   23 14:23:33      -17.799992*       0.0041\n",
      "FIRE:   24 14:23:34      -17.799992*       0.0038\n",
      "FIRE:   25 14:23:34      -17.799992*       0.0034\n",
      "FIRE:   26 14:23:34      -17.799992*       0.0028\n",
      "FIRE:   27 14:23:34      -17.799992*       0.0022\n",
      "FIRE:   28 14:23:34      -17.799992*       0.0015\n",
      "FIRE:   29 14:23:34      -17.799992*       0.0006\n",
      "FIRE:   30 14:23:34      -17.799992*       0.0003\n",
      "FIRE:   31 14:23:34      -17.799992*       0.0003\n",
      "FIRE:   32 14:23:34      -17.799992*       0.0003\n",
      "FIRE:   33 14:23:34      -17.799992*       0.0003\n",
      "FIRE:   34 14:23:34      -17.799992*       0.0003\n",
      "FIRE:   35 14:23:34      -17.799992*       0.0003\n",
      "FIRE:   36 14:23:34      -17.799992*       0.0003\n",
      "FIRE:   37 14:23:34      -17.799992*       0.0003\n",
      "FIRE:   38 14:23:34      -17.799992*       0.0002\n",
      "FIRE:   39 14:23:34      -17.799992*       0.0002\n",
      "FIRE:   40 14:23:34      -17.799992*       0.0002\n",
      "FIRE:   41 14:23:34      -17.799992*       0.0001\n",
      "FIRE:   42 14:23:34      -17.799992*       0.0001\n",
      "Fitting C_11\n",
      "Strain array([-0.02, -0.01,  0.  ,  0.01,  0.02])\n",
      "Stress array([-1.18143011e+01, -5.57729763e+00, -2.88261126e-04,  4.98286691e+00,\n",
      "        9.85079614e+00]) GPa\n",
      "Cij (gradient) / GPa    :     538.9035896451805\n",
      "Error in Cij / GPa      :     16.584381718776033\n",
      "Correlation coefficient :     0.9985824334709763\n",
      "Setting C11 (1) to 3.363572 +/- 0.103512\n",
      "\n",
      "\n",
      "Fitting C_21\n",
      "Strain array([-0.02, -0.01,  0.  ,  0.01,  0.02])\n",
      "Stress array([-5.18171556e+00, -2.29563243e+00, -2.88261126e-04,  1.85153957e+00,\n",
      "        3.74132626e+00]) GPa\n",
      "Cij (gradient) / GPa    :     219.93255649330877\n",
      "Error in Cij / GPa      :     12.450223131451542\n",
      "Correlation coefficient :     0.9952274688373499\n",
      "Setting C21 (7) to 1.372711 +/- 0.077708\n",
      "\n",
      "\n",
      "Fitting C_31\n",
      "Strain array([-0.02, -0.01,  0.  ,  0.01,  0.02])\n",
      "Stress array([-5.18171556e+00, -2.29563243e+00, -2.88261126e-04,  1.85153957e+00,\n",
      "        3.74132626e+00]) GPa\n",
      "Cij (gradient) / GPa    :     219.93255649330868\n",
      "Error in Cij / GPa      :     12.450223131451247\n",
      "Correlation coefficient :     0.9952274688373501\n",
      "Updating C31 (7) with value 1.372711 +/- 0.077708\n",
      "\n",
      "\n",
      "Fitting C_44\n",
      "Strain array([-0.02, -0.01,  0.  ,  0.01,  0.02])\n",
      "Stress array([-4.37426370e+00, -1.88654647e+00,  9.30635418e-15,  1.43563268e+00,\n",
      "        2.90478138e+00]) GPa\n",
      "Cij (gradient) / GPa    :     178.80269302570218\n",
      "Error in Cij / GPa      :     12.702352202927047\n",
      "Correlation coefficient :     0.9925146216927534\n",
      "Setting C44 (4) to 1.115999 +/- 0.079282\n",
      "\n",
      "\n",
      "[[b C11 b C12 b C12 b     b     b    ]\n",
      " [b C12 b C11 b C12 b     b     b    ]\n",
      " [b C12 b C12 b C11 b     b     b    ]\n",
      " [b     b     b     b C44 b     b    ]\n",
      " [b     b     b     b     b C44 b    ]\n",
      " [b     b     b     b     b     b C44]]\n",
      "\n",
      " = \n",
      "\n",
      "[[538.9  219.93 219.93   0.     0.     0.  ]\n",
      " [219.93 538.9  219.93   0.     0.     0.  ]\n",
      " [219.93 219.93 538.9    0.     0.     0.  ]\n",
      " [  0.     0.     0.   178.8    0.     0.  ]\n",
      " [  0.     0.     0.     0.   178.8    0.  ]\n",
      " [  0.     0.     0.     0.     0.   178.8 ]]\n",
      "C_11 = 538.90 +/- 16.58 GPa\n",
      "C_12 = 219.93 +/- 12.45 GPa\n",
      "C_44 = 178.80 +/- 12.70 GPa\n"
     ]
    }
   ],
   "source": [
    "# the calculator to provide forces and energies from the potential\n",
    "from matscipy.calculators.eam import EAM\n",
    "eam_calc = EAM(\"../../tests/w_eam4.fs\")\n",
    "\n",
    "# the function accepts any ASE type of calculator\n",
    "alat, C11, C12, C44 = get_elastic_constants(calculator=eam_calc, symbol=\"W\")"
   ]
  },
  {
   "cell_type": "code",
   "execution_count": 3,
   "metadata": {},
   "outputs": [
    {
     "name": "stdout",
     "output_type": "stream",
     "text": [
      "3.143 (Angstrom), 538.90, 219.93, 178.80 (GPa)\n"
     ]
    }
   ],
   "source": [
    "print(f\"{alat:.3f} (Angstrom), {C11:.2f}, {C12:.2f}, {C44:.2f} (GPa)\")"
   ]
  },
  {
   "cell_type": "markdown",
   "metadata": {},
   "source": [
    "The values are in good agreement with corresponding numbers in the paper: 3.143, 523, 202, 161"
   ]
  },
  {
   "cell_type": "markdown",
   "metadata": {},
   "source": [
    "### 1/2<111>{110} screw dislocation\n",
    "\n",
    "The notation 1/2<111>{110} means a dislocation with a burgers vector 1/2<111> and glide plane {110}. For screw dislocation, the dislocation line is parallel to the burgers vector, thus Z direction of the cell will be along <111>. The glide plane {110} fixes the Y direction to be <110> and the X direction is fixed by the geometry to be along <112>. However you do not have to think about it to start since `BCCScrew111Dislocation` object contains all the necessary information. All you need to do is to pass $a_0$ and elastic constants $C_{11}$, $C_{12}$ and $C_{44}$ and the symbol of the desired BCC element to the constructor."
   ]
  },
  {
   "cell_type": "code",
   "execution_count": 227,
   "metadata": {},
   "outputs": [
    {
     "name": "stdout",
     "output_type": "stream",
     "text": [
      "Cell orientation:\n",
      "[[ 1  1 -2]\n",
      " [-1  1  0]\n",
      " [ 1  1  1]]\n",
      "Burgers vector:\n",
      "[1.57169453 1.57169453 1.57169453]\n"
     ]
    }
   ],
   "source": [
    "from matscipy.dislocation import BCCScrew111Dislocation\n",
    "\n",
    "W_screw = BCCScrew111Dislocation(alat, C11, C12, C44, symbol=\"W\")\n",
    "\n",
    "print(\"Cell orientation:\")\n",
    "print(W_screw.axes)\n",
    "\n",
    "print(\"Burgers vector:\")\n",
    "print(W_screw.burgers)\n"
   ]
  },
  {
   "cell_type": "markdown",
   "metadata": {},
   "source": [
    "We are going to use `BCCScrew111Dislocation.build_cylinder()` method to build the cells. All the necessary parameters are passed automatically and we only need to chose the radius of the cell in (X,Y) plane. The function returns reference bulk cell and a cell containing dislocation. The displacement field is applied iteratively untill a converged value is achieved, the printed output prints the difference between the steps. The radius provided is a parameter is a radius of unconstrained region around the core. The outer shell of fixed atoms is added on top of this. The default value is 10 Angstom which is about two times larger than a cutoff for the used interatomic potential."
   ]
  },
  {
   "cell_type": "code",
   "execution_count": 274,
   "metadata": {},
   "outputs": [
    {
     "name": "stdout",
     "output_type": "stream",
     "text": [
      "disloc SCF 0 |d1-d2|_inf = 0.001400723332078968\n",
      "disloc SCF 1 |d1-d2|_inf = 6.704394990092455e-06\n",
      "disloc SCF 2 |d1-d2|_inf = 3.2089362583809233e-08\n",
      "\n",
      "Cell vectors:\n",
      "[[61.59759392  0.          0.        ]\n",
      " [ 0.         62.235928    0.        ]\n",
      " [ 0.          0.          2.72225477]]\n",
      "\n",
      "Burgers vector lenth:\n",
      "2.722254772666657\n"
     ]
    },
    {
     "data": {
      "application/vnd.jupyter.widget-view+json": {
       "model_id": "8bf2c64e1a9348b1bd86d6ba9c9d7f02",
       "version_major": 2,
       "version_minor": 0
      },
      "text/plain": [
       "NGLWidget()"
      ]
     },
     "metadata": {},
     "output_type": "display_data"
    }
   ],
   "source": [
    "W_screw_bulk, W_screw_dislo = W_screw.build_cylinder(radius=20)\n",
    "\n",
    "print(\"\\nCell vectors:\")\n",
    "print(W_screw_dislo.cell.array)\n",
    "\n",
    "print(\"\\nBurgers vector lenth:\")\n",
    "print(np.linalg.norm(W_screw.burgers))\n",
    "\n",
    "interactive_view(W_screw_dislo, d_name=\"1/2<111> screw\")"
   ]
  },
  {
   "cell_type": "markdown",
   "metadata": {},
   "source": [
    "\n",
    "Here we have a cell with $|\\vec b| = \\frac{\\sqrt{3}}{2}a_0$ length along the dislocation line. With a periodic conditions along Z it corresponds to infinitely long straight dislocation line. Note that the periodic boundary conditions along the dislocation line are not applied in the visualisation. It makes it easier to see the displecement, but you might notice the atoms outside the simulation box. \n",
    "\n",
    "To increase the size of the cell along the line we can rely on the magic of [ASE](https://wiki.fysik.dtu.dk/ase/) and simply multiply the cell."
   ]
  },
  {
   "cell_type": "code",
   "execution_count": 229,
   "metadata": {},
   "outputs": [
    {
     "data": {
      "application/vnd.jupyter.widget-view+json": {
       "model_id": "3c78707531824c68ae7d8661e50fc52c",
       "version_major": 2,
       "version_minor": 0
      },
      "text/plain": [
       "NGLWidget()"
      ]
     },
     "metadata": {},
     "output_type": "display_data"
    }
   ],
   "source": [
    "interactive_view(W_screw_dislo * [1, 1, 10], d_name=\"1/2<111> screw\")"
   ]
  },
  {
   "cell_type": "markdown",
   "metadata": {},
   "source": [
    "Since fo screw dislocations the displacement is parallel to the dislocation line, it is not easy to see the displacement without 3D tools. Thus so-called differential displacement (Vitek) maps are used to visualise the dislocation core. `matscipy.dislocation` offers a tool called {py:meth}`matscipy.dislocation.plot_vitek` to build these maps. The colors of the atoms represent three non equivalen planes of W atoms along <111> direction and the arrows represent the difference in displacement of atoms along Z direction. The visualisation below shows so-called compact and symmetric core, which is the most stable for BCC materials. "
   ]
  },
  {
   "cell_type": "code",
   "execution_count": 230,
   "metadata": {},
   "outputs": [
    {
     "data": {
      "image/png": "[encoded data removed]",
      "text/plain": [
       "<Figure size 432x288 with 1 Axes>"
      ]
     },
     "metadata": {
      "needs_background": "light"
     },
     "output_type": "display_data"
    }
   ],
   "source": [
    "fig, ax = plt.subplots()\n",
    "plot_vitek(W_screw_dislo, W_screw_bulk, alat=alat, xyscale=5, plot_axes=ax)\n",
    "ax.set_aspect(\"equal\")\n",
    "ax.set_xlabel(f\"{W_screw.axes[0]} direction ($\\AA$)\")\n",
    "ax.set_ylabel(f\"{W_screw.axes[1]} direction ($\\AA$)\");"
   ]
  },
  {
   "cell_type": "markdown",
   "metadata": {},
   "source": [
    "We can use the ASE minimisation tools to minimise the structure using the chosen interatomic potential:"
   ]
  },
  {
   "cell_type": "code",
   "execution_count": 231,
   "metadata": {
    "tags": [
     "hide-output"
    ]
   },
   "outputs": [
    {
     "name": "stdout",
     "output_type": "stream",
     "text": [
      "PreconLBFGS:   0  19:17:49    -1936.097946       2.5284\n",
      "PreconLBFGS:   1  19:17:52    -1936.291357       0.3596\n",
      "PreconLBFGS:   2  19:17:53    -1936.346476       0.2286\n",
      "PreconLBFGS:   3  19:17:53    -1936.361691       0.6206\n",
      "PreconLBFGS:   4  19:17:54    -1936.374519       0.1534\n",
      "PreconLBFGS:   5  19:17:55    -1936.377157       0.0604\n",
      "PreconLBFGS:   6  19:17:55    -1936.378302       0.0847\n",
      "PreconLBFGS:   7  19:17:57    -1936.378545       0.0449\n",
      "PreconLBFGS:   8  19:17:58    -1936.378652       0.0124\n",
      "PreconLBFGS:   9  19:17:59    -1936.378665       0.0059\n"
     ]
    },
    {
     "data": {
      "text/plain": [
       "True"
      ]
     },
     "execution_count": 231,
     "metadata": {},
     "output_type": "execute_result"
    }
   ],
   "source": [
    "W_screw_dislo.calc = eam_calc\n",
    "opt = PreconLBFGS(W_screw_dislo)\n",
    "opt.run(fmax=0.01)\n"
   ]
  },
  {
   "cell_type": "code",
   "execution_count": 232,
   "metadata": {},
   "outputs": [
    {
     "data": {
      "image/png": "[encoded data removed]",
      "text/plain": [
       "<Figure size 432x288 with 1 Axes>"
      ]
     },
     "metadata": {
      "needs_background": "light"
     },
     "output_type": "display_data"
    }
   ],
   "source": [
    "fig, ax = plt.subplots()\n",
    "plot_vitek(W_screw_dislo, W_screw_bulk, alat=alat, xyscale=5, plot_axes=ax)\n",
    "ax.set_aspect(\"equal\")\n",
    "ax.set_xlabel(f\"{W_screw.axes[0]} direction ($\\AA$)\")\n",
    "ax.set_ylabel(f\"{W_screw.axes[1]} direction ($\\AA$)\");"
   ]
  },
  {
   "cell_type": "markdown",
   "metadata": {},
   "source": [
    "Differential displacement map of the relaxed structure shows almost the same picture as before with symmetric 'easy' dislocation core. This means that for the selected interatomic potential this structure is indeed the most stable and that the initial guess of the displacement was reasonably good. "
   ]
  },
  {
   "cell_type": "markdown",
   "metadata": {},
   "source": [
    "### 1/2<111>{110} edge dislocation\n",
    "\n",
    "As we said before, for edge dislocations burgers vecort $\\vec b$ is perpendicular to the dislocation $\\vec l$. So here, we have the same glide plane of (110) which fixes the cell Y direction to <110>. X direction now will be along burgers vector <111> and Z dislocation line direction <112>."
   ]
  },
  {
   "cell_type": "code",
   "execution_count": 233,
   "metadata": {},
   "outputs": [
    {
     "name": "stdout",
     "output_type": "stream",
     "text": [
      "Cell orientation:\n",
      "[[ 1  1  1]\n",
      " [ 1 -1  0]\n",
      " [ 1  1 -2]]\n",
      "Burgers vector:\n",
      "[1.57169453 1.57169453 1.57169453]\n"
     ]
    }
   ],
   "source": [
    "from matscipy.dislocation import BCCEdge111Dislocation\n",
    "\n",
    "W_edge = BCCEdge111Dislocation(alat, C11, C12, C44, symbol=\"W\")\n",
    "\n",
    "print(\"Cell orientation:\")\n",
    "print(W_edge.axes)\n",
    "\n",
    "print(\"Burgers vector:\")\n",
    "print(W_edge.burgers)\n"
   ]
  },
  {
   "cell_type": "code",
   "execution_count": 238,
   "metadata": {},
   "outputs": [
    {
     "name": "stdout",
     "output_type": "stream",
     "text": [
      "disloc SCF 0 |d1-d2|_inf = 0.17503717189385382\n",
      "disloc SCF 1 |d1-d2|_inf = 0.030669651063355258\n",
      "disloc SCF 2 |d1-d2|_inf = 0.004376489640269432\n",
      "disloc SCF 3 |d1-d2|_inf = 0.0008807112000284167\n",
      "disloc SCF 4 |d1-d2|_inf = 0.00015452837692353505\n",
      "disloc SCF 5 |d1-d2|_inf = 2.6112647029508107e-05\n",
      "disloc SCF 6 |d1-d2|_inf = 5.7487804006051135e-06\n",
      "disloc SCF 7 |d1-d2|_inf = 7.771108773702018e-07\n",
      "\n",
      "Cell vectors:\n",
      "[[54.44509545  0.          0.        ]\n",
      " [ 0.         53.34508114  0.        ]\n",
      " [ 0.          0.          7.69969924]]\n",
      "\n",
      "Burgers vector lenth:\n",
      "2.722254772666657\n"
     ]
    },
    {
     "data": {
      "application/vnd.jupyter.widget-view+json": {
       "model_id": "2a275f7303094415b43b3079fbb99734",
       "version_major": 2,
       "version_minor": 0
      },
      "text/plain": [
       "NGLWidget()"
      ]
     },
     "metadata": {},
     "output_type": "display_data"
    }
   ],
   "source": [
    "W_edge_bulk, W_edge_dislo = W_edge.build_cylinder(radius=15)\n",
    "\n",
    "print(\"\\nCell vectors:\")\n",
    "print(W_edge_dislo.cell.array)\n",
    "\n",
    "print(\"\\nBurgers vector lenth:\")\n",
    "print(np.linalg.norm(W_edge.burgers))\n",
    "\n",
    "interactive_view(W_edge_dislo, scale=0.25, d_name=\"1/2<111> edge\")"
   ]
  },
  {
   "cell_type": "markdown",
   "metadata": {},
   "source": [
    "It can be seen that the case of edge dislocation the requires more iterations to achieve converged displacement field."
   ]
  },
  {
   "cell_type": "code",
   "execution_count": 235,
   "metadata": {
    "tags": [
     "hide-output"
    ]
   },
   "outputs": [
    {
     "name": "stdout",
     "output_type": "stream",
     "text": [
      "PreconLBFGS:   0  19:18:04    -3017.104472       5.8264\n",
      "PreconLBFGS:   1  19:18:09    -3017.709557       4.8423\n",
      "PreconLBFGS:   2  19:18:10    -3018.145952       3.6773\n",
      "PreconLBFGS:   3  19:18:11    -3018.510026       2.2950\n",
      "PreconLBFGS:   4  19:18:12    -3018.881181       1.4546\n",
      "PreconLBFGS:   5  19:18:14    -3019.132006       0.7013\n",
      "PreconLBFGS:   6  19:18:15    -3019.257226       0.4936\n",
      "PreconLBFGS:   7  19:18:16    -3019.309721       0.8501\n",
      "PreconLBFGS:   8  19:18:18    -3019.331783       0.4275\n",
      "PreconLBFGS:   9  19:18:21    -3019.340055       0.2540\n",
      "PreconLBFGS:  10  19:18:23    -3019.343848       0.2224\n",
      "PreconLBFGS:  11  19:18:24    -3019.345682       0.3022\n",
      "PreconLBFGS:  12  19:18:26    -3019.347748       0.1698\n",
      "PreconLBFGS:  13  19:18:27    -3019.348742       0.0915\n",
      "PreconLBFGS:  14  19:18:30    -3019.349178       0.0348\n",
      "PreconLBFGS:  15  19:18:31    -3019.349290       0.0489\n",
      "PreconLBFGS:  16  19:18:32    -3019.349394       0.0276\n",
      "PreconLBFGS:  17  19:18:34    -3019.349421       0.0100\n",
      "PreconLBFGS:  18  19:18:35    -3019.349433       0.0057\n"
     ]
    },
    {
     "data": {
      "text/plain": [
       "True"
      ]
     },
     "execution_count": 235,
     "metadata": {},
     "output_type": "execute_result"
    }
   ],
   "source": [
    "W_edge_dislo.calc = eam_calc\n",
    "opt = PreconLBFGS(W_edge_dislo)\n",
    "opt.run(fmax=0.01)"
   ]
  },
  {
   "cell_type": "code",
   "execution_count": 239,
   "metadata": {},
   "outputs": [
    {
     "data": {
      "application/vnd.jupyter.widget-view+json": {
       "model_id": "f6d10e6fe3d548acab18b1562e4985f3",
       "version_major": 2,
       "version_minor": 0
      },
      "text/plain": [
       "NGLWidget()"
      ]
     },
     "metadata": {},
     "output_type": "display_data"
    }
   ],
   "source": [
    "interactive_view(W_edge_dislo, scale=0.25)"
   ]
  },
  {
   "cell_type": "markdown",
   "metadata": {},
   "source": [
    "It can be seen that relaxed core structure differs significantly from the initial guess."
   ]
  },
  {
   "cell_type": "markdown",
   "metadata": {},
   "source": [
    "### 1/2<111>{110} mixed dislocation\n",
    "\n",
    "For mixed dislocation the cell vector are the same as for the screw dislocation. However the displacement vector is applied along <111> direction that is not parallel to the Z direction: [$1\\bar 11$] and [$1\\bar 1 \\bar1$] with an angle of 70.5 degrees between the vectors. This leads to both edge and screw component in the displacement and thus the name _mixed_ dislocation."
   ]
  },
  {
   "cell_type": "code",
   "execution_count": 240,
   "metadata": {},
   "outputs": [
    {
     "name": "stdout",
     "output_type": "stream",
     "text": [
      "Cell orientation:\n",
      "[[ 1 -1 -2]\n",
      " [ 1  1  0]\n",
      " [ 1 -1  1]]\n",
      "Burgers vector:\n",
      "[ 1.57169453 -1.57169453 -1.57169453]\n"
     ]
    }
   ],
   "source": [
    "from matscipy.dislocation import BCCMixed111Dislocation\n",
    "\n",
    "W_mixed = BCCMixed111Dislocation(alat, C11, C12, C44, symbol=\"W\")\n",
    "\n",
    "print(\"Cell orientation:\")\n",
    "print(W_mixed.axes)\n",
    "\n",
    "print(\"Burgers vector:\")\n",
    "print(W_mixed.burgers)\n"
   ]
  },
  {
   "cell_type": "code",
   "execution_count": 241,
   "metadata": {},
   "outputs": [
    {
     "name": "stdout",
     "output_type": "stream",
     "text": [
      "disloc SCF 0 |d1-d2|_inf = 0.10539187767041772\n",
      "disloc SCF 1 |d1-d2|_inf = 0.018105716735450528\n",
      "disloc SCF 2 |d1-d2|_inf = 0.002853744720166418\n",
      "disloc SCF 3 |d1-d2|_inf = 0.00044617599789692486\n",
      "disloc SCF 4 |d1-d2|_inf = 6.968641396387643e-05\n",
      "disloc SCF 5 |d1-d2|_inf = 1.0882499856867955e-05\n",
      "disloc SCF 6 |d1-d2|_inf = 1.6994203833053945e-06\n",
      "disloc SCF 7 |d1-d2|_inf = 2.653822296916353e-07\n",
      "\n",
      "Cell vectors:\n",
      "[[61.59759392  0.          0.        ]\n",
      " [ 0.         62.235928    0.        ]\n",
      " [ 0.          0.          2.72225477]]\n",
      "\n",
      "Burgers vector lenth:\n",
      "2.722254772666657\n"
     ]
    },
    {
     "data": {
      "application/vnd.jupyter.widget-view+json": {
       "model_id": "28e1994c3bc9403c874d569d5e6c7347",
       "version_major": 2,
       "version_minor": 0
      },
      "text/plain": [
       "NGLWidget()"
      ]
     },
     "metadata": {},
     "output_type": "display_data"
    }
   ],
   "source": [
    "W_mixed_bulk, W_mixed_dislo = W_mixed.build_cylinder(radius=17)\n",
    "\n",
    "print(\"\\nCell vectors:\")\n",
    "print(W_mixed_dislo.cell.array)\n",
    "\n",
    "print(\"\\nBurgers vector lenth:\")\n",
    "print(np.linalg.norm(W_mixed.burgers))\n",
    "\n",
    "interactive_view(W_mixed_dislo, scale=0.5, d_name=\"1/2<111> mixed\")"
   ]
  },
  {
   "cell_type": "code",
   "execution_count": 17,
   "metadata": {},
   "outputs": [
    {
     "data": {
      "image/png": "[encoded data removed]",
      "text/plain": [
       "<Figure size 432x288 with 1 Axes>"
      ]
     },
     "metadata": {
      "needs_background": "light"
     },
     "output_type": "display_data"
    }
   ],
   "source": [
    "fig, ax = plt.subplots()\n",
    "plot_vitek(W_mixed_dislo, W_mixed_bulk, alat=alat, xyscale=8, plot_axes=ax)\n",
    "ax.set_aspect(\"equal\")\n",
    "ax.set_xlabel(f\"{W_mixed.axes[0]} direction ($\\AA$)\")\n",
    "ax.set_ylabel(f\"{W_mixed.axes[1]} direction ($\\AA$)\");"
   ]
  },
  {
   "cell_type": "markdown",
   "metadata": {},
   "source": [
    "It can be seen that the screw displacement component is not local as compared to the case of screw dislocation. This is because in this visualisation edge component of the displacement is not taken into account. It is the full displacement as screw plus edge component that makes a periodic vector leading to perfect structure and thus no displacement far from the dislocation core."
   ]
  },
  {
   "cell_type": "code",
   "execution_count": 18,
   "metadata": {
    "tags": [
     "hide-output"
    ]
   },
   "outputs": [
    {
     "name": "stdout",
     "output_type": "stream",
     "text": [
      "PreconLBFGS:   0  03:38:20    -1378.796248       6.1079\n",
      "PreconLBFGS:   1  03:38:22    -1379.177213       5.5696\n",
      "PreconLBFGS:   2  03:38:22    -1379.433663       3.8807\n",
      "PreconLBFGS:   3  03:38:23    -1379.678510       2.8773\n",
      "PreconLBFGS:   4  03:38:23    -1379.877582       1.7195\n",
      "PreconLBFGS:   5  03:38:24    -1380.025502       1.0666\n",
      "PreconLBFGS:   6  03:38:24    -1380.137929       0.4829\n",
      "PreconLBFGS:   7  03:38:25    -1380.207642       0.7498\n",
      "PreconLBFGS:   8  03:38:25    -1380.243153       0.6631\n",
      "PreconLBFGS:   9  03:38:26    -1380.255664       0.5914\n",
      "PreconLBFGS:  10  03:38:26    -1380.262623       0.6067\n",
      "PreconLBFGS:  11  03:38:27    -1380.272531       0.2770\n",
      "PreconLBFGS:  12  03:38:28    -1380.278262       0.2130\n",
      "PreconLBFGS:  13  03:38:28    -1380.283088       0.2465\n",
      "PreconLBFGS:  14  03:38:29    -1380.285881       0.1471\n",
      "PreconLBFGS:  15  03:38:29    -1380.287260       0.1000\n",
      "PreconLBFGS:  16  03:38:30    -1380.287853       0.0572\n",
      "PreconLBFGS:  17  03:38:30    -1380.288051       0.0161\n",
      "PreconLBFGS:  18  03:38:31    -1380.288094       0.0102\n",
      "PreconLBFGS:  19  03:38:31    -1380.288111       0.0061\n"
     ]
    },
    {
     "data": {
      "text/plain": [
       "True"
      ]
     },
     "execution_count": 18,
     "metadata": {},
     "output_type": "execute_result"
    }
   ],
   "source": [
    "W_mixed_dislo.calc = eam_calc\n",
    "opt = PreconLBFGS(W_mixed_dislo)\n",
    "opt.run(fmax=0.01)"
   ]
  },
  {
   "cell_type": "code",
   "execution_count": 133,
   "metadata": {},
   "outputs": [
    {
     "ename": "NameError",
     "evalue": "name 'W_mixed_dislo' is not defined",
     "output_type": "error",
     "traceback": [
      "\u001b[0;31m---------------------------------------------------------------------------\u001b[0m",
      "\u001b[0;31mNameError\u001b[0m                                 Traceback (most recent call last)",
      "\u001b[1;32m/home/petr/gits/matscipy/docs/applications/cylinder_configurations.ipynb Cell 32\u001b[0m line \u001b[0;36m<cell line: 1>\u001b[0;34m()\u001b[0m\n\u001b[0;32m----> <a href='vscode-notebook-cell:/home/petr/gits/matscipy/docs/applications/cylinder_configurations.ipynb#X43sZmlsZQ%3D%3D?line=0'>1</a>\u001b[0m interactive_view(W_mixed_dislo, scale\u001b[39m=\u001b[39m\u001b[39m0.5\u001b[39m)\n",
      "\u001b[0;31mNameError\u001b[0m: name 'W_mixed_dislo' is not defined"
     ]
    }
   ],
   "source": [
    "interactive_view(W_mixed_dislo, scale=0.5)"
   ]
  },
  {
   "cell_type": "code",
   "execution_count": 20,
   "metadata": {},
   "outputs": [
    {
     "data": {
      "image/png": "[encoded data removed]",
      "text/plain": [
       "<Figure size 432x288 with 1 Axes>"
      ]
     },
     "metadata": {
      "needs_background": "light"
     },
     "output_type": "display_data"
    }
   ],
   "source": [
    "fig, ax = plt.subplots()\n",
    "plot_vitek(W_mixed_dislo, W_mixed_bulk, alat=alat, xyscale=8, plot_axes=ax)\n",
    "ax.set_aspect(\"equal\")\n",
    "ax.set_xlabel(f\"{W_mixed.axes[0]} direction ($\\AA$)\")\n",
    "ax.set_ylabel(f\"{W_mixed.axes[1]} direction ($\\AA$)\");"
   ]
  },
  {
   "cell_type": "markdown",
   "metadata": {},
   "source": [
    "Spreading of the dislocation core along the glide plane can be seen in the displacement map after relaxation."
   ]
  },
  {
   "cell_type": "markdown",
   "metadata": {},
   "source": [
    "### <100>{110} edge 'junction' dislocation\n",
    "\n",
    "So called junction dislocations with burdgers vector along <100> can be formed in the reactions between more abundant dislocations with burgers vector <111> such as: \n",
    "\n",
    "$$\n",
    "    \\frac{1}{2}[1\\bar{1}1] + \\frac{1}{2}[11\\bar{1}] = [100]\n",
    "$$\n",
    "\n",
    "They share the same glide plane ad 1/2<111> dislocations and can play important role in impurity segregation. "
   ]
  },
  {
   "cell_type": "code",
   "execution_count": 242,
   "metadata": {},
   "outputs": [
    {
     "name": "stdout",
     "output_type": "stream",
     "text": [
      "Cell orientation:\n",
      "[[ 1  0  0]\n",
      " [ 0  1  1]\n",
      " [ 0 -1  1]]\n",
      "Burgers vector:\n",
      "[3.14338905 0.         0.        ]\n"
     ]
    }
   ],
   "source": [
    "from matscipy.dislocation import BCCEdge100110Dislocation\n",
    "\n",
    "W_edge = BCCEdge100110Dislocation(alat, C11, C12, C44, symbol=\"W\")\n",
    "\n",
    "print(\"Cell orientation:\")\n",
    "print(W_edge.axes)\n",
    "\n",
    "print(\"Burgers vector:\")\n",
    "print(W_edge.burgers)\n"
   ]
  },
  {
   "cell_type": "code",
   "execution_count": 245,
   "metadata": {},
   "outputs": [
    {
     "name": "stdout",
     "output_type": "stream",
     "text": [
      "disloc SCF 0 |d1-d2|_inf = 0.256011923011219\n",
      "disloc SCF 1 |d1-d2|_inf = 0.060168757892788555\n",
      "disloc SCF 2 |d1-d2|_inf = 0.008688239875985548\n",
      "disloc SCF 3 |d1-d2|_inf = 0.002036859690120879\n",
      "disloc SCF 4 |d1-d2|_inf = 0.00025500641555943615\n",
      "disloc SCF 5 |d1-d2|_inf = 8.302194247189476e-05\n",
      "disloc SCF 6 |d1-d2|_inf = 1.6579146270331857e-05\n",
      "disloc SCF 7 |d1-d2|_inf = 1.7272275882884713e-06\n",
      "disloc SCF 8 |d1-d2|_inf = 6.753932630942927e-07\n"
     ]
    },
    {
     "data": {
      "application/vnd.jupyter.widget-view+json": {
       "model_id": "7b6c3eafd30943e8af2da9be53370494",
       "version_major": 2,
       "version_minor": 0
      },
      "text/plain": [
       "NGLWidget()"
      ]
     },
     "metadata": {},
     "output_type": "display_data"
    }
   ],
   "source": [
    "W_edge_bulk, W_edge_dislo = W_edge.build_cylinder(radius=15)\n",
    "interactive_view(W_edge_dislo, scale=0.3, d_name=\"<100>{110} edge\", d_color=[1, 0, 1])"
   ]
  },
  {
   "cell_type": "code",
   "execution_count": 244,
   "metadata": {
    "tags": [
     "hide-output"
    ]
   },
   "outputs": [
    {
     "name": "stdout",
     "output_type": "stream",
     "text": [
      "PreconLBFGS:   0  19:21:55    -1730.274625       3.4262\n",
      "PreconLBFGS:   1  19:21:57    -1730.777096       2.4833\n",
      "PreconLBFGS:   2  19:21:58    -1731.178776       2.1508\n",
      "PreconLBFGS:   3  19:21:59    -1731.476061       1.8160\n",
      "PreconLBFGS:   4  19:21:59    -1731.690476       1.3641\n",
      "PreconLBFGS:   5  19:22:00    -1731.853201       0.7966\n",
      "PreconLBFGS:   6  19:22:00    -1731.973539       0.6496\n",
      "PreconLBFGS:   7  19:22:01    -1732.026731       0.5298\n",
      "PreconLBFGS:   8  19:22:02    -1732.042310       0.2325\n",
      "PreconLBFGS:   9  19:22:03    -1732.049321       0.1783\n",
      "PreconLBFGS:  10  19:22:04    -1732.051231       0.1082\n",
      "PreconLBFGS:  11  19:22:05    -1732.052176       0.0623\n",
      "PreconLBFGS:  12  19:22:07    -1732.052421       0.0465\n",
      "PreconLBFGS:  13  19:22:08    -1732.052498       0.0273\n",
      "PreconLBFGS:  14  19:22:10    -1732.052533       0.0196\n",
      "PreconLBFGS:  15  19:22:11    -1732.052548       0.0112\n",
      "PreconLBFGS:  16  19:22:12    -1732.052558       0.0087\n"
     ]
    },
    {
     "data": {
      "text/plain": [
       "True"
      ]
     },
     "execution_count": 244,
     "metadata": {},
     "output_type": "execute_result"
    }
   ],
   "source": [
    "W_edge_dislo.calc = eam_calc\n",
    "opt = PreconLBFGS(W_edge_dislo)\n",
    "opt.run(fmax=0.01)"
   ]
  },
  {
   "cell_type": "code",
   "execution_count": null,
   "metadata": {},
   "outputs": [],
   "source": [
    "interactive_view(W_edge_dislo, scale=0.3)"
   ]
  },
  {
   "cell_type": "markdown",
   "metadata": {},
   "source": [
    "### <100>{001} edge dislocation\n",
    "\n",
    "This is the same junction dislocation but lying in a different glide plane."
   ]
  },
  {
   "cell_type": "code",
   "execution_count": 247,
   "metadata": {},
   "outputs": [
    {
     "name": "stdout",
     "output_type": "stream",
     "text": [
      "Cell orientation:\n",
      "[[ 1  0  0]\n",
      " [ 0  0 -1]\n",
      " [ 0  1  0]]\n",
      "Burgers vector:\n",
      "[3.14338905 0.         0.        ]\n"
     ]
    }
   ],
   "source": [
    "from matscipy.dislocation import BCCEdge100Dislocation\n",
    "\n",
    "W_edge = BCCEdge100Dislocation(alat, C11, C12, C44, symbol=\"W\")\n",
    "\n",
    "print(\"Cell orientation:\")\n",
    "print(W_edge.axes)\n",
    "\n",
    "print(\"Burgers vector:\")\n",
    "print(W_edge.burgers)\n"
   ]
  },
  {
   "cell_type": "code",
   "execution_count": 248,
   "metadata": {},
   "outputs": [
    {
     "name": "stdout",
     "output_type": "stream",
     "text": [
      "disloc SCF 0 |d1-d2|_inf = 0.29723896079013645\n",
      "disloc SCF 1 |d1-d2|_inf = 0.03893895819759963\n",
      "disloc SCF 2 |d1-d2|_inf = 0.011189961805871285\n",
      "disloc SCF 3 |d1-d2|_inf = 0.0014929016917481636\n",
      "disloc SCF 4 |d1-d2|_inf = 0.00046542738716470744\n",
      "disloc SCF 5 |d1-d2|_inf = 8.162136711144935e-05\n",
      "disloc SCF 6 |d1-d2|_inf = 1.3593036749526277e-05\n",
      "disloc SCF 7 |d1-d2|_inf = 4.3709609487407874e-06\n",
      "disloc SCF 8 |d1-d2|_inf = 5.007713447247042e-07\n"
     ]
    },
    {
     "data": {
      "application/vnd.jupyter.widget-view+json": {
       "model_id": "7c1183c5761a45f8aa5bb0d0b8f075c9",
       "version_major": 2,
       "version_minor": 0
      },
      "text/plain": [
       "NGLWidget()"
      ]
     },
     "metadata": {},
     "output_type": "display_data"
    }
   ],
   "source": [
    "W_edge_bulk, W_edge_dislo = W_edge.build_cylinder(radius=15)\n",
    "interactive_view(W_edge_dislo, scale=0.4, d_name=\"<100>{001} edge\", d_color=[1, 0, 1])"
   ]
  },
  {
   "cell_type": "code",
   "execution_count": 157,
   "metadata": {},
   "outputs": [],
   "source": [
    "W_edge_dislo.write(\"W_edge100.xyz\")"
   ]
  },
  {
   "cell_type": "code",
   "execution_count": null,
   "metadata": {
    "tags": [
     "hide-output"
    ]
   },
   "outputs": [],
   "source": [
    "W_edge_dislo.calc = eam_calc\n",
    "opt = PreconLBFGS(W_edge_dislo)\n",
    "opt.run(fmax=0.01)"
   ]
  },
  {
   "cell_type": "code",
   "execution_count": null,
   "metadata": {},
   "outputs": [],
   "source": [
    "interactive_view(W_edge_dislo, scale=0.4)"
   ]
  },
  {
   "cell_type": "markdown",
   "metadata": {},
   "source": [
    "## Face Centered Cubic\n",
    "\n",
    "Work in progress."
   ]
  },
  {
   "cell_type": "code",
   "execution_count": 4,
   "metadata": {},
   "outputs": [
    {
     "name": "stdout",
     "output_type": "stream",
     "text": [
      "      Step     Time          Energy         fmax\n",
      "*Force-consistent energies used in optimization.\n",
      "FIRE:    0 14:23:49      -17.801046*       0.0001\n",
      "Fitting C_11\n",
      "Strain array([-0.02, -0.01,  0.  ,  0.01,  0.02])\n",
      "Stress array([-5.12800014e+00, -2.50333320e+00, -1.41366167e-04,  2.37961959e+00,\n",
      "        4.63379565e+00]) GPa\n",
      "Cij (gradient) / GPa    :     244.0654437182867\n",
      "Error in Cij / GPa      :     4.217968506243491\n",
      "Correlation coefficient :     0.9995522932872427\n",
      "Setting C11 (1) to 1.523337 +/- 0.026326\n",
      "\n",
      "\n",
      "Fitting C_21\n",
      "Strain array([-0.02, -0.01,  0.  ,  0.01,  0.02])\n",
      "Stress array([-3.37539886e+00, -1.58459192e+00, -1.41366167e-04,  1.38619385e+00,\n",
      "        2.58171226e+00]) GPa\n",
      "Cij (gradient) / GPa    :     148.85008009740656\n",
      "Error in Cij / GPa      :     6.776719382842348\n",
      "Correlation coefficient :     0.9969053432709588\n",
      "Setting C21 (7) to 0.929049 +/- 0.042297\n",
      "\n",
      "\n",
      "Fitting C_31\n",
      "Strain array([-0.02, -0.01,  0.  ,  0.01,  0.02])\n",
      "Stress array([-3.37539886e+00, -1.58459192e+00, -1.41366167e-04,  1.38619385e+00,\n",
      "        2.58171226e+00]) GPa\n",
      "Cij (gradient) / GPa    :     148.850080097406\n",
      "Error in Cij / GPa      :     6.776719382842323\n",
      "Correlation coefficient :     0.9969053432709588\n",
      "Updating C31 (7) with value 0.929049 +/- 0.042297\n",
      "\n",
      "\n",
      "Fitting C_44\n",
      "Strain array([-0.02, -0.01,  0.  ,  0.01,  0.02])\n",
      "Stress array([-2.51031965e+00, -1.25545671e+00, -2.54901650e-17,  1.25652507e+00,\n",
      "        2.51470655e+00]) GPa\n",
      "Cij (gradient) / GPa    :     125.62034171207866\n",
      "Error in Cij / GPa      :     0.0380968152678079\n",
      "Correlation coefficient :     0.9999998620414655\n",
      "Setting C44 (4) to 0.784061 +/- 0.000238\n",
      "\n",
      "\n",
      "[[b C11 b C12 b C12 b     b     b    ]\n",
      " [b C12 b C11 b C12 b     b     b    ]\n",
      " [b C12 b C12 b C11 b     b     b    ]\n",
      " [b     b     b     b C44 b     b    ]\n",
      " [b     b     b     b     b C44 b    ]\n",
      " [b     b     b     b     b     b C44]]\n",
      "\n",
      " = \n",
      "\n",
      "[[244.07 148.85 148.85   0.     0.     0.  ]\n",
      " [148.85 244.07 148.85   0.     0.     0.  ]\n",
      " [148.85 148.85 244.07   0.     0.     0.  ]\n",
      " [  0.     0.     0.   125.62   0.     0.  ]\n",
      " [  0.     0.     0.     0.   125.62   0.  ]\n",
      " [  0.     0.     0.     0.     0.   125.62]]\n",
      "C_11 = 244.07 +/- 4.22 GPa\n",
      "C_12 = 148.85 +/- 6.78 GPa\n",
      "C_44 = 125.62 +/- 0.04 GPa\n"
     ]
    }
   ],
   "source": [
    "eam_calc = EAM(\"../../tests/FeCuNi.eam.alloy\")\n",
    "\n",
    "# the function accepts any ASE type of calculator\n",
    "alat, C11, C12, C44 = get_elastic_constants(calculator=eam_calc, symbol=\"Ni\")"
   ]
  },
  {
   "cell_type": "code",
   "execution_count": 5,
   "metadata": {},
   "outputs": [
    {
     "name": "stdout",
     "output_type": "stream",
     "text": [
      "3.520 (Angstrom), 244.07, 148.85, 125.62 (GPa)\n"
     ]
    }
   ],
   "source": [
    "print(f\"{alat:.3f} (Angstrom), {C11:.2f}, {C12:.2f}, {C44:.2f} (GPa)\")"
   ]
  },
  {
   "cell_type": "code",
   "execution_count": 6,
   "metadata": {},
   "outputs": [
    {
     "name": "stdout",
     "output_type": "stream",
     "text": [
      "Cell orientation:\n",
      "[[ 1  1 -2]\n",
      " [ 1  1  1]\n",
      " [ 1 -1  0]]\n",
      "Burgers vector:\n",
      "[ 1.76 -1.76  0.  ]\n"
     ]
    }
   ],
   "source": [
    "from matscipy.dislocation import FCCScrew110Dislocation\n",
    "\n",
    "Ni_screw = FCCScrew110Dislocation(alat, C11, C12, C44, symbol=\"Ni\")\n",
    "\n",
    "print(\"Cell orientation:\")\n",
    "print(Ni_screw.axes)\n",
    "\n",
    "print(\"Burgers vector:\")\n",
    "print(Ni_screw.burgers)\n"
   ]
  },
  {
   "cell_type": "code",
   "execution_count": 55,
   "metadata": {},
   "outputs": [
    {
     "name": "stdout",
     "output_type": "stream",
     "text": [
      "disloc SCF 0 |d1-d2|_inf = 0.021791458261984697\n",
      "disloc SCF 1 |d1-d2|_inf = 0.0002936041882874109\n",
      "disloc SCF 2 |d1-d2|_inf = 4.8928735380371347e-05\n",
      "disloc SCF 3 |d1-d2|_inf = 1.2696678054050815e-06\n",
      "disloc SCF 4 |d1-d2|_inf = 1.0764587210498888e-07\n",
      "disloc SCF 0 |d1-d2|_inf = 0.020321133865591423\n",
      "disloc SCF 1 |d1-d2|_inf = 0.0006134137472214689\n",
      "disloc SCF 2 |d1-d2|_inf = 5.9406489367308524e-05\n",
      "disloc SCF 3 |d1-d2|_inf = 2.948341477265748e-06\n",
      "disloc SCF 4 |d1-d2|_inf = 8.340714410803862e-08\n",
      "\n",
      "Cell vectors:\n",
      "[[60.35542726  0.          0.        ]\n",
      " [ 0.         60.96818843  0.        ]\n",
      " [ 0.          0.          2.48901587]]\n",
      "\n",
      "Burgers vector lenth:\n",
      "2.4890158697766473\n"
     ]
    },
    {
     "data": {
      "application/vnd.jupyter.widget-view+json": {
       "model_id": "5384b1bb44c444cd9f47443b5f2d05d4",
       "version_major": 2,
       "version_minor": 0
      },
      "text/plain": [
       "NGLWidget()"
      ]
     },
     "metadata": {},
     "output_type": "display_data"
    }
   ],
   "source": [
    "Ni_screw_bulk, Ni_screw_dislo = Ni_screw.build_cylinder(radius=20)\n",
    "\n",
    "\n",
    "print(\"\\nCell vectors:\")\n",
    "print(Ni_screw_dislo.cell.array)\n",
    "\n",
    "print(\"\\nBurgers vector lenth:\")\n",
    "print(np.linalg.norm(Ni_screw.burgers))\n",
    "\n",
    "interactive_view(Ni_screw_dislo, d_name=\"1/2<110> screw dislocation line\", d_color=[0, 0, 1])"
   ]
  },
  {
   "cell_type": "code",
   "execution_count": 56,
   "metadata": {},
   "outputs": [
    {
     "name": "stdout",
     "output_type": "stream",
     "text": [
      "disloc SCF 0 |d1-d2|_inf = 0.02179145826198453\n",
      "disloc SCF 1 |d1-d2|_inf = 0.0002936041882874109\n",
      "disloc SCF 2 |d1-d2|_inf = 4.892873538059339e-05\n",
      "disloc SCF 3 |d1-d2|_inf = 1.2696678051752307e-06\n",
      "disloc SCF 4 |d1-d2|_inf = 1.0764587193845543e-07\n",
      "disloc SCF 0 |d1-d2|_inf = 0.020321133865591506\n",
      "disloc SCF 1 |d1-d2|_inf = 0.0006134137472214689\n",
      "disloc SCF 2 |d1-d2|_inf = 5.9406489367308524e-05\n",
      "disloc SCF 3 |d1-d2|_inf = 2.948341477515548e-06\n",
      "disloc SCF 4 |d1-d2|_inf = 8.340714444804442e-08\n"
     ]
    },
    {
     "data": {
      "application/vnd.jupyter.widget-view+json": {
       "model_id": "b8a88b6bebc54d5d9ff8608bdebf4ccc",
       "version_major": 2,
       "version_minor": 0
      },
      "text/plain": [
       "NGLWidget()"
      ]
     },
     "metadata": {},
     "output_type": "display_data"
    }
   ],
   "source": [
    "Ni_screw_bulk, Ni_screw_dislo = Ni_screw.build_cylinder(radius=20, partial_distance=5)\n",
    "interactive_view(Ni_screw_dislo, partial_distance=5 * Ni_screw.glide_distance, d_name=\"1/6<112> Shockley partial screw\")"
   ]
  },
  {
   "cell_type": "code",
   "execution_count": 59,
   "metadata": {},
   "outputs": [],
   "source": [
    "import nglview as nv\n",
    "view = interactive_view(Ni_screw_dislo, partial_distance=5 * Ni_screw.glide_distance, d_name=\"1/6<112> Shockley partial screw\")\n",
    "view._remote_call(\"setSize\", target=\"Widget\", args=[\"600px\", \"600px\"])\n",
    "nv.write_html(\"Ni_screw.html\", [view])    "
   ]
  },
  {
   "cell_type": "code",
   "execution_count": 254,
   "metadata": {},
   "outputs": [
    {
     "name": "stdout",
     "output_type": "stream",
     "text": [
      "Cell orientation:\n",
      "[[ 1 -1  0]\n",
      " [ 1  1  1]\n",
      " [-1 -1  2]]\n",
      "Burgers vector:\n",
      "[ 1.76 -1.76  0.  ]\n"
     ]
    }
   ],
   "source": [
    "from matscipy.dislocation import FCCEdge110Dislocation\n",
    "\n",
    "Ni_edge = FCCEdge110Dislocation(alat, C11, C12, C44, symbol=\"Ni\")\n",
    "\n",
    "print(\"Cell orientation:\")\n",
    "print(Ni_edge.axes)\n",
    "\n",
    "print(\"Burgers vector:\")\n",
    "print(Ni_edge.burgers)\n"
   ]
  },
  {
   "cell_type": "code",
   "execution_count": 259,
   "metadata": {},
   "outputs": [
    {
     "name": "stdout",
     "output_type": "stream",
     "text": [
      "disloc SCF 0 |d1-d2|_inf = 0.04310715442453525\n",
      "disloc SCF 1 |d1-d2|_inf = 0.0031359890399249857\n",
      "disloc SCF 2 |d1-d2|_inf = 0.00018078113282300745\n",
      "disloc SCF 3 |d1-d2|_inf = 1.4501349156037513e-05\n",
      "disloc SCF 4 |d1-d2|_inf = 9.978781161934513e-07\n",
      "disloc SCF 0 |d1-d2|_inf = 0.03462421627571943\n",
      "disloc SCF 1 |d1-d2|_inf = 0.0022123322463467043\n",
      "disloc SCF 2 |d1-d2|_inf = 0.00021564683900149317\n",
      "disloc SCF 3 |d1-d2|_inf = 1.1838612354972411e-05\n",
      "disloc SCF 4 |d1-d2|_inf = 6.324895580611667e-07\n",
      "\n",
      "Cell vectors:\n",
      "[[64.71441261  0.          0.        ]\n",
      " [ 0.         60.96818843  0.        ]\n",
      " [ 0.          0.          4.31110195]]\n",
      "\n",
      "Burgers vector lenth:\n",
      "2.4890158697766473\n"
     ]
    },
    {
     "data": {
      "application/vnd.jupyter.widget-view+json": {
       "model_id": "1c6afbad03c04609aa29250be478d2cf",
       "version_major": 2,
       "version_minor": 0
      },
      "text/plain": [
       "NGLWidget()"
      ]
     },
     "metadata": {},
     "output_type": "display_data"
    }
   ],
   "source": [
    "Ni_edge_bulk, Ni_edge_dislo = Ni_edge.build_cylinder(radius=20)\n",
    "\n",
    "print(\"\\nCell vectors:\")\n",
    "print(Ni_edge_dislo.cell.array)\n",
    "\n",
    "print(\"\\nBurgers vector lenth:\")\n",
    "print(np.linalg.norm(Ni_edge.burgers))\n",
    "\n",
    "interactive_view(Ni_edge_dislo, d_name=\"1/2<110> edge\", d_color=[0, 0, 1])"
   ]
  },
  {
   "cell_type": "code",
   "execution_count": 260,
   "metadata": {},
   "outputs": [
    {
     "name": "stdout",
     "output_type": "stream",
     "text": [
      "disloc SCF 0 |d1-d2|_inf = 0.04310715442453525\n",
      "disloc SCF 1 |d1-d2|_inf = 0.0031359890399249857\n",
      "disloc SCF 2 |d1-d2|_inf = 0.00018078113282300745\n",
      "disloc SCF 3 |d1-d2|_inf = 1.4501349155759957e-05\n",
      "disloc SCF 4 |d1-d2|_inf = 9.978781162003902e-07\n",
      "disloc SCF 0 |d1-d2|_inf = 0.03462421627571943\n",
      "disloc SCF 1 |d1-d2|_inf = 0.002212332246347065\n",
      "disloc SCF 2 |d1-d2|_inf = 0.00021564683900149317\n",
      "disloc SCF 3 |d1-d2|_inf = 1.1838612354972411e-05\n",
      "disloc SCF 4 |d1-d2|_inf = 6.324895580611667e-07\n"
     ]
    },
    {
     "data": {
      "application/vnd.jupyter.widget-view+json": {
       "model_id": "6b166fabe7644d96ae80e7d7dd654d44",
       "version_major": 2,
       "version_minor": 0
      },
      "text/plain": [
       "NGLWidget()"
      ]
     },
     "metadata": {},
     "output_type": "display_data"
    }
   ],
   "source": [
    "Ni_edge_bulk, Ni_edge_dislo = Ni_edge.build_cylinder(radius=20, partial_distance=10)\n",
    "interactive_view(Ni_edge_dislo, partial_distance=10 * Ni_edge.glide_distance, d_name=\"1/2<110> Shockley partial edge\")"
   ]
  },
  {
   "cell_type": "markdown",
   "metadata": {},
   "source": [
    "## Diamond \n",
    "\n",
    "Work in progress."
   ]
  },
  {
   "cell_type": "code",
   "execution_count": 261,
   "metadata": {},
   "outputs": [
    {
     "name": "stdout",
     "output_type": "stream",
     "text": [
      "      Step     Time          Energy         fmax\n",
      "*Force-consistent energies used in optimization.\n",
      "FIRE:    0 19:25:22      -34.692786*       0.0922\n",
      "FIRE:    1 19:25:22      -34.692742*       0.1881\n",
      "FIRE:    2 19:25:22      -34.692797*       0.0452\n",
      "FIRE:    3 19:25:22      -34.692771*       0.1323\n",
      "FIRE:    4 19:25:22      -34.692781*       0.1071\n",
      "FIRE:    5 19:25:22      -34.692794*       0.0616\n",
      "FIRE:    6 19:25:22      -34.692800*       0.0043\n",
      "FIRE:    7 19:25:22      -34.692795*       0.0537\n",
      "FIRE:    8 19:25:22      -34.692796*       0.0511\n",
      "FIRE:    9 19:25:22      -34.692796*       0.0461\n",
      "FIRE:   10 19:25:22      -34.692798*       0.0390\n",
      "FIRE:   11 19:25:22      -34.692799*       0.0299\n",
      "FIRE:   12 19:25:22      -34.692799*       0.0195\n",
      "FIRE:   13 19:25:22      -34.692800*       0.0081\n",
      "FIRE:   14 19:25:22      -34.692800*       0.0036\n",
      "FIRE:   15 19:25:22      -34.692800*       0.0036\n",
      "FIRE:   16 19:25:22      -34.692800*       0.0035\n",
      "FIRE:   17 19:25:22      -34.692800*       0.0034\n",
      "FIRE:   18 19:25:23      -34.692800*       0.0032\n",
      "FIRE:   19 19:25:23      -34.692800*       0.0030\n",
      "FIRE:   20 19:25:23      -34.692800*       0.0028\n",
      "FIRE:   21 19:25:23      -34.692800*       0.0025\n",
      "FIRE:   22 19:25:23      -34.692800*       0.0022\n",
      "FIRE:   23 19:25:23      -34.692800*       0.0017\n",
      "FIRE:   24 19:25:23      -34.692800*       0.0013\n",
      "FIRE:   25 19:25:23      -34.692800*       0.0007\n",
      "FIRE:   26 19:25:23      -34.692800*       0.0000\n",
      "Fitting C_11\n",
      "Strain array([-0.02, -0.01,  0.  ,  0.01,  0.02])\n",
      "Stress array([-4.18437928e+00, -2.05313584e+00, -2.57946679e-05,  1.97559670e+00,\n",
      "        3.87433910e+00]) GPa\n",
      "Cij (gradient) / GPa    :     201.46169296718193\n",
      "Error in Cij / GPa      :     2.6470882834179283\n",
      "Correlation coefficient :     0.999741134311275\n",
      "Setting C11 (1) to 1.257425 +/- 0.016522\n",
      "\n",
      "\n",
      "Fitting C_21\n",
      "Strain array([-0.02, -0.01,  0.  ,  0.01,  0.02])\n",
      "Stress array([-1.13686951e+00, -5.40672589e-01, -2.57946679e-05,  4.89041361e-01,\n",
      "        9.30285346e-01]) GPa\n",
      "Cij (gradient) / GPa    :     51.640236590323106\n",
      "Error in Cij / GPa      :     1.7644327851076396\n",
      "Correlation coefficient :     0.9982534295801976\n",
      "Setting C21 (7) to 0.322313 +/- 0.011013\n",
      "\n",
      "\n",
      "Fitting C_31\n",
      "Strain array([-0.02, -0.01,  0.  ,  0.01,  0.02])\n",
      "Stress array([-1.13686951e+00, -5.40672589e-01, -2.57946679e-05,  4.89041361e-01,\n",
      "        9.30285346e-01]) GPa\n",
      "Cij (gradient) / GPa    :     51.64023659032299\n",
      "Error in Cij / GPa      :     1.764432785107523\n",
      "Correlation coefficient :     0.9982534295801978\n",
      "Updating C31 (7) with value 0.322313 +/- 0.011013\n",
      "\n",
      "\n",
      "Fitting C_44\n",
      "Strain array([-0.02, -0.01,  0.  ,  0.01,  0.02])\n",
      "Stress array([-2.43911684e+00, -1.19995048e+00,  2.16046225e-14,  1.16236368e+00,\n",
      "        2.28858547e+00]) GPa\n",
      "Cij (gradient) / GPa    :     118.17718786807852\n",
      "Error in Cij / GPa      :     1.2857535435707688\n",
      "Correlation coefficient :     0.9998224896147394\n",
      "Setting C44 (4) to 0.737604 +/- 0.008025\n",
      "\n",
      "\n",
      "[[b C11 b C12 b C12 b     b     b    ]\n",
      " [b C12 b C11 b C12 b     b     b    ]\n",
      " [b C12 b C12 b C11 b     b     b    ]\n",
      " [b     b     b     b C44 b     b    ]\n",
      " [b     b     b     b     b C44 b    ]\n",
      " [b     b     b     b     b     b C44]]\n",
      "\n",
      " = \n",
      "\n",
      "[[201.46  51.64  51.64   0.     0.     0.  ]\n",
      " [ 51.64 201.46  51.64   0.     0.     0.  ]\n",
      " [ 51.64  51.64 201.46   0.     0.     0.  ]\n",
      " [  0.     0.     0.   118.18   0.     0.  ]\n",
      " [  0.     0.     0.     0.   118.18   0.  ]\n",
      " [  0.     0.     0.     0.     0.   118.18]]\n",
      "C_11 = 201.46 +/- 2.65 GPa\n",
      "C_12 = 51.64 +/- 1.76 GPa\n",
      "C_44 = 118.18 +/- 1.29 GPa\n"
     ]
    }
   ],
   "source": [
    "from matscipy.calculators.manybody.explicit_forms.stillinger_weber import StillingerWeber, Holland_Marder_PRL_80_746_Si\n",
    "from matscipy.calculators.manybody import Manybody\n",
    "calc = Manybody(**StillingerWeber(Holland_Marder_PRL_80_746_Si))\n",
    "\n",
    "# the function accepts any ASE type of calculator\n",
    "alat, C11, C12, C44 = get_elastic_constants(calculator=calc, symbol=\"Si\")"
   ]
  },
  {
   "cell_type": "code",
   "execution_count": 262,
   "metadata": {},
   "outputs": [
    {
     "name": "stdout",
     "output_type": "stream",
     "text": [
      "5.431 (Angstrom), 201.46, 51.64, 118.18 (GPa)\n"
     ]
    }
   ],
   "source": [
    "print(f\"{alat:.3f} (Angstrom), {C11:.2f}, {C12:.2f}, {C44:.2f} (GPa)\")"
   ]
  },
  {
   "cell_type": "code",
   "execution_count": 263,
   "metadata": {},
   "outputs": [
    {
     "name": "stdout",
     "output_type": "stream",
     "text": [
      "Cell orientation:\n",
      "[[ 1  1 -2]\n",
      " [ 1  1  1]\n",
      " [ 1 -1  0]]\n",
      "Burgers vector:\n",
      "[ 2.71547466 -2.71547466  0.        ]\n"
     ]
    }
   ],
   "source": [
    "from matscipy.dislocation import DiamondGlideScrew\n",
    "\n",
    "Si_screw = DiamondGlideScrew(alat, C11, C12, C44, symbol=\"Si\")\n",
    "\n",
    "print(\"Cell orientation:\")\n",
    "print(Si_screw.axes)\n",
    "\n",
    "print(\"Burgers vector:\")\n",
    "print(Si_screw.burgers)\n"
   ]
  },
  {
   "cell_type": "code",
   "execution_count": 264,
   "metadata": {},
   "outputs": [
    {
     "name": "stdout",
     "output_type": "stream",
     "text": [
      "\n",
      "Cell vectors:\n",
      "[[66.51527324  0.          0.        ]\n",
      " [ 0.         75.25344122  0.        ]\n",
      " [ 0.          0.          3.84026109]]\n",
      "\n",
      "Burgers vector lenth:\n",
      "3.840261091032201\n"
     ]
    },
    {
     "data": {
      "application/vnd.jupyter.widget-view+json": {
       "model_id": "20e5b11343b04870b00c356f27557ec0",
       "version_major": 2,
       "version_minor": 0
      },
      "text/plain": [
       "NGLWidget()"
      ]
     },
     "metadata": {},
     "output_type": "display_data"
    }
   ],
   "source": [
    "Si_screw_bulk, Si_screw_dislo = Si_screw.build_cylinder(radius=20)\n",
    "\n",
    "print(\"\\nCell vectors:\")\n",
    "print(Si_screw_dislo.cell.array)\n",
    "\n",
    "print(\"\\nBurgers vector lenth:\")\n",
    "print(np.linalg.norm(Si_screw.burgers))\n",
    "Si_screw_dislo.wrap()\n",
    "interactive_view(Si_screw_dislo, diamond_structure=True, scale=0.3, add_bonds=True, d_name=\"1/2<110> screw\", d_color=[0, 0, 1])"
   ]
  },
  {
   "cell_type": "code",
   "execution_count": 265,
   "metadata": {},
   "outputs": [
    {
     "data": {
      "application/vnd.jupyter.widget-view+json": {
       "model_id": "352908480c424398ba602531aae4594b",
       "version_major": 2,
       "version_minor": 0
      },
      "text/plain": [
       "NGLWidget()"
      ]
     },
     "metadata": {},
     "output_type": "display_data"
    }
   ],
   "source": [
    "Si_screw_bulk, Si_screw_dislo = Si_screw.build_cylinder(radius=20, partial_distance=5)\n",
    "Si_screw_dislo.wrap()\n",
    "interactive_view(Si_screw_dislo, diamond_structure=True, scale=0.3, add_bonds=True, partial_distance=5 * Si_screw.glide_distance, \n",
    "                 d_name=\"1/6<112> 30 degree partial screw\") "
   ]
  },
  {
   "cell_type": "code",
   "execution_count": 266,
   "metadata": {},
   "outputs": [
    {
     "name": "stdout",
     "output_type": "stream",
     "text": [
      "Cell orientation:\n",
      "[[ 1  1 -2]\n",
      " [ 1  1  1]\n",
      " [ 1 -1  0]]\n",
      "Burgers vector:\n",
      "[ 2.71547466  0.         -2.71547466]\n"
     ]
    }
   ],
   "source": [
    "from matscipy.dislocation import DiamondGlide60Degree\n",
    "\n",
    "Si_screw = DiamondGlide60Degree(alat, C11, C12, C44, symbol=\"Si\")\n",
    "\n",
    "print(\"Cell orientation:\")\n",
    "print(Si_screw.axes)\n",
    "\n",
    "print(\"Burgers vector:\")\n",
    "print(Si_screw.burgers)\n"
   ]
  },
  {
   "cell_type": "code",
   "execution_count": 267,
   "metadata": {},
   "outputs": [
    {
     "name": "stdout",
     "output_type": "stream",
     "text": [
      "\n",
      "Cell vectors:\n",
      "[[66.51527324  0.          0.        ]\n",
      " [ 0.         75.25344122  0.        ]\n",
      " [ 0.          0.          3.84026109]]\n",
      "\n",
      "Burgers vector lenth:\n",
      "3.840261091032201\n"
     ]
    },
    {
     "data": {
      "application/vnd.jupyter.widget-view+json": {
       "model_id": "14374870b0fb441899472c3943b70706",
       "version_major": 2,
       "version_minor": 0
      },
      "text/plain": [
       "NGLWidget()"
      ]
     },
     "metadata": {},
     "output_type": "display_data"
    }
   ],
   "source": [
    "Si_screw_bulk, Si_screw_dislo = Si_screw.build_cylinder(radius=20)\n",
    "\n",
    "print(\"\\nCell vectors:\")\n",
    "print(Si_screw_dislo.cell.array)\n",
    "\n",
    "print(\"\\nBurgers vector lenth:\")\n",
    "print(np.linalg.norm(Si_screw.burgers))\n",
    "Si_screw_dislo.wrap()\n",
    "interactive_view(Si_screw_dislo, diamond_structure=True, scale=0.3, add_bonds=True,\n",
    "                 d_name=\"1/2<110> 60 degree screw\", d_color=[0, 0, 1])"
   ]
  },
  {
   "cell_type": "code",
   "execution_count": 272,
   "metadata": {},
   "outputs": [
    {
     "data": {
      "application/vnd.jupyter.widget-view+json": {
       "model_id": "3dfc4942592f4e9d8fcc012cdb4c9054",
       "version_major": 2,
       "version_minor": 0
      },
      "text/plain": [
       "NGLWidget()"
      ]
     },
     "metadata": {},
     "output_type": "display_data"
    }
   ],
   "source": [
    "Si_screw_bulk, Si_screw_dislo = Si_screw.build_cylinder(radius=20, partial_distance=5)\n",
    "Si_screw_dislo.wrap()\n",
    "interactive_view(Si_screw_dislo, diamond_structure=True, scale=0.3, add_bonds=True,\n",
    "                 partial_distance=5 * Si_screw.glide_distance, \n",
    "                 d_name=[\"1/6<112> 90 degree partial screw\", \"1/6<112> 30 degree partial screw\"])"
   ]
  },
  {
   "cell_type": "code",
   "execution_count": null,
   "metadata": {},
   "outputs": [],
   "source": []
  }
 ],
 "metadata": {
  "execution": {
   "timeout": 180
  },
  "kernelspec": {
   "display_name": "Python 3 (ipykernel)",
   "language": "python",
   "name": "python3"
  },
  "language_info": {
   "codemirror_mode": {
    "name": "ipython",
    "version": 3
   },
   "file_extension": ".py",
   "mimetype": "text/x-python",
   "name": "python",
   "nbconvert_exporter": "python",
   "pygments_lexer": "ipython3",
   "version": "3.9.15"
  }
 },
 "nbformat": 4,
 "nbformat_minor": 4
}
