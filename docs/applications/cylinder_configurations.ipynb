{
 "cells": [
  {
   "cell_type": "code",
   "execution_count": 18,
   "metadata": {},
   "outputs": [],
   "source": [
    "import numpy as np\n",
    "import matplotlib.pyplot as plt\n",
    "plt.rcParams['figure.figsize'] = (3, 3)\n",
    "\n",
    "from matscipy.dislocation import get_elastic_constants, plot_vitek\n",
    "\n",
    "from ase.optimize.precon import PreconLBFGS"
   ]
  },
  {
   "cell_type": "markdown",
   "metadata": {},
   "source": [
    "# Building cylindrical configurations with dislocations\n",
    "\n",
    "![](dislocation_cylinder.png)\n",
    "\n",
    "The `matscipy.dislocation` provides a set of tools to create atomistic configurations containing dislocations. In this example we focus on cylindrical configurations. In order to create a dislocation we start with a cylinder of bulk material oriented along the vector of the future dislocation line $\\vec l$. By convention assumed in `matscipy.dislocation` Z direction of the cell always corresponds to the dislocation line $\\vec l$. Then a displacement field is applied to the cylinder and outer radial shell is fixed in order to stabilise the configuration. So we end up with periodic boundary conditions along the dislocation line (Z) and fixed boundaries along X and Y directions. As shown on the figure above, screw dislocations are characterised by a displacement with corresponding burgers vector $\\vec b$ parallel to the dislocation line $\\vec l$, while edge dislocations have the burgers vector $\\vec b$ perpendicular to $\\vec l$. `matscipy` uses an anisotropic solution within [Stroh formalism](https://doi.org/10.1080/14786435808565804) to generate displacement field as implemented in [atomman](https://www.ctcms.nist.gov/potentials/atomman/) package.\n",
    "\n",
    "For the interactive visualisation of the structures we will use [nglview](https://nglviewer.org/nglview/latest/) which allows viewing atomistic structures interactively within an IPython/Jupyter notebooks. We will also color atoms according to the crystallographic structure identified by [Common Neighbour Analysis algoritm](https://www.ovito.org/docs/current/reference/pipelines/modifiers/common_neighbor_analysis.html) and its [extention for diamond structure](https://www.ovito.org/docs/current/reference/pipelines/modifiers/identify_diamond.html) implemented in [OVITO](https://www.ovito.org/docs/current/introduction.html) package. [OVITO](https://www.ovito.org/docs/current/introduction.html), [atomman](https://www.ctcms.nist.gov/potentials/atomman/) and [nglview](https://nglviewer.org/nglview/latest/) are not part of the default dependencies of `matscipy` and require separate installation. Keep that in mind while running these examples as well test in [`test_dislocation.py`](https://github.com/libAtoms/matscipy/blob/master/tests/test_dislocation.py) since the majority of the tests there require this modules and thus will be skipped if the modules are not found in your system. Please note that for this example we use very small systems (small radius). For production calculations one should do a convergence tests with the system size in order to ensure that fixed boundaries do not affect the studied properties."
   ]
  },
  {
   "cell_type": "code",
   "execution_count": null,
   "metadata": {},
   "outputs": [],
   "source": []
  },
  {
   "cell_type": "code",
   "execution_count": 1,
   "metadata": {},
   "outputs": [
    {
     "data": {
      "application/vnd.jupyter.widget-view+json": {
       "model_id": "928a58090bfa46b29cf864362bcbfdc9",
       "version_major": 2,
       "version_minor": 0
      },
      "text/plain": []
     },
     "metadata": {},
     "output_type": "display_data"
    }
   ],
   "source": [
    "import numpy as np\n",
    "import nglview # this import is necessary for rendering of the 3D view\n",
    "from visualisation import show_dislocation, interactive_view"
   ]
  },
  {
   "cell_type": "markdown",
   "metadata": {},
   "source": [
    "## Accessing Key Dislocation Properties\n",
    "As defined in a dimensionless (alat=1) frame, each kind of dislocation has several key properties which describe the geometric layout of the atomic cell, and also the position and orientation of the dislocation. Such properties are stored in matscipy as attributes of each dislocation class, such that they can be accessed without actually needing to construct a dislocation.\n",
    "\n",
    "As an example:"
   ]
  },
  {
   "cell_type": "code",
   "execution_count": 49,
   "metadata": {},
   "outputs": [
    {
     "name": "stdout",
     "output_type": "stream",
     "text": [
      "For a BCC 1/2<111>{110} Mixed Dislocation\n",
      "\n",
      "The dislocation is oriented in a cell described by the miller indeces: \n",
      "[[ 1 -1 -2]\n",
      " [ 1  1  0]\n",
      " [ 1 -1  1]]\n",
      "Dimensionless burgers vector is:  [ 0.5 -0.5 -0.5]\n",
      "Dislocation core will be at fractional coords  [0.16666667 0.16666667 0.        ]  within a unit cell\n"
     ]
    }
   ],
   "source": [
    "from matscipy.dislocation import BCCMixed111Dislocation\n",
    "\n",
    "print(\"For a BCC 1/2<111>{110} Mixed Dislocation\")\n",
    "print()\n",
    "\n",
    "print(\"The dislocation is oriented in a cell described by the miller indeces: \")\n",
    "print(BCCMixed111Dislocation.axes)\n",
    "\n",
    "print(\"Dimensionless burgers vector is: \", BCCMixed111Dislocation.burgers_dimensionless)\n",
    "\n",
    "print(\"Dislocation core will be at fractional coords \", BCCMixed111Dislocation.unit_cell_core_position_dimensionless, \" within a unit cell\")"
   ]
  },
  {
   "cell_type": "markdown",
   "metadata": {},
   "source": [
    "## Available Dislocation Systems\n",
    "The available dislocation systems are:"
   ]
  },
  {
   "cell_type": "code",
   "execution_count": 17,
   "metadata": {},
   "outputs": [
    {
     "name": "stdout",
     "output_type": "stream",
     "text": [
      "BCCScrew111Dislocation\n",
      "BCCEdge111Dislocation\n",
      "BCCMixed111Dislocation\n",
      "BCCEdge100Dislocation\n",
      "BCCEdge100110Dislocation\n",
      "DiamondGlide30degreePartial\n",
      "DiamondGlide90degreePartial\n",
      "DiamondGlideScrew\n",
      "DiamondGlide60Degree\n",
      "FCCScrewShockleyPartial\n",
      "FCCEdgeShockleyPartial\n",
      "FCCScrew110Dislocation\n",
      "FCCEdge110Dislocation\n"
     ]
    }
   ],
   "source": [
    "import matscipy.dislocation as disloc_mod\n",
    "import inspect\n",
    "# Find all classes in matscipy.dislocation which inherit from the Abstact Base Class CubicCrystalDislocation\n",
    "for name, attr in disloc_mod.__dict__.items():\n",
    "    if inspect.isclass(attr):\n",
    "        if issubclass(attr, disloc_mod.CubicCrystalDislocation) and attr not in [disloc_mod.CubicCrystalDislocation, disloc_mod.CubicCrystalDissociatedDislocation]:\n",
    "            print(name)"
   ]
  },
  {
   "cell_type": "markdown",
   "metadata": {},
   "source": [
    "## Accessing Key Dislocation Properties\n",
    "As defined in a dimensionless (alat=1) frame, each kind of dislocation has several key properties which describe the geometric layout of the atomic cell, and also the position and orientation of the dislocation. Such properties are stored in matscipy as attributes of each dislocation class, such that they can be accessed without actually needing to construct a dislocation.\n",
    "\n",
    "As an example:"
   ]
  },
  {
   "cell_type": "code",
   "execution_count": 20,
   "metadata": {},
   "outputs": [
    {
     "name": "stdout",
     "output_type": "stream",
     "text": [
      "For a BCC 1/2<111>{110} Mixed Dislocation\n",
      "\n",
      "The dislocation is oriented in a cell described by the miller indeces: \n",
      "[[ 1 -1 -2]\n",
      " [ 1  1  0]\n",
      " [ 1 -1  1]]\n",
      "Dimensionless burgers vector is:  [ 0.5 -0.5 -0.5]\n",
      "Dislocation core will be at fractional coords  [0.16666667 0.16666667 0.        ]  within a unit cell\n"
     ]
    }
   ],
   "source": [
    " from matscipy.dislocation import BCCMixed111Dislocation\n",
    "print(\"For a BCC 1/2<111>{110} Mixed Dislocation\")\n",
    "print()\n",
    "print(\"The dislocation is oriented in a cell described by the miller indeces: \")\n",
    "print(BCCMixed111Dislocation.axes)\n",
    "print(\"Dimensionless burgers vector is: \", BCCMixed111Dislocation.burgers_dimensionless)\n",
    "print(\"Dislocation core will be at fractional coords \", BCCMixed111Dislocation.unit_cell_core_position_dimensionless, \" within a unit cell\")"
   ]
  },
  {
   "cell_type": "markdown",
   "metadata": {},
   "source": [
    "## Available Dislocation Systems\n",
    "\n",
    "The available dislocation systems are:"
   ]
  },
  {
   "cell_type": "code",
   "execution_count": null,
   "metadata": {},
   "outputs": [],
   "source": [
    "import matscipy.dislocation as disloc_mod\n",
    "import inspect\n",
    "# Find all classes in matscipy.dislocation which inherit from the Abstact Base Class CubicCrystalDislocation\n",
    "for name, attr in disloc_mod.__dict__.items():\n",
    "    if inspect.isclass(attr):\n",
    "        if issubclass(attr, disloc_mod.CubicCrystalDislocation) and attr not in [disloc_mod.CubicCrystalDislocation, disloc_mod.CubicCrystalDissociatedDislocation]:\n",
    "            print(name)"
   ]
  },
  {
   "cell_type": "markdown",
   "metadata": {},
   "source": [
    "## Body Centered Cubic \n",
    "\n",
    "For the case of BCC structure we take tungsten as an example. In order to create a dislocation configuration one has to provide lattice parameter and elastic constants. It is possible to provide these values from literature. However, if you plan to relax the configuration with an interatomic potential, `matscipy.dislocation` provides a convenient method `get_elastic_constants` to calculate desired properties. We will use and Embedded Atom Potential from [Marinica _et. al._ 2013 paper](http://dx.doi.org/10.1088/0953-8984/25/39/395502) (version EAM4) for the case of tungsten."
   ]
  },
  {
   "cell_type": "code",
   "execution_count": 2,
   "metadata": {
    "tags": [
     "hide-output"
    ]
   },
   "outputs": [
    {
     "name": "stdout",
     "output_type": "stream",
     "text": [
      "      Step     Time          Energy         fmax\n",
      "*Force-consistent energies used in optimization.\n",
      "FIRE:    0 17:12:31      -17.792788*       1.5616\n",
      "FIRE:    1 17:12:31      -17.796007*       1.2330\n",
      "FIRE:    2 17:12:31      -17.798904*       0.6354\n",
      "FIRE:    3 17:12:31      -17.799853*       0.2223\n",
      "FIRE:    4 17:12:31      -17.799882*       0.1976\n",
      "FIRE:    5 17:12:31      -17.799928*       0.1509\n",
      "FIRE:    6 17:12:31      -17.799970*       0.0870\n",
      "FIRE:    7 17:12:31      -17.799991*       0.0130\n",
      "FIRE:    8 17:12:31      -17.799981*       0.0629\n",
      "FIRE:    9 17:12:31      -17.799981*       0.0611\n",
      "FIRE:   10 17:12:31      -17.799982*       0.0576\n",
      "FIRE:   11 17:12:31      -17.799984*       0.0525\n",
      "FIRE:   12 17:12:31      -17.799986*       0.0458\n",
      "FIRE:   13 17:12:31      -17.799988*       0.0379\n",
      "FIRE:   14 17:12:31      -17.799989*       0.0289\n",
      "FIRE:   15 17:12:31      -17.799991*       0.0191\n",
      "FIRE:   16 17:12:31      -17.799991*       0.0076\n",
      "FIRE:   17 17:12:31      -17.799992*       0.0052\n",
      "FIRE:   18 17:12:31      -17.799992*       0.0052\n",
      "FIRE:   19 17:12:31      -17.799992*       0.0051\n",
      "FIRE:   20 17:12:31      -17.799992*       0.0049\n",
      "FIRE:   21 17:12:31      -17.799992*       0.0047\n",
      "FIRE:   22 17:12:31      -17.799992*       0.0044\n",
      "FIRE:   23 17:12:31      -17.799992*       0.0041\n",
      "FIRE:   24 17:12:31      -17.799992*       0.0038\n",
      "FIRE:   25 17:12:31      -17.799992*       0.0034\n",
      "FIRE:   26 17:12:32      -17.799992*       0.0028\n",
      "FIRE:   27 17:12:32      -17.799992*       0.0022\n",
      "FIRE:   28 17:12:32      -17.799992*       0.0015\n",
      "FIRE:   29 17:12:32      -17.799992*       0.0006\n",
      "FIRE:   30 17:12:32      -17.799992*       0.0003\n",
      "FIRE:   31 17:12:32      -17.799992*       0.0003\n",
      "FIRE:   32 17:12:32      -17.799992*       0.0003\n",
      "FIRE:   33 17:12:32      -17.799992*       0.0003\n",
      "FIRE:   34 17:12:32      -17.799992*       0.0003\n",
      "FIRE:   35 17:12:32      -17.799992*       0.0003\n",
      "FIRE:   36 17:12:32      -17.799992*       0.0003\n",
      "FIRE:   37 17:12:32      -17.799992*       0.0003\n",
      "FIRE:   38 17:12:32      -17.799992*       0.0002\n",
      "FIRE:   39 17:12:32      -17.799992*       0.0002\n",
      "FIRE:   40 17:12:32      -17.799992*       0.0002\n",
      "FIRE:   41 17:12:32      -17.799992*       0.0001\n",
      "FIRE:   42 17:12:32      -17.799992*       0.0001\n",
      "Fitting C_11\n",
      "Strain array([-0.02, -0.01,  0.  ,  0.01,  0.02])\n",
      "Stress array([-1.18143011e+01, -5.57729763e+00, -2.88261126e-04,  4.98286691e+00,\n",
      "        9.85079614e+00]) GPa\n",
      "Cij (gradient) / GPa    :     538.9035896451811\n",
      "Error in Cij / GPa      :     16.58438171877605\n",
      "Correlation coefficient :     0.9985824334709763\n",
      "Setting C11 (1) to 3.363572 +/- 0.103512\n",
      "\n",
      "\n",
      "Fitting C_21\n",
      "Strain array([-0.02, -0.01,  0.  ,  0.01,  0.02])\n",
      "Stress array([-5.18171556e+00, -2.29563243e+00, -2.88261126e-04,  1.85153957e+00,\n",
      "        3.74132626e+00]) GPa\n",
      "Cij (gradient) / GPa    :     219.93255649330905\n",
      "Error in Cij / GPa      :     12.450223131452\n",
      "Correlation coefficient :     0.9952274688373496\n",
      "Setting C21 (7) to 1.372711 +/- 0.077708\n",
      "\n",
      "\n",
      "Fitting C_31\n",
      "Strain array([-0.02, -0.01,  0.  ,  0.01,  0.02])\n",
      "Stress array([-5.18171556e+00, -2.29563243e+00, -2.88261126e-04,  1.85153957e+00,\n",
      "        3.74132626e+00]) GPa\n",
      "Cij (gradient) / GPa    :     219.93255649330894\n",
      "Error in Cij / GPa      :     12.450223131452285\n",
      "Correlation coefficient :     0.9952274688373494\n",
      "Updating C31 (7) with value 1.372711 +/- 0.077708\n",
      "\n",
      "\n",
      "Fitting C_44\n",
      "Strain array([-0.02, -0.01,  0.  ,  0.01,  0.02])\n",
      "Stress array([-4.37426370e+00, -1.88654647e+00,  6.87238462e-15,  1.43563268e+00,\n",
      "        2.90478138e+00]) GPa\n",
      "Cij (gradient) / GPa    :     178.8026930257019\n",
      "Error in Cij / GPa      :     12.702352202927411\n",
      "Correlation coefficient :     0.992514621692753\n",
      "Setting C44 (4) to 1.115999 +/- 0.079282\n",
      "\n",
      "\n",
      "[[b C11 b C12 b C12 b     b     b    ]\n",
      " [b C12 b C11 b C12 b     b     b    ]\n",
      " [b C12 b C12 b C11 b     b     b    ]\n",
      " [b     b     b     b C44 b     b    ]\n",
      " [b     b     b     b     b C44 b    ]\n",
      " [b     b     b     b     b     b C44]]\n",
      "\n",
      " = \n",
      "\n",
      "[[538.9  219.93 219.93   0.     0.     0.  ]\n",
      " [219.93 538.9  219.93   0.     0.     0.  ]\n",
      " [219.93 219.93 538.9    0.     0.     0.  ]\n",
      " [  0.     0.     0.   178.8    0.     0.  ]\n",
      " [  0.     0.     0.     0.   178.8    0.  ]\n",
      " [  0.     0.     0.     0.     0.   178.8 ]]\n",
      "C_11 = 538.90 +/- 16.58 GPa\n",
      "C_12 = 219.93 +/- 12.45 GPa\n",
      "C_44 = 178.80 +/- 12.70 GPa\n"
     ]
    }
   ],
   "source": [
    "from matscipy.dislocation import get_elastic_constants\n",
    "# the calculator to provide forces and energies from the potential\n",
    "from matscipy.calculators.eam import EAM\n",
    "eam_calc = EAM(\"../../tests/w_eam4.fs\")\n",
    "\n",
    "# the function accepts any ASE type of calculator\n",
    "alat, C11, C12, C44 = get_elastic_constants(calculator=eam_calc, symbol=\"W\")"
   ]
  },
  {
   "cell_type": "code",
   "execution_count": 3,
   "metadata": {},
   "outputs": [
    {
     "name": "stdout",
     "output_type": "stream",
     "text": [
      "3.143 (Angstrom), 538.90, 219.93, 178.80 (GPa)\n"
     ]
    }
   ],
   "source": [
    "print(f\"{alat:.3f} (Angstrom), {C11:.2f}, {C12:.2f}, {C44:.2f} (GPa)\")"
   ]
  },
  {
   "cell_type": "markdown",
   "metadata": {},
   "source": [
    "The values are in good agreement with corresponding numbers in the paper: 3.143, 523, 202, 161"
   ]
  },
  {
   "cell_type": "markdown",
   "metadata": {},
   "source": [
    "### 1/2<111>{110} screw dislocation\n",
    "\n",
    "The notation 1/2<111>{110} means a dislocation with a burgers vector 1/2<111> and glide plane {110}. For screw dislocation, the dislocation line is parallel to the burgers vector, thus Z direction of the cell will be along <111>. The glide plane {110} fixes the Y direction to be <110> and the X direction is fixed by the geometry to be along <112>. However you do not have to think about it to start since `BCCScrew111Dislocation` object contains all the necessary information. All you need to do is to pass $a_0$ and elastic constants $C_{11}$, $C_{12}$ and $C_{44}$ and the symbol of the desired BCC element to the constructor."
   ]
  },
  {
   "cell_type": "code",
   "execution_count": 4,
   "metadata": {},
   "outputs": [
    {
     "name": "stdout",
     "output_type": "stream",
     "text": [
      "Cell orientation:\n",
      "[[ 1  1 -2]\n",
      " [-1  1  0]\n",
      " [ 1  1  1]]\n",
      "Burgers vector:\n",
      "[1.57169453 1.57169453 1.57169453]\n"
     ]
    }
   ],
   "source": [
    "from matscipy.dislocation import BCCScrew111Dislocation\n",
    "\n",
    "W_screw = BCCScrew111Dislocation(alat, C11, C12, C44, symbol=\"W\")\n",
    "\n",
    "print(\"Cell orientation:\")\n",
    "print(W_screw.axes)\n",
    "\n",
    "print(\"Burgers vector:\")\n",
    "print(W_screw.burgers)\n"
   ]
  },
  {
   "cell_type": "markdown",
   "metadata": {},
   "source": [
    "We are going to use `BCCScrew111Dislocation.build_cylinder()` method to build the cells. All the necessary parameters are passed automatically and we only need to chose the radius of the cell in (X,Y) plane. The function returns reference bulk cell and a cell containing dislocation. The displacement field is applied iteratively until a converged value is achieved, the printed output shows the difference between the steps. The radius provided is a parameter is a radius of unconstrained region around the core. The outer shell of fixed atoms is added on top of this. The default value is 10 Angstrom which is about two times larger than the cutoff for the used interatomic potential. The information about which atoms are fixed is stored in `fix_mask` array and can be accessed via `W_screw_dislo.get_array('fix_mask')`."
   ]
  },
  {
   "cell_type": "code",
   "execution_count": 5,
   "metadata": {},
   "outputs": [
    {
     "name": "stdout",
     "output_type": "stream",
     "text": [
      "disloc SCF 0 |d1-d2|_inf = 0.0014007233320793289\n",
      "disloc SCF 1 |d1-d2|_inf = 6.7043949893985655e-06\n",
      "disloc SCF 2 |d1-d2|_inf = 3.208936316667632e-08\n",
      "\n",
      "Cell vectors:\n",
      "[[61.59759392  0.          0.        ]\n",
      " [ 0.         62.235928    0.        ]\n",
      " [ 0.          0.          2.72225477]]\n",
      "\n",
      "Burgers vector lenth:\n",
      "2.722254772666657\n"
     ]
    }
   ],
   "source": [
    "W_screw_bulk, W_screw_dislo = W_screw.build_cylinder(radius=20)\n",
    "\n",
    "print(\"\\nCell vectors:\")\n",
    "print(W_screw_dislo.cell.array)\n",
    "\n",
    "print(f\"\\nBurgers vector lenth: {np.linalg.norm(W_screw.burgers):.2f} Angstrom\")"
   ]
  },
  {
   "cell_type": "markdown",
   "metadata": {},
   "source": [
    "Now we can look at the created structure with the interactive view. Hovering your mouse over an atom will show chemical symbol of the atom and the structure identified by CNA algorithm. Dislocation is shown with an arrow corresponding to the dislocation line vector $\\vec l$. Hovering over the dislocation will display the dislocation name. Moreover, you can use your mouse to control the view:\n",
    "\n",
    "- Translation: right click + drag\n",
    "- Rotation: left click + drag\n",
    "- Z-axis rotation: Ctrl + right click + drag\n",
    "- Zoom: scroll wheel\n",
    "- Center view: left click on the desired atom"
   ]
  },
  {
   "cell_type": "code",
   "execution_count": 32,
   "metadata": {},
   "outputs": [
    {
     "data": {
      "application/vnd.jupyter.widget-view+json": {
       "model_id": "79178a0cadb9403db47a910b20a9ce5c",
       "version_major": 2,
       "version_minor": 0
      },
      "text/plain": [
       "NGLWidget()"
      ]
     },
     "metadata": {},
     "output_type": "display_data"
    }
   ],
   "source": [
    "show_dislocation(W_screw_dislo, d_name=\"1/2<111> screw\")"
   ]
  },
  {
   "cell_type": "markdown",
   "metadata": {},
   "source": [
    "It can be seen that most of the cell is identified as BCC structure with some grey atoms identified as _Other_. These atoms represent the defect atoms, where the algorithm could not assign a crystallographic structure. In this case we have defect atoms at the dislocation core and on the artificial free surfaces on the edges of the cell. The atoms at the _surface_ are part of fixed region of the cell. \n",
    "\n",
    "Here we have a cell with the length of one Burgers vector $|\\vec b| = \\frac{\\sqrt{3}}{2}a_0$ along the dislocation line. With the periodic boundary conditions along Z, it corresponds to infinitely long straight dislocation line. Note that the periodic boundary conditions along the dislocation line are not applied in the visualisation. It makes it easier to see the displacement, but you might notice the atoms outside the simulation box. \n",
    "\n",
    "To increase the size of the cell along the line we can rely on the magic of [ASE](https://wiki.fysik.dtu.dk/ase/) and simply multiply the cell."
   ]
  },
  {
   "cell_type": "code",
   "execution_count": 6,
   "metadata": {},
   "outputs": [
    {
     "data": {
      "application/vnd.jupyter.widget-view+json": {
       "model_id": "289662ff2b0e447e8c5a9a74174ff73f",
       "version_major": 2,
       "version_minor": 0
      },
      "text/plain": [
       "NGLWidget()"
      ]
     },
     "metadata": {},
     "output_type": "display_data"
    }
   ],
   "source": [
    "interactive_view(W_screw_dislo * [1, 1, 10])"
   ]
  },
  {
   "cell_type": "markdown",
   "metadata": {},
   "source": [
    "Since fo screw dislocations the displacement is parallel to the dislocation line, it is not easy to see the displacement without 3D tools. Thus so-called differential displacement (Vitek) maps are used to visualise the dislocation core. `matscipy.dislocation` offers a tool called {py:meth}`matscipy.dislocation.plot_vitek` to build these maps. The colors of the atoms represent three non equivalen planes of W atoms along <111> direction and the arrows represent the difference in displacement of atoms along Z direction. The visualisation below shows so-called compact and symmetric core, which is the most stable for BCC materials. "
   ]
  },
  {
   "cell_type": "code",
   "execution_count": 7,
   "metadata": {},
   "outputs": [
    {
     "data": {
      "image/png": "[encoded data removed]",
      "text/plain": [
       "<Figure size 216x216 with 1 Axes>"
      ]
     },
     "metadata": {
      "needs_background": "light"
     },
     "output_type": "display_data"
    }
   ],
   "source": [
    "fig, ax = plt.subplots()\n",
    "plot_vitek(W_screw_dislo, W_screw_bulk, alat=alat, xyscale=5, plot_axes=ax)\n",
    "ax.set_aspect(\"equal\")\n",
    "ax.set_xlabel(f\"{W_screw.axes[0]} direction ($\\AA$)\")\n",
    "ax.set_ylabel(f\"{W_screw.axes[1]} direction ($\\AA$)\");"
   ]
  },
  {
   "cell_type": "markdown",
   "metadata": {},
   "source": [
    "We can use the ASE minimisation tools to minimise the structure using the chosen interatomic potential:"
   ]
  },
  {
   "cell_type": "code",
   "execution_count": 8,
   "metadata": {
    "tags": [
     "hide-output"
    ]
   },
   "outputs": [
    {
     "name": "stdout",
     "output_type": "stream",
     "text": [
      "PreconLBFGS:   0  17:12:34    -1936.097946       2.5284\n",
      "PreconLBFGS:   1  17:12:35    -1936.291357       0.3596\n",
      "PreconLBFGS:   2  17:12:35    -1936.346476       0.2286\n",
      "PreconLBFGS:   3  17:12:36    -1936.361691       0.6206\n",
      "PreconLBFGS:   4  17:12:36    -1936.374519       0.1534\n",
      "PreconLBFGS:   5  17:12:36    -1936.377157       0.0604\n",
      "PreconLBFGS:   6  17:12:37    -1936.378302       0.0847\n",
      "PreconLBFGS:   7  17:12:38    -1936.378545       0.0449\n",
      "PreconLBFGS:   8  17:12:38    -1936.378652       0.0124\n",
      "PreconLBFGS:   9  17:12:38    -1936.378665       0.0059\n"
     ]
    },
    {
     "data": {
      "text/plain": [
       "True"
      ]
     },
     "execution_count": 8,
     "metadata": {},
     "output_type": "execute_result"
    }
   ],
   "source": [
    "W_screw_dislo.calc = eam_calc\n",
    "opt = PreconLBFGS(W_screw_dislo)\n",
    "opt.run(fmax=0.01)\n"
   ]
  },
  {
   "cell_type": "code",
   "execution_count": 9,
   "metadata": {},
   "outputs": [
    {
     "data": {
      "image/png": "[encoded data removed]",
      "text/plain": [
       "<Figure size 216x216 with 1 Axes>"
      ]
     },
     "metadata": {
      "needs_background": "light"
     },
     "output_type": "display_data"
    }
   ],
   "source": [
    "fig, ax = plt.subplots()\n",
    "plot_vitek(W_screw_dislo, W_screw_bulk, alat=alat, xyscale=5, plot_axes=ax)\n",
    "ax.set_aspect(\"equal\")\n",
    "ax.set_xlabel(f\"{W_screw.axes[0]} direction ($\\AA$)\")\n",
    "ax.set_ylabel(f\"{W_screw.axes[1]} direction ($\\AA$)\");"
   ]
  },
  {
   "cell_type": "markdown",
   "metadata": {},
   "source": [
    "Differential displacement map of the relaxed structure shows almost the same picture as before with symmetric 'easy' dislocation core. This means that for the selected interatomic potential this structure is indeed the most stable and that the initial guess of the displacement was reasonably good. "
   ]
  },
  {
   "cell_type": "markdown",
   "metadata": {},
   "source": [
    "If you want to save the configuration in a file for further analysis or as an input for a code you can use build in [ASE write method](https://wiki.fysik.dtu.dk/ase/ase/io/io.html#ase.io.write) as `longer_W_screw_dislo.write(filename)`. The method supports a wide range of formats including `xyz` and LAMMPS data files. Do not forget to take into account fixed atoms if you use the saved file as an input for a simulation code like LAMMPS. \n",
    "\n",
    "### 1/2<111>{110} edge dislocation\n",
    "\n",
    "As we said before, for edge dislocations burgers vectpr $\\vec b$ is perpendicular to the dislocation $\\vec l$. So here, we have the same glide plane of (110) which fixes the cell Y direction to <110>. X direction now will be along burgers vector <111> and Z dislocation line direction <112>."
   ]
  },
  {
   "cell_type": "code",
   "execution_count": 10,
   "metadata": {},
   "outputs": [
    {
     "name": "stdout",
     "output_type": "stream",
     "text": [
      "Cell orientation:\n",
      "[[ 1  1  1]\n",
      " [ 1 -1  0]\n",
      " [ 1  1 -2]]\n",
      "Burgers vector:\n",
      "[1.57169453 1.57169453 1.57169453]\n"
     ]
    }
   ],
   "source": [
    "from matscipy.dislocation import BCCEdge111Dislocation\n",
    "\n",
    "W_edge = BCCEdge111Dislocation(alat, C11, C12, C44, symbol=\"W\")\n",
    "\n",
    "print(\"Cell orientation:\")\n",
    "print(W_edge.axes)\n",
    "\n",
    "print(\"Burgers vector:\")\n",
    "print(W_edge.burgers)\n"
   ]
  },
  {
   "cell_type": "code",
   "execution_count": 11,
   "metadata": {},
   "outputs": [
    {
     "name": "stdout",
     "output_type": "stream",
     "text": [
      "disloc SCF 0 |d1-d2|_inf = 0.17503717189385914\n",
      "disloc SCF 1 |d1-d2|_inf = 0.03066965106335537\n",
      "disloc SCF 2 |d1-d2|_inf = 0.0043764896402691544\n",
      "disloc SCF 3 |d1-d2|_inf = 0.0008807112000274175\n",
      "disloc SCF 4 |d1-d2|_inf = 0.00015452837692359056\n",
      "disloc SCF 5 |d1-d2|_inf = 2.6112647029563618e-05\n",
      "disloc SCF 6 |d1-d2|_inf = 5.748780400494091e-06\n",
      "disloc SCF 7 |d1-d2|_inf = 7.771108775367352e-07\n",
      "\n",
      "Cell vectors:\n",
      "[[54.44509545  0.          0.        ]\n",
      " [ 0.         53.34508114  0.        ]\n",
      " [ 0.          0.          7.69969924]]\n",
      "\n",
      "Burgers vector lenth:\n",
      "2.722254772666657\n"
     ]
    },
    {
     "data": {
      "application/vnd.jupyter.widget-view+json": {
       "model_id": "bbc8fb35d41040e1bdcd1bd3e1d8f25d",
       "version_major": 2,
       "version_minor": 0
      },
      "text/plain": [
       "NGLWidget()"
      ]
     },
     "metadata": {},
     "output_type": "display_data"
    }
   ],
   "source": [
    "W_edge_bulk, W_edge_dislo = W_edge.build_cylinder(radius=15)\n",
    "\n",
    "print(\"\\nCell vectors:\")\n",
    "print(W_edge_dislo.cell.array)\n",
    "\n",
    "print(f\"\\nBurgers vector lenth: {np.linalg.norm(W_edge.burgers):.2f} Angstrom\")"
   ]
  },
  {
   "cell_type": "markdown",
   "metadata": {},
   "source": [
    "It can be seen from the print output of ` W_edge.build_cylinder()` that the case of edge dislocation the requires more iterations to achieve converged displacement field."
   ]
  },
  {
   "cell_type": "code",
   "execution_count": 12,
   "metadata": {
    "tags": [
     "hide-output"
    ]
   },
   "outputs": [
    {
     "name": "stdout",
     "output_type": "stream",
     "text": [
      "PreconLBFGS:   0  17:12:40    -3017.104472       5.8264\n",
      "PreconLBFGS:   1  17:12:42    -3017.709557       4.8423\n",
      "PreconLBFGS:   2  17:12:43    -3018.145952       3.6773\n",
      "PreconLBFGS:   3  17:12:43    -3018.510026       2.2950\n",
      "PreconLBFGS:   4  17:12:44    -3018.881181       1.4546\n",
      "PreconLBFGS:   5  17:12:45    -3019.132006       0.7013\n",
      "PreconLBFGS:   6  17:12:45    -3019.257226       0.4936\n",
      "PreconLBFGS:   7  17:12:46    -3019.309721       0.8501\n",
      "PreconLBFGS:   8  17:12:47    -3019.331783       0.4275\n",
      "PreconLBFGS:   9  17:12:48    -3019.340055       0.2540\n",
      "PreconLBFGS:  10  17:12:50    -3019.343848       0.2224\n",
      "PreconLBFGS:  11  17:12:50    -3019.345682       0.3022\n",
      "PreconLBFGS:  12  17:12:51    -3019.347748       0.1698\n",
      "PreconLBFGS:  13  17:12:51    -3019.348742       0.0915\n",
      "PreconLBFGS:  14  17:12:53    -3019.349178       0.0348\n",
      "PreconLBFGS:  15  17:12:53    -3019.349290       0.0489\n",
      "PreconLBFGS:  16  17:12:54    -3019.349394       0.0276\n",
      "PreconLBFGS:  17  17:12:55    -3019.349421       0.0100\n",
      "PreconLBFGS:  18  17:12:56    -3019.349433       0.0057\n"
     ]
    },
    {
     "data": {
      "text/plain": [
       "True"
      ]
     },
     "execution_count": 12,
     "metadata": {},
     "output_type": "execute_result"
    }
   ],
   "source": [
    "W_edge_dislo.calc = eam_calc\n",
    "opt = PreconLBFGS(W_edge_dislo)\n",
    "opt.run(fmax=0.01)"
   ]
  },
  {
   "cell_type": "code",
   "execution_count": 13,
   "metadata": {},
   "outputs": [
    {
     "data": {
      "application/vnd.jupyter.widget-view+json": {
       "model_id": "72d95fd8bbe14a858d94e9b3f8056035",
       "version_major": 2,
       "version_minor": 0
      },
      "text/plain": [
       "NGLWidget()"
      ]
     },
     "metadata": {},
     "output_type": "display_data"
    }
   ],
   "source": [
    "show_dislocation(W_edge_dislo, scale=0.25, d_name=\"1/2<111> edge\")"
   ]
  },
  {
   "cell_type": "markdown",
   "metadata": {},
   "source": [
    "### 1/2<111>{110} mixed dislocation\n",
    "\n",
    "For mixed dislocation the cell vector are the same as for the screw dislocation. The difference is that the displacement vector is applied along <111> direction that is not parallel to the Z direction: [$1\\bar 11$] and [$1\\bar 1 \\bar1$] with an angle of 70.5 degrees between the vectors. This leads to both edge and screw component in the displacement and thus the name _mixed_ dislocation."
   ]
  },
  {
   "cell_type": "code",
   "execution_count": 14,
   "metadata": {},
   "outputs": [
    {
     "name": "stdout",
     "output_type": "stream",
     "text": [
      "Cell orientation:\n",
      "[[ 1 -1 -2]\n",
      " [ 1  1  0]\n",
      " [ 1 -1  1]]\n",
      "Burgers vector:\n",
      "[ 1.57169453 -1.57169453 -1.57169453]\n"
     ]
    }
   ],
   "source": [
    "from matscipy.dislocation import BCCMixed111Dislocation\n",
    "\n",
    "W_mixed = BCCMixed111Dislocation(alat, C11, C12, C44, symbol=\"W\")\n",
    "\n",
    "print(\"Cell orientation:\")\n",
    "print(W_mixed.axes)\n",
    "\n",
    "print(\"Burgers vector:\")\n",
    "print(W_mixed.burgers)\n"
   ]
  },
  {
   "cell_type": "code",
   "execution_count": 15,
   "metadata": {},
   "outputs": [
    {
     "name": "stdout",
     "output_type": "stream",
     "text": [
      "disloc SCF 0 |d1-d2|_inf = 0.29120782506159093\n",
      "disloc SCF 1 |d1-d2|_inf = 0.04617006234943166\n",
      "disloc SCF 2 |d1-d2|_inf = 0.011433815820402815\n",
      "disloc SCF 3 |d1-d2|_inf = 0.0007697516027555945\n",
      "disloc SCF 4 |d1-d2|_inf = 0.0003591872411294883\n",
      "disloc SCF 5 |d1-d2|_inf = 2.8555001409594216e-05\n",
      "disloc SCF 6 |d1-d2|_inf = 1.0262833599394838e-05\n",
      "disloc SCF 7 |d1-d2|_inf = 9.26250876873147e-07\n",
      "\n",
      "Cell vectors:\n",
      "[[61.59759392  0.          0.        ]\n",
      " [ 0.         62.235928    0.        ]\n",
      " [ 0.          0.          2.72225477]]\n",
      "\n",
      "Burgers vector lenth:\n",
      "2.722254772666657\n"
     ]
    },
    {
     "data": {
      "application/vnd.jupyter.widget-view+json": {
       "model_id": "3e1ef59194ef4b1d8c1ca9ba1aab2b6a",
       "version_major": 2,
       "version_minor": 0
      },
      "text/plain": [
       "NGLWidget()"
      ]
     },
     "metadata": {},
     "output_type": "display_data"
    }
   ],
   "source": [
    "W_mixed_bulk, W_mixed_dislo = W_mixed.build_cylinder(radius=20)\n",
    "\n",
    "print(\"\\nCell vectors:\")\n",
    "print(W_mixed_dislo.cell.array)\n",
    "\n",
    "print(f\"\\nBurgers vector length: {np.linalg.norm(W_mixed.burgers):.2f} Angstrom\")\n",
    "\n",
    "interactive_view(W_mixed_dislo, scale=0.5)"
   ]
  },
  {
   "cell_type": "code",
   "execution_count": 16,
   "metadata": {},
   "outputs": [
    {
     "data": {
      "text/plain": [
       "Text(0, 0.5, '[1 1 0] direction ($\\\\AA$)')"
      ]
     },
     "execution_count": 16,
     "metadata": {},
     "output_type": "execute_result"
    },
    {
     "data": {
      "image/png": "[encoded data removed]",
      "text/plain": [
       "<Figure size 216x216 with 1 Axes>"
      ]
     },
     "metadata": {
      "needs_background": "light"
     },
     "output_type": "display_data"
    }
   ],
   "source": [
    "fig, ax = plt.subplots()\n",
    "plot_vitek(W_mixed_dislo, W_mixed_bulk, alat=alat, xyscale=8, plot_axes=ax)\n",
    "ax.set_aspect(\"equal\")\n",
    "ax.set_xlabel(f\"{W_mixed.axes[0]} direction ($\\AA$)\")\n",
    "ax.set_ylabel(f\"{W_mixed.axes[1]} direction ($\\AA$)\")"
   ]
  },
  {
   "cell_type": "markdown",
   "metadata": {},
   "source": [
    "It can be seen that the screw displacement component is not local as compared to the case of screw dislocation. This is because in this visualisation edge component of the displacement is not taken into account. It is the full displacement as screw plus edge component that makes a periodic vector leading to perfect structure and thus no displacement far from the dislocation core."
   ]
  },
  {
   "cell_type": "code",
   "execution_count": 17,
   "metadata": {
    "tags": [
     "hide-output"
    ]
   },
   "outputs": [
    {
     "name": "stdout",
     "output_type": "stream",
     "text": [
      "PreconLBFGS:   0  17:12:58    -1345.291374       2.0670\n",
      "PreconLBFGS:   1  17:12:58    -1345.511354       1.2264\n",
      "PreconLBFGS:   2  17:12:59    -1345.668167       1.2348\n",
      "PreconLBFGS:   3  17:12:59    -1345.845825       0.9316\n",
      "PreconLBFGS:   4  17:12:59    -1345.927850       0.6732\n",
      "PreconLBFGS:   5  17:12:59    -1345.992997       0.6671\n",
      "PreconLBFGS:   6  17:13:00    -1346.034419       0.8608\n",
      "PreconLBFGS:   7  17:13:00    -1346.078630       0.5041\n",
      "PreconLBFGS:   8  17:13:00    -1346.101435       0.8506\n",
      "PreconLBFGS:   9  17:13:00    -1346.110288       0.5020\n",
      "PreconLBFGS:  10  17:13:01    -1346.116416       0.1456\n",
      "PreconLBFGS:  11  17:13:01    -1346.117992       0.1432\n",
      "PreconLBFGS:  12  17:13:01    -1346.119336       0.1049\n",
      "PreconLBFGS:  13  17:13:01    -1346.119740       0.0290\n",
      "PreconLBFGS:  14  17:13:02    -1346.119910       0.0260\n",
      "PreconLBFGS:  15  17:13:02    -1346.119985       0.0260\n",
      "PreconLBFGS:  16  17:13:02    -1346.120012       0.0122\n",
      "PreconLBFGS:  17  17:13:03    -1346.120023       0.0128\n",
      "PreconLBFGS:  18  17:13:03    -1346.120029       0.0043\n"
     ]
    },
    {
     "data": {
      "text/plain": [
       "True"
      ]
     },
     "execution_count": 17,
     "metadata": {},
     "output_type": "execute_result"
    }
   ],
   "source": [
    "W_mixed_dislo.calc = eam_calc\n",
    "opt = PreconLBFGS(W_mixed_dislo)\n",
    "opt.run(fmax=0.01)"
   ]
  },
  {
   "cell_type": "code",
   "execution_count": 18,
   "metadata": {},
   "outputs": [
    {
     "data": {
      "application/vnd.jupyter.widget-view+json": {
       "model_id": "d44b061d4383470996a0461a8aad5e36",
       "version_major": 2,
       "version_minor": 0
      },
      "text/plain": [
       "NGLWidget()"
      ]
     },
     "metadata": {},
     "output_type": "display_data"
    }
   ],
   "source": [
    "interactive_view(W_mixed_dislo, scale=0.5)"
   ]
  },
  {
   "cell_type": "code",
   "execution_count": 19,
   "metadata": {},
   "outputs": [
    {
     "data": {
      "image/png": "[encoded data removed]",
      "text/plain": [
       "<Figure size 216x216 with 1 Axes>"
      ]
     },
     "metadata": {
      "needs_background": "light"
     },
     "output_type": "display_data"
    }
   ],
   "source": [
    "fig, ax = plt.subplots()\n",
    "plot_vitek(W_mixed_dislo, W_mixed_bulk, alat=alat, xyscale=8, plot_axes=ax)\n",
    "ax.set_aspect(\"equal\")\n",
    "ax.set_xlabel(f\"{W_mixed.axes[0]} direction ($\\AA$)\")\n",
    "ax.set_ylabel(f\"{W_mixed.axes[1]} direction ($\\AA$)\");"
   ]
  },
  {
   "cell_type": "markdown",
   "metadata": {},
   "source": [
    "Spreading of the dislocation core along the glide plane can be seen in the displacement map after relaxation."
   ]
  },
  {
   "cell_type": "markdown",
   "metadata": {},
   "source": [
    "### <100>{110} edge 'junction' dislocation\n",
    "\n",
    "So called junction dislocations with burdgers vector along <100> can be formed in the reactions between more abundant dislocations with burgers vector 1/2<111> such as: \n",
    "\n",
    "$$\n",
    "    \\frac{1}{2}[1\\bar{1}1] + \\frac{1}{2}[11\\bar{1}] = [100]\n",
    "$$\n",
    "\n",
    "They share the same glide plane as 1/2<111> dislocations and can play important role in impurity segregation. "
   ]
  },
  {
   "cell_type": "code",
   "execution_count": 20,
   "metadata": {},
   "outputs": [
    {
     "name": "stdout",
     "output_type": "stream",
     "text": [
      "Cell orientation:\n",
      "[[ 1  0  0]\n",
      " [ 0  1  1]\n",
      " [ 0 -1  1]]\n",
      "Burgers vector:\n",
      "[3.14338905 0.         0.        ]\n"
     ]
    }
   ],
   "source": [
    "from matscipy.dislocation import BCCEdge100110Dislocation\n",
    "\n",
    "W_100110_edge = BCCEdge100110Dislocation(alat, C11, C12, C44, symbol=\"W\")\n",
    "\n",
    "print(\"Cell orientation:\")\n",
    "print(W_100110_edge.axes)\n",
    "\n",
    "print(\"Burgers vector:\")\n",
    "print(W_100110_edge.burgers)\n"
   ]
  },
  {
   "cell_type": "code",
   "execution_count": 21,
   "metadata": {},
   "outputs": [
    {
     "name": "stdout",
     "output_type": "stream",
     "text": [
      "disloc SCF 0 |d1-d2|_inf = 0.38106119508836045\n",
      "disloc SCF 1 |d1-d2|_inf = 0.08758996175661493\n",
      "disloc SCF 2 |d1-d2|_inf = 0.016681680943138266\n",
      "disloc SCF 3 |d1-d2|_inf = 0.0030061600783656828\n",
      "disloc SCF 4 |d1-d2|_inf = 0.0022649654222646753\n",
      "disloc SCF 5 |d1-d2|_inf = 0.0003865990814259229\n",
      "disloc SCF 6 |d1-d2|_inf = 0.00038864015074802083\n",
      "disloc SCF 7 |d1-d2|_inf = 7.699961515818254e-05\n",
      "disloc SCF 8 |d1-d2|_inf = 6.11796088796912e-05\n",
      "disloc SCF 9 |d1-d2|_inf = 1.3713226368575193e-05\n",
      "disloc SCF 10 |d1-d2|_inf = 8.793773856208276e-06\n",
      "disloc SCF 11 |d1-d2|_inf = 2.447947355543878e-06\n",
      "disloc SCF 12 |d1-d2|_inf = 1.127185940752451e-06\n",
      "disloc SCF 13 |d1-d2|_inf = 5.245602844317077e-07\n"
     ]
    },
    {
     "data": {
      "application/vnd.jupyter.widget-view+json": {
       "model_id": "859a99748ac64b36b398be4215ac3789",
       "version_major": 2,
       "version_minor": 0
      },
      "text/plain": [
       "NGLWidget()"
      ]
     },
     "metadata": {},
     "output_type": "display_data"
    }
   ],
   "source": [
    "W_edge_bulk, W_edge_dislo = W_edge.build_cylinder(radius=15)\n",
    "interactive_view(W_edge_dislo, scale=0.3)"
   ]
  },
  {
   "cell_type": "code",
   "execution_count": 22,
   "metadata": {
    "tags": [
     "hide-output"
    ]
   },
   "outputs": [
    {
     "name": "stdout",
     "output_type": "stream",
     "text": [
      "PreconLBFGS:   0  17:13:05    -1690.054252       3.4168\n",
      "PreconLBFGS:   1  17:13:06    -1690.715614       2.2979\n",
      "PreconLBFGS:   2  17:13:06    -1691.029877       1.6814\n",
      "PreconLBFGS:   3  17:13:06    -1691.204064       1.1926\n",
      "PreconLBFGS:   4  17:13:07    -1691.304510       0.6054\n",
      "PreconLBFGS:   5  17:13:07    -1691.349364       0.6847\n",
      "PreconLBFGS:   6  17:13:08    -1691.367045       0.3587\n",
      "PreconLBFGS:   7  17:13:09    -1691.375287       0.3406\n",
      "PreconLBFGS:   8  17:13:09    -1691.379171       0.2393\n",
      "PreconLBFGS:   9  17:13:10    -1691.381406       0.1023\n",
      "PreconLBFGS:  10  17:13:11    -1691.382284       0.0507\n",
      "PreconLBFGS:  11  17:13:11    -1691.382462       0.0403\n",
      "PreconLBFGS:  12  17:13:12    -1691.382549       0.0295\n",
      "PreconLBFGS:  13  17:13:13    -1691.382577       0.0173\n",
      "PreconLBFGS:  14  17:13:13    -1691.382595       0.0098\n"
     ]
    },
    {
     "data": {
      "text/plain": [
       "True"
      ]
     },
     "execution_count": 22,
     "metadata": {},
     "output_type": "execute_result"
    }
   ],
   "source": [
    "W_edge_dislo.calc = eam_calc\n",
    "opt = PreconLBFGS(W_edge_dislo)\n",
    "opt.run(fmax=0.01)"
   ]
  },
  {
   "cell_type": "code",
   "execution_count": 23,
   "metadata": {},
   "outputs": [
    {
     "data": {
      "application/vnd.jupyter.widget-view+json": {
       "model_id": "201aea6330c342dca30a813adf5355c8",
       "version_major": 2,
       "version_minor": 0
      },
      "text/plain": [
       "NGLWidget()"
      ]
     },
     "metadata": {},
     "output_type": "display_data"
    }
   ],
   "source": [
    "interactive_view(W_edge_dislo, scale=0.3)"
   ]
  },
  {
   "cell_type": "markdown",
   "metadata": {},
   "source": [
    "### <100>{001} edge dislocation\n",
    "\n",
    "This is the same junction dislocation but lying in a different glide plane: (001)."
   ]
  },
  {
   "cell_type": "code",
   "execution_count": 24,
   "metadata": {},
   "outputs": [
    {
     "name": "stdout",
     "output_type": "stream",
     "text": [
      "Cell orientation:\n",
      "[[ 1  0  0]\n",
      " [ 0  0 -1]\n",
      " [ 0  1  0]]\n",
      "Burgers vector:\n",
      "[3.14338905 0.         0.        ]\n"
     ]
    }
   ],
   "source": [
    "from matscipy.dislocation import BCCEdge100Dislocation\n",
    "\n",
    "W_100_edge = BCCEdge100Dislocation(alat, C11, C12, C44, symbol=\"W\")\n",
    "\n",
    "print(\"Cell orientation:\")\n",
    "print(W_100_edge.axes)\n",
    "\n",
    "print(\"Burgers vector:\")\n",
    "print(W_100_edge.burgers)\n"
   ]
  },
  {
   "cell_type": "code",
   "execution_count": 25,
   "metadata": {},
   "outputs": [
    {
     "name": "stdout",
     "output_type": "stream",
     "text": [
      "disloc SCF 0 |d1-d2|_inf = 0.29723896079013645\n",
      "disloc SCF 1 |d1-d2|_inf = 0.03893895819759985\n",
      "disloc SCF 2 |d1-d2|_inf = 0.011189961805871507\n",
      "disloc SCF 3 |d1-d2|_inf = 0.001492901691747886\n",
      "disloc SCF 4 |d1-d2|_inf = 0.00046542738716470744\n",
      "disloc SCF 5 |d1-d2|_inf = 8.162136711201834e-05\n",
      "disloc SCF 6 |d1-d2|_inf = 1.3593036749304233e-05\n",
      "disloc SCF 7 |d1-d2|_inf = 4.370960949406921e-06\n",
      "disloc SCF 8 |d1-d2|_inf = 5.007713461402385e-07\n"
     ]
    },
    {
     "data": {
      "application/vnd.jupyter.widget-view+json": {
       "model_id": "fe5b9a27513149b79a0daa74edc627ca",
       "version_major": 2,
       "version_minor": 0
      },
      "text/plain": [
       "NGLWidget()"
      ]
     },
     "metadata": {},
     "output_type": "display_data"
    }
   ],
   "source": [
    "W_100_edge_bulk, W_100_edge_dislo = W_100_edge.build_cylinder(radius=20)\n",
    "show_dislocation(W_100_edge_dislo, scale=0.4, d_name=\"<100>{001} edge\", d_color=[1, 0, 1])"
   ]
  },
  {
   "cell_type": "markdown",
   "metadata": {},
   "source": [
    "## Face Centered Cubic\n",
    "\n",
    "As an example of FCC material we will consider Ni and an interatomic potential from [Bonny _et. al._](https://www.tandfonline.com/doi/abs/10.1080/14786430903299824)\n"
   ]
  },
  {
   "cell_type": "code",
   "execution_count": 26,
   "metadata": {
    "tags": [
     "hide-output"
    ]
   },
   "outputs": [
    {
     "name": "stdout",
     "output_type": "stream",
     "text": [
      "PreconLBFGS:   0  17:13:14    -1197.049103       4.0121\n",
      "PreconLBFGS:   1  17:13:15    -1197.620334       2.9053\n",
      "PreconLBFGS:   2  17:13:15    -1198.067968       2.6048\n",
      "PreconLBFGS:   3  17:13:15    -1198.399443       2.4440\n",
      "PreconLBFGS:   4  17:13:16    -1198.586938       1.1263\n",
      "PreconLBFGS:   5  17:13:16    -1198.671181       1.3039\n",
      "PreconLBFGS:   6  17:13:16    -1198.697992       0.7714\n",
      "PreconLBFGS:   7  17:13:17    -1198.716525       0.2102\n",
      "PreconLBFGS:   8  17:13:17    -1198.718535       0.1449\n",
      "PreconLBFGS:   9  17:13:18    -1198.719674       0.1189\n",
      "PreconLBFGS:  10  17:13:18    -1198.720390       0.0850\n",
      "PreconLBFGS:  11  17:13:19    -1198.720748       0.0766\n",
      "PreconLBFGS:  12  17:13:19    -1198.720895       0.0402\n",
      "PreconLBFGS:  13  17:13:19    -1198.720957       0.0269\n",
      "PreconLBFGS:  14  17:13:20    -1198.721003       0.0333\n",
      "PreconLBFGS:  15  17:13:20    -1198.721029       0.0175\n",
      "PreconLBFGS:  16  17:13:21    -1198.721042       0.0121\n",
      "PreconLBFGS:  17  17:13:21    -1198.721047       0.0046\n"
     ]
    },
    {
     "data": {
      "text/plain": [
       "True"
      ]
     },
     "execution_count": 26,
     "metadata": {},
     "output_type": "execute_result"
    }
   ],
   "source": [
    "eam_calc = EAM(\"../../tests/FeCuNi.eam.alloy\")\n",
    "\n",
    "# the function accepts any ASE type of calculator\n",
    "alat, C11, C12, C44 = get_elastic_constants(calculator=eam_calc, symbol=\"Ni\")"
   ]
  },
  {
   "cell_type": "code",
   "execution_count": 27,
   "metadata": {},
   "outputs": [
    {
     "name": "stdout",
     "output_type": "stream",
     "text": [
      "3.520 (Angstrom), 244.07, 148.85, 125.62 (GPa)\n"
     ]
    }
   ],
   "source": [
    "print(f\"{alat:.3f} (Angstrom), {C11:.2f}, {C12:.2f}, {C44:.2f} (GPa)\")"
   ]
  },
  {
   "cell_type": "markdown",
   "metadata": {},
   "source": [
    "### 1/2<110>{111} screw dislocation (perfect and dissociated)"
   ]
  },
  {
   "cell_type": "code",
   "execution_count": 17,
   "metadata": {},
   "outputs": [
    {
     "name": "stdout",
     "output_type": "stream",
     "text": [
      "Cell orientation:\n",
      "[[ 1  1 -2]\n",
      " [ 1  1  1]\n",
      " [ 1 -1  0]]\n",
      "Burgers vector:\n",
      "[ 1.76 -1.76  0.  ]\n"
     ]
    }
   ],
   "source": [
    "from matscipy.dislocation import FCCScrew110Dislocation\n",
    "\n",
    "Ni_screw = FCCScrew110Dislocation(alat, C11, C12, C44, symbol=\"Ni\")\n",
    "\n",
    "print(\"Cell orientation:\")\n",
    "print(Ni_screw.axes)\n",
    "\n",
    "print(\"Burgers vector:\")\n",
    "print(Ni_screw.burgers)\n"
   ]
  },
  {
   "cell_type": "code",
   "execution_count": 18,
   "metadata": {},
   "outputs": [
    {
     "name": "stdout",
     "output_type": "stream",
     "text": [
      "disloc SCF 0 |d1-d2|_inf = 0.021791458261984697\n",
      "disloc SCF 1 |d1-d2|_inf = 0.0002936041882874109\n",
      "disloc SCF 2 |d1-d2|_inf = 4.8928735380371347e-05\n",
      "disloc SCF 3 |d1-d2|_inf = 1.2696678054050815e-06\n",
      "disloc SCF 4 |d1-d2|_inf = 1.0764587210498888e-07\n",
      "disloc SCF 0 |d1-d2|_inf = 0.020321133865591423\n",
      "disloc SCF 1 |d1-d2|_inf = 0.0006134137472214689\n",
      "disloc SCF 2 |d1-d2|_inf = 5.9406489367308524e-05\n",
      "disloc SCF 3 |d1-d2|_inf = 2.948341477265748e-06\n",
      "disloc SCF 4 |d1-d2|_inf = 8.340714410803862e-08\n",
      "\n",
      "Cell vectors:\n",
      "[[60.35542726  0.          0.        ]\n",
      " [ 0.         60.96818843  0.        ]\n",
      " [ 0.          0.          2.48901587]]\n",
      "\n",
      "Burgers vector length: 2.49 Angstrom\n"
     ]
    },
    {
     "data": {
      "application/vnd.jupyter.widget-view+json": {
       "model_id": "89e0921f560f44ca9a7b09e4bab2cfe3",
       "version_major": 2,
       "version_minor": 0
      },
      "text/plain": [
       "NGLWidget()"
      ]
     },
     "metadata": {},
     "output_type": "display_data"
    }
   ],
   "source": [
    "Ni_screw_bulk, Ni_screw_dislo = Ni_screw.build_cylinder(radius=20)\n",
    "\n",
    "\n",
    "print(\"\\nCell vectors:\")\n",
    "print(Ni_screw_dislo.cell.array)\n",
    "\n",
    "print(f\"\\nBurgers vector length: {np.linalg.norm(Ni_screw.burgers):.2f} Angstrom\")\n",
    "\n",
    "show_dislocation(Ni_screw_dislo, \n",
    "                 d_name=\"1/2<110> screw dislocation line\", \n",
    "                 d_color=[0, 0, 1])"
   ]
  },
  {
   "cell_type": "markdown",
   "metadata": {},
   "source": [
    "Due to stable Intrinsic Stacking Fault (ISF) the 1/2<110> dislocations are not stable and dissociate in two 1/6<112> Shockley partials separated by stacking fault. For example:\n",
    "\n",
    "$$\n",
    "    \\frac{1}{2}[1\\bar10] \\rightarrow \\frac{1}{6}[2\\bar1\\bar1] + \\mathrm{ISF} + \\frac{1}{2}[1\\bar21]\n",
    "$$\n",
    "\n",
    "where ISF is intrinsic stacking fault. It is possible to pass a parameter `partial_distance` to `build_cylinder()` function in order to create dissociated dislocation. `partial distance` defines separation distance (length of the stacking fault) of two partial dislocations. The value corresponds to number of glide distances the distance in Angstrom be obtaines as `patial_distance * dislocation.glide_distance`."
   ]
  },
  {
   "cell_type": "code",
   "execution_count": 35,
   "metadata": {},
   "outputs": [
    {
     "name": "stdout",
     "output_type": "stream",
     "text": [
      "disloc SCF 0 |d1-d2|_inf = 0.02179145826198453\n",
      "disloc SCF 1 |d1-d2|_inf = 0.0002936041882874109\n",
      "disloc SCF 2 |d1-d2|_inf = 4.892873538059339e-05\n",
      "disloc SCF 3 |d1-d2|_inf = 1.2696678051752307e-06\n",
      "disloc SCF 4 |d1-d2|_inf = 1.0764587193845543e-07\n",
      "disloc SCF 0 |d1-d2|_inf = 0.020321133865591506\n",
      "disloc SCF 1 |d1-d2|_inf = 0.0006134137472214689\n",
      "disloc SCF 2 |d1-d2|_inf = 5.9406489367308524e-05\n",
      "disloc SCF 3 |d1-d2|_inf = 2.948341477515548e-06\n",
      "disloc SCF 4 |d1-d2|_inf = 8.340714444804442e-08\n",
      "\n",
      "Expected partial distance: 10.8 Angstrom\n"
     ]
    },
    {
     "data": {
      "application/vnd.jupyter.widget-view+json": {
       "model_id": "edb77f22bec7476bb0cce5beb1723915",
       "version_major": 2,
       "version_minor": 0
      },
      "text/plain": [
       "NGLWidget()"
      ]
     },
     "metadata": {},
     "output_type": "display_data"
    }
   ],
   "source": [
    "Ni_screw_bulk, Ni_screw_dislo = Ni_screw.build_cylinder(radius=20, partial_distance=5)\n",
    "print(f\"\\nExpected partial distance: {5 * Ni_screw.glide_distance:.1f} Angstrom\")\n",
    "show_dislocation(Ni_screw_dislo, \n",
    "                 partial_distance=5 * Ni_screw.glide_distance,\n",
    "                 d_name=\"1/6<112> Shockley partial screw\")"
   ]
  },
  {
   "cell_type": "markdown",
   "metadata": {},
   "source": [
    "Together with FCC (green) and defect atoms (grey) the CNA algorithm identified the atoms of the stacking fault as HCP structure (pink), which is a result of the local change of stacking order of the atomic layers within the defect.\n",
    "\n",
    "### 1/2<110>{111} edge dislocation (perfect and dissociated)"
   ]
  },
  {
   "cell_type": "code",
   "execution_count": 20,
   "metadata": {},
   "outputs": [
    {
     "name": "stdout",
     "output_type": "stream",
     "text": [
      "Cell orientation:\n",
      "[[ 1 -1  0]\n",
      " [ 1  1  1]\n",
      " [-1 -1  2]]\n",
      "Burgers vector:\n",
      "[ 1.76 -1.76  0.  ]\n"
     ]
    }
   ],
   "source": [
    "from matscipy.dislocation import FCCEdge110Dislocation\n",
    "\n",
    "Ni_edge = FCCEdge110Dislocation(alat, C11, C12, C44, symbol=\"Ni\")\n",
    "\n",
    "print(\"Cell orientation:\")\n",
    "print(Ni_edge.axes)\n",
    "\n",
    "print(\"Burgers vector:\")\n",
    "print(Ni_edge.burgers)\n"
   ]
  },
  {
   "cell_type": "code",
   "execution_count": 21,
   "metadata": {},
   "outputs": [
    {
     "name": "stdout",
     "output_type": "stream",
     "text": [
      "disloc SCF 0 |d1-d2|_inf = 0.04310715442453525\n",
      "disloc SCF 1 |d1-d2|_inf = 0.0031359890399249857\n",
      "disloc SCF 2 |d1-d2|_inf = 0.00018078113282300745\n",
      "disloc SCF 3 |d1-d2|_inf = 1.4501349156037513e-05\n",
      "disloc SCF 4 |d1-d2|_inf = 9.978781161934513e-07\n",
      "disloc SCF 0 |d1-d2|_inf = 0.03462421627571943\n",
      "disloc SCF 1 |d1-d2|_inf = 0.0022123322463467043\n",
      "disloc SCF 2 |d1-d2|_inf = 0.00021564683900149317\n",
      "disloc SCF 3 |d1-d2|_inf = 1.1838612354972411e-05\n",
      "disloc SCF 4 |d1-d2|_inf = 6.324895580611667e-07\n",
      "\n",
      "Cell vectors:\n",
      "[[64.71441261  0.          0.        ]\n",
      " [ 0.         60.96818843  0.        ]\n",
      " [ 0.          0.          4.31110195]]\n",
      "\n",
      "Burgers vector length: 2.49 Angstrom\n"
     ]
    },
    {
     "data": {
      "application/vnd.jupyter.widget-view+json": {
       "model_id": "1329680a67d3459ca901a4ccb7c66955",
       "version_major": 2,
       "version_minor": 0
      },
      "text/plain": [
       "NGLWidget()"
      ]
     },
     "metadata": {},
     "output_type": "display_data"
    }
   ],
   "source": [
    "Ni_edge_bulk, Ni_edge_dislo = Ni_edge.build_cylinder(radius=20)\n",
    "\n",
    "print(\"\\nCell vectors:\")\n",
    "print(Ni_edge_dislo.cell.array)\n",
    "\n",
    "print(f\"\\nBurgers vector length: {np.linalg.norm(Ni_edge.burgers):.2f} Angstrom\")\n",
    "\n",
    "show_dislocation(Ni_edge_dislo, d_name=\"1/2<110> edge\", d_color=[0, 0, 1])"
   ]
  },
  {
   "cell_type": "code",
   "execution_count": 22,
   "metadata": {},
   "outputs": [
    {
     "name": "stdout",
     "output_type": "stream",
     "text": [
      "disloc SCF 0 |d1-d2|_inf = 0.04310715442453525\n",
      "disloc SCF 1 |d1-d2|_inf = 0.0031359890399249857\n",
      "disloc SCF 2 |d1-d2|_inf = 0.00018078113282300745\n",
      "disloc SCF 3 |d1-d2|_inf = 1.4501349155759957e-05\n",
      "disloc SCF 4 |d1-d2|_inf = 9.978781162003902e-07\n",
      "disloc SCF 0 |d1-d2|_inf = 0.03462421627571943\n",
      "disloc SCF 1 |d1-d2|_inf = 0.002212332246347065\n",
      "disloc SCF 2 |d1-d2|_inf = 0.00021564683900149317\n",
      "disloc SCF 3 |d1-d2|_inf = 1.1838612354972411e-05\n",
      "disloc SCF 4 |d1-d2|_inf = 6.324895580611667e-07\n",
      "Expected partial distance: 12.4 Angstrom\n"
     ]
    },
    {
     "data": {
      "application/vnd.jupyter.widget-view+json": {
       "model_id": "cbffabd9c6eb418f91e58d021cd4912e",
       "version_major": 2,
       "version_minor": 0
      },
      "text/plain": [
       "NGLWidget()"
      ]
     },
     "metadata": {},
     "output_type": "display_data"
    }
   ],
   "source": [
    "Ni_edge_bulk, Ni_edge_dislo = Ni_edge.build_cylinder(radius=20, partial_distance=10)\n",
    "print(f\"\\nExpected partial distance: {10 * Ni_edge.glide_distance:.1f} Angstrom\")\n",
    "show_dislocation(Ni_edge_dislo, \n",
    "                 partial_distance=10 * Ni_edge.glide_distance, \n",
    "                 d_name=\"1/2<110> Shockley partial edge\")"
   ]
  }
 ],
 "metadata": {
  "execution": {
   "timeout": 180
  },
  "kernelspec": {
   "display_name": "Python 3 (ipykernel)",
   "language": "python",
   "name": "python3"
  },
  "language_info": {
   "codemirror_mode": {
    "name": "ipython",
    "version": 3
   },
   "file_extension": ".py",
   "mimetype": "text/x-python",
   "name": "python",
   "nbconvert_exporter": "python",
   "pygments_lexer": "ipython3",
   "version": "3.10.12"
  },
  "orig_nbformat": 4
 },
 "nbformat": 4,
 "nbformat_minor": 4
}
