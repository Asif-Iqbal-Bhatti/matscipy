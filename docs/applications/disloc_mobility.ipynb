{
 "cells": [
  {
   "cell_type": "markdown",
   "metadata": {},
   "source": [
    "# Modelling the Mobility of Dislocations with `matscipy`\n",
    "\n",
    "The dislocation modelling toolkit provided in `matscipy.dislocation` includes functions to assist in characterising the mobility of dislocations in various systems. The two supported mechanisms are glide and kink, which both allow the dislocation to move in the glide direction.\n",
    "\n",
    "## Dislocation Glide\n",
    "Dislocation Glide is where the entire dislocation line migrates across a glide barrier to advance the dislocation. These kinds of structures are easy to generate both in cylindrical and in quadrupolar structures.\n",
    "\n",
    "\n",
    "### Glide in Dislocation Cylinders\n",
    "As an example of modelling dislocation glide in cylindrical cells, let's look at the Diamond Screw dislocation in Si, using the [Holland and Marder](https://journals.aps.org/prl/abstract/10.1103/PhysRevLett.80.746) potential:"
   ]
  },
  {
   "cell_type": "code",
   "execution_count": null,
   "metadata": {},
   "outputs": [],
   "source": [
    "from matscipy.dislocation import get_elastic_constants, DiamondGlideScrew\n",
    "# the calculator to provide forces and energies from the potential\n",
    "from matscipy.calculators.manybody.explicit_forms.stillinger_weber import StillingerWeber,\\\n",
    "                                                                Holland_Marder_PRL_80_746_Si\n",
    "from matscipy.calculators.manybody import Manybody\n",
    "calc = Manybody(**StillingerWeber(Holland_Marder_PRL_80_746_Si))\n",
    "\n",
    "# the function accepts any ASE type of calculator\n",
    "alat, C11, C12, C44 = get_elastic_constants(calculator=calc, symbol=\"Si\", verbose=False)\n",
    "\n",
    "Si_screw = DiamondGlideScrew(alat, C11, C12, C44, symbol=\"Si\")\n",
    "\n",
    "Si_screw_bulk, Si_screw_dislo = Si_screw.build_cylinder(radius=20)\n",
    "Si_screw.view_cyl(Si_screw_dislo)\n"
   ]
  },
  {
   "cell_type": "markdown",
   "metadata": {},
   "source": [
    "To generate the iniial and final structures for a glide event, we can use the `build_glide_configurations` function. We can also then use the `ase.neb` tools to smoothly interpolate an approximate glide path:"
   ]
  },
  {
   "cell_type": "code",
   "execution_count": null,
   "metadata": {},
   "outputs": [],
   "source": [
    "bulk, glide_ini, glide_fin = Si_screw.build_glide_configurations(radius=20)\n",
    "\n",
    "from ase.neb import NEB\n",
    "\n",
    "nims = 5\n",
    "\n",
    "glide_neb = NEB([glide_ini.copy() for i in range(nims-1)] + [glide_fin.copy()])\n",
    "\n",
    "glide_neb.interpolate(method=\"idpp\", apply_constraint=True)"
   ]
  },
  {
   "cell_type": "markdown",
   "metadata": {},
   "source": [
    "To visualise the glide structures, we will combine ase's `plot_atoms` to convert a structure to a matplotlib plot, and then use FuncAnimation to animate the glide structures: "
   ]
  },
  {
   "cell_type": "code",
   "execution_count": null,
   "metadata": {},
   "outputs": [],
   "source": [
    "def animate_glide(images, diamond=True, radii=None):\n",
    "    from ase.visualize.plot import plot_atoms\n",
    "    import matplotlib.pyplot as plt\n",
    "    from matplotlib.animation import FuncAnimation\n",
    "    from matscipy.utils import get_structure_types\n",
    "    from visualisation import show_HTML\n",
    "\n",
    "    fig, ax = plt.subplots(figsize=(10, 10))\n",
    "    ax.axis(\"off\")\n",
    "\n",
    "    # Add extra reps of start and end points for clarity\n",
    "    anim_images = [images[0]] * 3 + images + [images[-1]] * 3\n",
    "\n",
    "    def plot_frame(framedata):\n",
    "        ax.clear()\n",
    "        # Plot an individual frame of the animation \n",
    "        framenum, atoms = framedata\n",
    "\n",
    "        # get CNA colours to enhance plot\n",
    "        atom_labels, struct_names, colors = get_structure_types(atoms, \n",
    "                                                                diamond_structure=diamond)\n",
    "        atom_colors = [colors[atom_label] for atom_label in atom_labels]\n",
    "\n",
    "        plot_atoms(atoms, ax=ax, colors=atom_colors, radii=radii)\n",
    "\n",
    "\n",
    "    animation = FuncAnimation(fig, plot_frame, frames=enumerate(anim_images),\n",
    "                                save_count=len(anim_images),\n",
    "                                init_func=lambda: None,\n",
    "                                interval=200)\n",
    "    \n",
    "    # Need to convert animation to HTML in order for it to be visible on the docs\n",
    "    return show_HTML(animation)\n",
    "\n",
    "animate_glide(glide_neb.images, radii=0.3)"
   ]
  },
  {
   "cell_type": "markdown",
   "metadata": {},
   "source": [
    "This is also possible in the dissociated case:"
   ]
  },
  {
   "cell_type": "code",
   "execution_count": null,
   "metadata": {},
   "outputs": [],
   "source": [
    "bulk, glide_ini, glide_fin = Si_screw.build_glide_configurations(radius=20, partial_distance=5)\n",
    "\n",
    "nims = 5\n",
    "\n",
    "glide_neb = NEB([glide_ini.copy() for i in range(nims-1)] + [glide_fin.copy()])\n",
    "\n",
    "glide_neb.interpolate(method=\"idpp\", apply_constraint=True)\n",
    "\n",
    "animate_glide(glide_neb.images, radii=0.3)"
   ]
  },
  {
   "cell_type": "markdown",
   "metadata": {},
   "source": [
    "### Glide in Dislocation Quadrupoles\n",
    "As quadrupoles are extremely useful for modelling dislocations using plane-wave DFT, it can be convenient to be able to set up initial guesses for complex processes such as dislocation glide. In this scenario, we assume that the full infinite dislocation line glides in unison, ignoring the true \"kink\" process.\n",
    "\n",
    "We can use the function `build_glide_quadrupoles` to construct a set of images for this system, which can optionally model the glide of either the \"left\" ($+\\mathbf{b}$) or \"right\" ($-\\mathbf{b}$) dislocation cores, or both at once.`"
   ]
  },
  {
   "cell_type": "code",
   "execution_count": null,
   "metadata": {},
   "outputs": [],
   "source": [
    "from matscipy.dislocation import Quadrupole\n",
    "\n",
    "Si_quad = Quadrupole(DiamondGlideScrew, alat, C11, C12, C44, symbol=\"Si\")\n",
    "\n",
    "num_images = 5\n",
    "\n",
    "glide_quads = Si_quad.build_glide_quadrupoles(nims=num_images, \n",
    "                                            glide_left=True, # Allow left dislocation glide\n",
    "                                            glide_right=True, # Allow right dislocation glide\n",
    "                                            glide_separation=6,\n",
    "                                            verbose=False)\n",
    "\n",
    "animate_glide(glide_quads)"
   ]
  },
  {
   "cell_type": "code",
   "execution_count": null,
   "metadata": {},
   "outputs": [],
   "source": [
    "num_images = 5\n",
    "\n",
    "glide_quads = Si_quad.build_glide_quadrupoles(nims=num_images, \n",
    "                                            glide_left=False, # Prevent left dislocation glide\n",
    "                                            glide_right=True, # Allow right dislocation glide\n",
    "                                            partial_distance=2, # Dissociated Glide\n",
    "                                            glide_separation=6,\n",
    "                                            verbose=False)\n",
    "\n",
    "animate_glide(glide_quads)"
   ]
  },
  {
   "cell_type": "markdown",
   "metadata": {},
   "source": [
    "## Dislocation Kink\n",
    "Dislocation kink is often the preferred mechanism for migration of the dislocation line. It involves a short segment of the dislocation line hopping by one glide vector, which then provides a low barrier for the rest of the dislocation line to migrate.\n",
    "\n",
    "Here the space of structures to explore is greater, due to the possibility of entire networks of kinks forming, and also due to the possibility for the dislocation to kink out by more than one glide.\n",
    "\n",
    "### Kink maps\n",
    "Dislocation kink in `matscipy` is controlled by a kink map, which controls the position of the dislocation line as a function of the vertical coordinate. The kink map is a list of integers, where the values give a line position in units of glide distances, and each element corresponds to an extra cell in z.\n",
    "\n",
    "A kink map of `[0, 0, 1, 1]` means that the dislocation line initially starts at position zero for two repetitions, and then kinks out by one glide distance for two repetitions.\n",
    "\n",
    "Both dislocation cylinders and quadrupoles have support for this kind of kink map, but the boundaries are treated differently. In dislocation cylinders (using `build_kink_cyl`), the dislocation line is wrapped back around, and so there is an extra kink back to position zero in the generated structures. In quadrupoles (using `build_kink_quadrupole_network`), the cell is modified such that the dislocation position at the top of the cell becomes the new dislocation line position at the bottom of the cell. Therefore, in dislocation qudrupoles there would be no boundary.\n",
    "\n",
    "Since the kink map is just a list of integers, it can be more convenient to exploit the concatenation overloading of list addition, and specify kink maps in a form similar to `[0] * 5 + [1] * 5`.\n",
    "\n",
    "### Kinks in cylinders"
   ]
  },
  {
   "cell_type": "code",
   "execution_count": null,
   "metadata": {},
   "outputs": [],
   "source": [
    "Si_kink = Si_screw.build_kink_cyl(\n",
    "                    radius=20,\n",
    "                    kink_map= [0] * 5 + [1] * 5\n",
    "                )\n",
    "\n",
    "Si_screw.view_cyl(Si_kink)"
   ]
  },
  {
   "cell_type": "markdown",
   "metadata": {},
   "source": [
    "### Kink in quadrupoles"
   ]
  },
  {
   "cell_type": "code",
   "execution_count": null,
   "metadata": {},
   "outputs": [],
   "source": [
    "Si_quad_kink = Si_quad.build_kink_quadrupole_network(\n",
    "    glide_separation=8,\n",
    "    kink_map=[0]*5 + [1]*5\n",
    ")\n",
    "\n",
    "Si_quad.view_quad(Si_quad_kink)"
   ]
  },
  {
   "cell_type": "code",
   "execution_count": null,
   "metadata": {},
   "outputs": [],
   "source": []
  }
 ],
 "metadata": {
  "kernelspec": {
   "display_name": "Python 3",
   "language": "python",
   "name": "python3"
  },
  "language_info": {
   "codemirror_mode": {
    "name": "ipython",
    "version": 3
   },
   "file_extension": ".py",
   "mimetype": "text/x-python",
   "name": "python",
   "nbconvert_exporter": "python",
   "pygments_lexer": "ipython3",
   "version": "3.10.12"
  }
 },
 "nbformat": 4,
 "nbformat_minor": 2
}
