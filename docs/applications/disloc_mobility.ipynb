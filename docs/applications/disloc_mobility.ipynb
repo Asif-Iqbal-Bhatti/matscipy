{
 "cells": [
  {
   "cell_type": "markdown",
   "metadata": {},
   "source": [
    "# Modelling the Mobility of Dislocations with `matscipy`\n",
    "The dislocation modelling toolkit provided in `matscipy.dislocation` includes functions to assist in characterising the mobility of dislocations in various systems. Currently, only motion in the glide direction is supported.\n",
    "\n",
    "## Dislocation Glide\n",
    "Dislocation Glide is where the dislocation line migrates in the glide direction. There are two main mechanisms for attempting to describe dislocation glide dynamics.\n",
    "\n",
    "The first mechanism is the (double) kink mechanism. Starting from a perfectly straight dislocation line, a small segment  nucleates out in the glide directionforming a pair of dislocation kinks. These kinks can then migrate along the dislocation line.\n",
    "\n",
    "A second, simpler mechanism is to consider the entire dislocation line moving at once - this is much less physical than the double kink mechanism, but can be a good first approximation. The 2D nature of this mechanism can also make it much simpler to study, rather than having to deal with the fully 3D kinks.\n",
    "\n",
    "\n",
    "### Glide in Dislocation Cylinders\n",
    "As an example of modelling dislocation glide in cylindrical cells, let's look at the Diamond Screw dislocation in Si, using the [Holland and Marder](https://journals.aps.org/prl/abstract/10.1103/PhysRevLett.80.746) potential:"
   ]
  },
  {
   "cell_type": "code",
   "execution_count": 1,
   "metadata": {},
   "outputs": [
    {
     "data": {
      "application/vnd.jupyter.widget-view+json": {
       "model_id": "273fa26b287d4c61a24ff07d20735b7f",
       "version_major": 2,
       "version_minor": 0
      },
      "text/plain": []
     },
     "metadata": {},
     "output_type": "display_data"
    },
    {
     "name": "stderr",
     "output_type": "stream",
     "text": [
      "/home/europa/.local/lib/python3.10/site-packages/matscipy/dislocation.py:484: FutureWarning: Import StrainFilter from ase.filters\n",
      "  sf = StrainFilter(unit_cell)\n"
     ]
    },
    {
     "ename": "ImportError",
     "evalue": "libQt6Core.so.6: cannot open shared object file: No such file or directory",
     "output_type": "error",
     "traceback": [
      "\u001b[0;31m---------------------------------------------------------------------------\u001b[0m",
      "\u001b[0;31mImportError\u001b[0m                               Traceback (most recent call last)",
      "Cell \u001b[0;32mIn[1], line 14\u001b[0m\n\u001b[1;32m     11\u001b[0m Si_screw \u001b[38;5;241m=\u001b[39m DiamondGlideScrew(alat, C11, C12, C44, symbol\u001b[38;5;241m=\u001b[39m\u001b[38;5;124m\"\u001b[39m\u001b[38;5;124mSi\u001b[39m\u001b[38;5;124m\"\u001b[39m)\n\u001b[1;32m     13\u001b[0m Si_screw_bulk, Si_screw_dislo \u001b[38;5;241m=\u001b[39m Si_screw\u001b[38;5;241m.\u001b[39mbuild_cylinder(radius\u001b[38;5;241m=\u001b[39m\u001b[38;5;241m20\u001b[39m)\n\u001b[0;32m---> 14\u001b[0m \u001b[43mSi_screw\u001b[49m\u001b[38;5;241;43m.\u001b[39;49m\u001b[43mview_cyl\u001b[49m\u001b[43m(\u001b[49m\u001b[43mSi_screw_dislo\u001b[49m\u001b[43m)\u001b[49m\n",
      "File \u001b[0;32m~/.local/lib/python3.10/site-packages/matscipy/dislocation.py:3306\u001b[0m, in \u001b[0;36mCubicCrystalDislocation.view_cyl\u001b[0;34m(system, scale, CNA_color, add_bonds, line_color, disloc_names, hide_arrows)\u001b[0m\n\u001b[1;32m   3303\u001b[0m \u001b[38;5;66;03m# Check if system contains a diamond dislocation (e.g. DiamondGlideScrew, Diamond90degreePartial)\u001b[39;00m\n\u001b[1;32m   3304\u001b[0m diamond_structure \u001b[38;5;241m=\u001b[39m \u001b[38;5;124m\"\u001b[39m\u001b[38;5;124mDiamond\u001b[39m\u001b[38;5;124m\"\u001b[39m \u001b[38;5;129;01min\u001b[39;00m system\u001b[38;5;241m.\u001b[39minfo[\u001b[38;5;124m\"\u001b[39m\u001b[38;5;124mdislocation_classes\u001b[39m\u001b[38;5;124m\"\u001b[39m][\u001b[38;5;241m0\u001b[39m]\n\u001b[0;32m-> 3306\u001b[0m atom_labels, structure_names, colors \u001b[38;5;241m=\u001b[39m \u001b[43mget_structure_types\u001b[49m\u001b[43m(\u001b[49m\u001b[43msystem\u001b[49m\u001b[43m,\u001b[49m\u001b[43m \u001b[49m\n\u001b[1;32m   3307\u001b[0m \u001b[43m                                                        \u001b[49m\u001b[43mdiamond_structure\u001b[49m\u001b[38;5;241;43m=\u001b[39;49m\u001b[43mdiamond_structure\u001b[49m\u001b[43m)\u001b[49m\n\u001b[1;32m   3308\u001b[0m \u001b[38;5;28;01mif\u001b[39;00m disloc_names \u001b[38;5;129;01mis\u001b[39;00m \u001b[38;5;28;01mNone\u001b[39;00m:\n\u001b[1;32m   3309\u001b[0m     disloc_names \u001b[38;5;241m=\u001b[39m system\u001b[38;5;241m.\u001b[39minfo[\u001b[38;5;124m\"\u001b[39m\u001b[38;5;124mdislocation_types\u001b[39m\u001b[38;5;124m\"\u001b[39m]\n",
      "File \u001b[0;32m~/.local/lib/python3.10/site-packages/matscipy/utils.py:342\u001b[0m, in \u001b[0;36mget_structure_types\u001b[0;34m(structure, diamond_structure)\u001b[0m\n\u001b[1;32m    331\u001b[0m \u001b[38;5;28;01mdef\u001b[39;00m \u001b[38;5;21mget_structure_types\u001b[39m(structure, diamond_structure\u001b[38;5;241m=\u001b[39m\u001b[38;5;28;01mFalse\u001b[39;00m):\n\u001b[1;32m    332\u001b[0m \u001b[38;5;250m    \u001b[39m\u001b[38;5;124;03m\"\"\"Get the results of Common Neighbor Analysis and \u001b[39;00m\n\u001b[1;32m    333\u001b[0m \u001b[38;5;124;03m        Identify Diamond modifiers from Ovito\u001b[39;00m\n\u001b[1;32m    334\u001b[0m \u001b[38;5;124;03m        (Requires Ovito python module)\u001b[39;00m\n\u001b[0;32m   (...)\u001b[0m\n\u001b[1;32m    340\u001b[0m \u001b[38;5;124;03m        colors (list of strings): colors of the structure types in hex format\u001b[39;00m\n\u001b[1;32m    341\u001b[0m \u001b[38;5;124;03m    \"\"\"\u001b[39;00m\n\u001b[0;32m--> 342\u001b[0m     \u001b[38;5;28;01mfrom\u001b[39;00m \u001b[38;5;21;01movito\u001b[39;00m\u001b[38;5;21;01m.\u001b[39;00m\u001b[38;5;21;01mio\u001b[39;00m\u001b[38;5;21;01m.\u001b[39;00m\u001b[38;5;21;01mase\u001b[39;00m \u001b[38;5;28;01mimport\u001b[39;00m ase_to_ovito\n\u001b[1;32m    343\u001b[0m     \u001b[38;5;28;01mfrom\u001b[39;00m \u001b[38;5;21;01movito\u001b[39;00m\u001b[38;5;21;01m.\u001b[39;00m\u001b[38;5;21;01mmodifiers\u001b[39;00m \u001b[38;5;28;01mimport\u001b[39;00m CommonNeighborAnalysisModifier, IdentifyDiamondModifier\n\u001b[1;32m    344\u001b[0m     \u001b[38;5;28;01mfrom\u001b[39;00m \u001b[38;5;21;01movito\u001b[39;00m\u001b[38;5;21;01m.\u001b[39;00m\u001b[38;5;21;01mpipeline\u001b[39;00m \u001b[38;5;28;01mimport\u001b[39;00m StaticSource, Pipeline\n",
      "File \u001b[0;32m~/.local/lib/python3.10/site-packages/ovito/__init__.py:21\u001b[0m\n\u001b[1;32m     18\u001b[0m \u001b[38;5;28;01mimport\u001b[39;00m \u001b[38;5;21;01movito\u001b[39;00m\u001b[38;5;21;01m.\u001b[39;00m\u001b[38;5;21;01mnonpublic\u001b[39;00m\n\u001b[1;32m     20\u001b[0m \u001b[38;5;66;03m# Load all extension modules.\u001b[39;00m\n\u001b[0;32m---> 21\u001b[0m \u001b[38;5;28;01mimport\u001b[39;00m \u001b[38;5;21;01movito\u001b[39;00m\u001b[38;5;21;01m.\u001b[39;00m\u001b[38;5;21;01m_extensions\u001b[39;00m\n\u001b[1;32m     23\u001b[0m \u001b[38;5;66;03m# The public symbols of this root module:\u001b[39;00m\n\u001b[1;32m     24\u001b[0m __all__ \u001b[38;5;241m=\u001b[39m [\u001b[38;5;124m'\u001b[39m\u001b[38;5;124mversion\u001b[39m\u001b[38;5;124m'\u001b[39m, \u001b[38;5;124m'\u001b[39m\u001b[38;5;124mversion_string\u001b[39m\u001b[38;5;124m'\u001b[39m, \u001b[38;5;124m'\u001b[39m\u001b[38;5;124mscene\u001b[39m\u001b[38;5;124m'\u001b[39m, \u001b[38;5;124m'\u001b[39m\u001b[38;5;124mScene\u001b[39m\u001b[38;5;124m'\u001b[39m, \u001b[38;5;124m'\u001b[39m\u001b[38;5;124menable_logging\u001b[39m\u001b[38;5;124m'\u001b[39m]\n",
      "File \u001b[0;32m~/.local/lib/python3.10/site-packages/ovito/_extensions/__init__.py:6\u001b[0m\n\u001b[1;32m      4\u001b[0m \u001b[38;5;66;03m# Load all plugin extension modules under the _extensions package.\u001b[39;00m\n\u001b[1;32m      5\u001b[0m \u001b[38;5;28;01mfor\u001b[39;00m modinfo \u001b[38;5;129;01min\u001b[39;00m pkgutil\u001b[38;5;241m.\u001b[39mwalk_packages(__path__, \u001b[38;5;18m__name__\u001b[39m \u001b[38;5;241m+\u001b[39m \u001b[38;5;124m'\u001b[39m\u001b[38;5;124m.\u001b[39m\u001b[38;5;124m'\u001b[39m):\n\u001b[0;32m----> 6\u001b[0m     \u001b[43mimportlib\u001b[49m\u001b[38;5;241;43m.\u001b[39;49m\u001b[43mimport_module\u001b[49m\u001b[43m(\u001b[49m\u001b[43mmodinfo\u001b[49m\u001b[38;5;241;43m.\u001b[39;49m\u001b[43mname\u001b[49m\u001b[43m)\u001b[49m\n",
      "File \u001b[0;32m/usr/lib/python3.10/importlib/__init__.py:126\u001b[0m, in \u001b[0;36mimport_module\u001b[0;34m(name, package)\u001b[0m\n\u001b[1;32m    124\u001b[0m             \u001b[38;5;28;01mbreak\u001b[39;00m\n\u001b[1;32m    125\u001b[0m         level \u001b[38;5;241m+\u001b[39m\u001b[38;5;241m=\u001b[39m \u001b[38;5;241m1\u001b[39m\n\u001b[0;32m--> 126\u001b[0m \u001b[38;5;28;01mreturn\u001b[39;00m \u001b[43m_bootstrap\u001b[49m\u001b[38;5;241;43m.\u001b[39;49m\u001b[43m_gcd_import\u001b[49m\u001b[43m(\u001b[49m\u001b[43mname\u001b[49m\u001b[43m[\u001b[49m\u001b[43mlevel\u001b[49m\u001b[43m:\u001b[49m\u001b[43m]\u001b[49m\u001b[43m,\u001b[49m\u001b[43m \u001b[49m\u001b[43mpackage\u001b[49m\u001b[43m,\u001b[49m\u001b[43m \u001b[49m\u001b[43mlevel\u001b[49m\u001b[43m)\u001b[49m\n",
      "File \u001b[0;32m~/.local/lib/python3.10/site-packages/ovito/_extensions/anari.py:2\u001b[0m\n\u001b[1;32m      1\u001b[0m \u001b[38;5;66;03m# Load dependencies.\u001b[39;00m\n\u001b[0;32m----> 2\u001b[0m \u001b[38;5;28;01mimport\u001b[39;00m \u001b[38;5;21;01movito\u001b[39;00m\u001b[38;5;21;01m.\u001b[39;00m\u001b[38;5;21;01m_extensions\u001b[39;00m\u001b[38;5;21;01m.\u001b[39;00m\u001b[38;5;21;01mpyscript\u001b[39;00m\n\u001b[1;32m      4\u001b[0m \u001b[38;5;66;03m# Load the C extension module.\u001b[39;00m\n\u001b[1;32m      5\u001b[0m \u001b[38;5;28;01mimport\u001b[39;00m \u001b[38;5;21;01movito\u001b[39;00m\u001b[38;5;21;01m.\u001b[39;00m\u001b[38;5;21;01mplugins\u001b[39;00m\u001b[38;5;21;01m.\u001b[39;00m\u001b[38;5;21;01mAnariRendererPython\u001b[39;00m\n",
      "File \u001b[0;32m~/.local/lib/python3.10/site-packages/ovito/_extensions/pyscript.py:2\u001b[0m\n\u001b[1;32m      1\u001b[0m \u001b[38;5;66;03m# Load the C extension module.\u001b[39;00m\n\u001b[0;32m----> 2\u001b[0m \u001b[38;5;28;01mimport\u001b[39;00m \u001b[38;5;21;01movito\u001b[39;00m\u001b[38;5;21;01m.\u001b[39;00m\u001b[38;5;21;01mplugins\u001b[39;00m\u001b[38;5;21;01m.\u001b[39;00m\u001b[38;5;21;01mPyScript\u001b[39;00m\n\u001b[1;32m      4\u001b[0m \u001b[38;5;66;03m# Load class add-ons.\u001b[39;00m\n\u001b[1;32m      5\u001b[0m \u001b[38;5;28;01mimport\u001b[39;00m \u001b[38;5;21;01movito\u001b[39;00m\u001b[38;5;21;01m.\u001b[39;00m\u001b[38;5;21;01m_scene_class\u001b[39;00m\n",
      "File \u001b[0;32m~/.local/lib/python3.10/site-packages/ovito/plugins/__init__.py:36\u001b[0m\n\u001b[1;32m     26\u001b[0m     warnings\u001b[38;5;241m.\u001b[39mwarn(\u001b[38;5;124m\"\u001b[39m\u001b[38;5;124mIncompatible version of the Qt cross-platform framework detected!\u001b[39m\u001b[38;5;130;01m\\n\u001b[39;00m\u001b[38;5;124mThis version of the OVITO Python module is based on Qt6 (loaded via the PySide6 bindings module), \u001b[39m\u001b[38;5;124m\"\u001b[39m\n\u001b[1;32m     27\u001b[0m         \u001b[38;5;124m\"\u001b[39m\u001b[38;5;124mbut bindings for old Qt5 are already loaded at this point (through PyQt5 or PySide2 imports preceding the import of OVITO). To avoid library version conflicts, please make sure the rest of \u001b[39m\u001b[38;5;124m\"\u001b[39m\n\u001b[1;32m     28\u001b[0m         \u001b[38;5;124m\"\u001b[39m\u001b[38;5;124myour application uses Qt6 too instead of Qt5. \u001b[39m\u001b[38;5;124m\"\u001b[39m\n\u001b[0;32m   (...)\u001b[0m\n\u001b[1;32m     31\u001b[0m         \u001b[38;5;124m\"\u001b[39m\u001b[38;5;124mIn addition, it may help to set the environment variable QT_API=pyside6 to force third-party packages (e.g. matplotlib) to load Qt6 instead of Qt5. \u001b[39m\u001b[38;5;124m\"\u001b[39m\n\u001b[1;32m     32\u001b[0m         \u001b[38;5;124m\"\u001b[39m\u001b[38;5;124mIf you have any questions, please contact support@ovito.org.\u001b[39m\u001b[38;5;130;01m\\n\u001b[39;00m\u001b[38;5;124m\"\u001b[39m)\n\u001b[1;32m     34\u001b[0m \u001b[38;5;66;03m# Load all the Qt bindings first before OVITO's own C++ modules get loaded.\u001b[39;00m\n\u001b[1;32m     35\u001b[0m \u001b[38;5;66;03m# This ensures that the right Qt shared libraries needed by OVITO are already loaded into the process when running in a system Python interpreter.\u001b[39;00m\n\u001b[0;32m---> 36\u001b[0m \u001b[38;5;28;01mfrom\u001b[39;00m \u001b[38;5;21;01movito\u001b[39;00m\u001b[38;5;21;01m.\u001b[39;00m\u001b[38;5;21;01mqt_compat\u001b[39;00m \u001b[38;5;28;01mimport\u001b[39;00m QtCore\n\u001b[1;32m     37\u001b[0m \u001b[38;5;28;01mfrom\u001b[39;00m \u001b[38;5;21;01movito\u001b[39;00m\u001b[38;5;21;01m.\u001b[39;00m\u001b[38;5;21;01mqt_compat\u001b[39;00m \u001b[38;5;28;01mimport\u001b[39;00m QtGui\n\u001b[1;32m     38\u001b[0m \u001b[38;5;28;01mfrom\u001b[39;00m \u001b[38;5;21;01movito\u001b[39;00m\u001b[38;5;21;01m.\u001b[39;00m\u001b[38;5;21;01mqt_compat\u001b[39;00m \u001b[38;5;28;01mimport\u001b[39;00m QtWidgets\n",
      "File \u001b[0;32m~/.local/lib/python3.10/site-packages/ovito/qt_compat.py:11\u001b[0m\n\u001b[1;32m      8\u001b[0m \u001b[38;5;66;03m# Import Shiboken module first to preload shiboken6.dll, which is needed by the Qt DLLs.\u001b[39;00m\n\u001b[1;32m      9\u001b[0m \u001b[38;5;28;01mimport\u001b[39;00m \u001b[38;5;21;01mshiboken6\u001b[39;00m \u001b[38;5;28;01mas\u001b[39;00m \u001b[38;5;21;01mshiboken\u001b[39;00m \n\u001b[0;32m---> 11\u001b[0m \u001b[38;5;28;01mfrom\u001b[39;00m \u001b[38;5;21;01mPySide6\u001b[39;00m \u001b[38;5;28;01mimport\u001b[39;00m QtCore, QtGui, QtWidgets, QtNetwork, QtXml\n\u001b[1;32m     13\u001b[0m \u001b[38;5;66;03m# The QtOpenGLWidgets module is not included in the embedded PySide6 installation of OVITO Pro 3.7,\u001b[39;00m\n\u001b[1;32m     14\u001b[0m \u001b[38;5;66;03m# but it should be loaded when using the PyPI version of PySide6.\u001b[39;00m\n\u001b[1;32m     15\u001b[0m \u001b[38;5;28;01mtry\u001b[39;00m:\n",
      "\u001b[0;31mImportError\u001b[0m: libQt6Core.so.6: cannot open shared object file: No such file or directory"
     ]
    }
   ],
   "source": [
    "from matscipy.dislocation import get_elastic_constants, DiamondGlideScrew\n",
    "# the calculator to provide forces and energies from the potential\n",
    "from matscipy.calculators.manybody.explicit_forms.stillinger_weber import StillingerWeber,\\\n",
    "                                                                Holland_Marder_PRL_80_746_Si\n",
    "from matscipy.calculators.manybody import Manybody\n",
    "calc = Manybody(**StillingerWeber(Holland_Marder_PRL_80_746_Si))\n",
    "\n",
    "# the function accepts any ASE type of calculator\n",
    "alat, C11, C12, C44 = get_elastic_constants(calculator=calc, symbol=\"Si\", verbose=False)\n",
    "\n",
    "Si_screw = DiamondGlideScrew(alat, C11, C12, C44, symbol=\"Si\")\n",
    "\n",
    "Si_screw_bulk, Si_screw_dislo = Si_screw.build_cylinder(radius=20)\n",
    "Si_screw.view_cyl(Si_screw_dislo)\n"
   ]
  },
  {
   "cell_type": "markdown",
   "metadata": {},
   "source": [
    "To generate the initial and final structures for a full glide event, we can use the `build_glide_configurations` function. The structures contain straight dislocation lines, separated by the dislocation glide distance. These structures will be similar to those produced by a call to `build_cylinder`, except extra bulk is added (creating a pill shape, not a circle) in order to make the initial and final configurations symmetric.\n",
    "\n",
    "We can also then use the `ase.neb` tools to smoothly interpolate an approximate glide path, which allows us to generate structures for the simpler dislocation glide mechanism discussed above."
   ]
  },
  {
   "cell_type": "code",
   "execution_count": null,
   "metadata": {},
   "outputs": [],
   "source": [
    "bulk, glide_ini, glide_fin = Si_screw.build_glide_configurations(radius=20)\n",
    "\n",
    "from ase.neb import NEB\n",
    "\n",
    "nims = 5\n",
    "\n",
    "glide_neb = NEB([glide_ini.copy() for i in range(nims-1)] + [glide_fin.copy()])\n",
    "\n",
    "glide_neb.interpolate(method=\"idpp\", apply_constraint=True)"
   ]
  },
  {
   "cell_type": "markdown",
   "metadata": {},
   "source": [
    "To visualise the glide structures, we will combine ase's `plot_atoms` to convert a structure to a matplotlib plot, and then use FuncAnimation to animate the glide structures: "
   ]
  },
  {
   "cell_type": "code",
   "execution_count": null,
   "metadata": {},
   "outputs": [],
   "source": [
    "def animate_glide(images, diamond=True, radii=None):\n",
    "    from ase.visualize.plot import plot_atoms\n",
    "    import matplotlib.pyplot as plt\n",
    "    from matplotlib.animation import FuncAnimation\n",
    "    from matscipy.utils import get_structure_types\n",
    "    from visualisation import show_HTML\n",
    "\n",
    "    fig, ax = plt.subplots(figsize=(10, 10))\n",
    "    ax.axis(\"off\")\n",
    "\n",
    "    # Add extra reps of start and end points for clarity\n",
    "    anim_images = [images[0]] * 3 + images + [images[-1]] * 3\n",
    "\n",
    "    def plot_frame(framedata):\n",
    "        ax.clear()\n",
    "        # Plot an individual frame of the animation \n",
    "        framenum, atoms = framedata\n",
    "\n",
    "        # get CNA colours to enhance plot\n",
    "        atom_labels, struct_names, colors = get_structure_types(atoms, \n",
    "                                                                diamond_structure=diamond)\n",
    "        atom_colors = [colors[atom_label] for atom_label in atom_labels]\n",
    "\n",
    "        plot_atoms(atoms, ax=ax, colors=atom_colors, radii=radii)\n",
    "\n",
    "\n",
    "    animation = FuncAnimation(fig, plot_frame, frames=enumerate(anim_images),\n",
    "                                save_count=len(anim_images),\n",
    "                                init_func=lambda: None,\n",
    "                                interval=200)\n",
    "    \n",
    "    # Need to convert animation to HTML in order for it to be visible on the docs\n",
    "    return show_HTML(animation)\n",
    "\n",
    "animate_glide(glide_neb.images, radii=0.3)"
   ]
  },
  {
   "cell_type": "markdown",
   "metadata": {},
   "source": [
    "This is also possible in the dissociated case:"
   ]
  },
  {
   "cell_type": "code",
   "execution_count": null,
   "metadata": {},
   "outputs": [],
   "source": [
    "bulk, glide_ini, glide_fin = Si_screw.build_glide_configurations(radius=20, partial_distance=5)\n",
    "\n",
    "nims = 5\n",
    "\n",
    "glide_neb = NEB([glide_ini.copy() for i in range(nims-1)] + [glide_fin.copy()])\n",
    "\n",
    "glide_neb.interpolate(method=\"idpp\", apply_constraint=True)\n",
    "\n",
    "animate_glide(glide_neb.images, radii=0.3)"
   ]
  },
  {
   "cell_type": "markdown",
   "metadata": {},
   "source": [
    "### Glide in Dislocation Quadrupoles\n",
    "As quadrupoles are extremely useful for modelling dislocations using plane-wave DFT, it can be convenient to be able to set up initial guesses for complex processes such as dislocation glide.\n",
    "\n",
    "We can use the function `build_glide_quadrupoles` to construct a set of images for this system, which can optionally model the glide of either the \"left\" ($+\\mathbf{b}$) or \"right\" ($-\\mathbf{b}$) dislocation cores, or both at once."
   ]
  },
  {
   "cell_type": "code",
   "execution_count": null,
   "metadata": {},
   "outputs": [],
   "source": [
    "from matscipy.dislocation import Quadrupole\n",
    "\n",
    "Si_quad = Quadrupole(DiamondGlideScrew, alat, C11, C12, C44, symbol=\"Si\")\n",
    "\n",
    "num_images = 5\n",
    "\n",
    "glide_quads = Si_quad.build_glide_quadrupoles(nims=num_images, \n",
    "                                            glide_left=True, # Allow left dislocation glide\n",
    "                                            glide_right=True, # Allow right dislocation glide\n",
    "                                            glide_separation=6,\n",
    "                                            verbose=False)\n",
    "\n",
    "animate_glide(glide_quads)"
   ]
  },
  {
   "cell_type": "code",
   "execution_count": null,
   "metadata": {},
   "outputs": [],
   "source": [
    "num_images = 5\n",
    "\n",
    "glide_quads = Si_quad.build_glide_quadrupoles(nims=num_images, \n",
    "                                            glide_left=False, # Prevent left dislocation glide\n",
    "                                            glide_right=True, # Allow right dislocation glide\n",
    "                                            partial_distance=2, # Dissociated Glide\n",
    "                                            glide_separation=6,\n",
    "                                            verbose=False)\n",
    "\n",
    "animate_glide(glide_quads)"
   ]
  },
  {
   "cell_type": "markdown",
   "metadata": {},
   "source": [
    "## Dislocation Kink\n",
    "Dislocation kink is often the preferred mechanism for migration of the dislocation line. It involves a short segment of the dislocation line hopping by one glide vector, which then provides a low barrier for the rest of the dislocation line to migrate.\n",
    "\n",
    "Here the space of structures to explore is greater, due to the 3D nature of dislocation kink. Kink nucleation is also possible on segments of an already kinked-out dislocation line, which can lead to a full network of dislocation kinks.  \n",
    "\n",
    "### Kink maps\n",
    "Dislocation kink in `matscipy` is controlled by a kink map, which controls the position of the dislocation line as a function of the vertical coordinate. The kink map is a list of integers, where the values give a line position in units of glide distances, and each element corresponds to an extra cell in z (replication of `disloc.unit_cell`).\n",
    "\n",
    "A kink map of `[0, 0, 1, 1]` means that the dislocation line initially starts at position zero for two repetitions, and then moves out by one glide distance for two repetitions.\n",
    "\n",
    "Both dislocation cylinders and quadrupoles have support for this kind of kink map, but the periodic boundaries are treated differently. \n",
    "\n",
    "In dislocation cylinders (using `build_kink_cyl`), the periodicity in z is enforced by requiring that the dislocation line returns back to the initial position across the periodic boundary. The example kink map of `[0, 0, 1, 1]` will therefore have a single kink out in the center of the cell, and a single kink back at the periodic boundary (the dislocation line will go like `0, 0, 1, 1, 0, 0, 1, 1, ...`).\n",
    "\n",
    "In quadrupoles (using `build_kink_quadrupole_network`), the cell is modified such that the dislocation position at the top of the cell becomes the new dislocation line position at the bottom of the cell. This means that for quadrupoles an extra kink will not be created, and that the example map of `[0, 0, 1, 1]` will create only one kink in the center of the cell.\n",
    "\n",
    ":::{note}\n",
    "For the cell shift to always produce the correct crystalstructure, some atoms need to be deleted for some values of `kink_map[-1]`. This means that some kink maps may not conserve stoichiometry for some multispecies systems.\n",
    ":::\n",
    "\n",
    "Since the kink map is just a list of integers, it can be more convenient to exploit list addition, and specify kink maps in a form similar to `[0] * 5 + [1] * 5`, which would be identical to the input of `[0, 0, 0, 0, 0, 1, 1, 1, 1, 1]`.\n",
    "\n",
    "### Kinks in cylinders"
   ]
  },
  {
   "cell_type": "code",
   "execution_count": null,
   "metadata": {},
   "outputs": [],
   "source": [
    "Si_kink = Si_screw.build_kink_cyl(\n",
    "                    radius=20,\n",
    "                    kink_map= [0] * 5 + [1] * 5\n",
    "                )\n",
    "\n",
    "Si_screw.view_cyl(Si_kink)"
   ]
  },
  {
   "cell_type": "markdown",
   "metadata": {},
   "source": [
    "### Kink in quadrupoles"
   ]
  },
  {
   "cell_type": "code",
   "execution_count": null,
   "metadata": {},
   "outputs": [],
   "source": [
    "Si_quad_kink = Si_quad.build_kink_quadrupole_network(\n",
    "    glide_separation=8,\n",
    "    kink_map=[0]*5 + [1]*5\n",
    ")\n",
    "\n",
    "Si_quad.view_quad(Si_quad_kink)"
   ]
  },
  {
   "cell_type": "code",
   "execution_count": null,
   "metadata": {},
   "outputs": [],
   "source": []
  }
 ],
 "metadata": {
  "kernelspec": {
   "display_name": "Python 3",
   "language": "python",
   "name": "python3"
  },
  "language_info": {
   "codemirror_mode": {
    "name": "ipython",
    "version": 3
   },
   "file_extension": ".py",
   "mimetype": "text/x-python",
   "name": "python",
   "nbconvert_exporter": "python",
   "pygments_lexer": "ipython3",
   "version": "3.10.14"
  }
 },
 "nbformat": 4,
 "nbformat_minor": 2
}
