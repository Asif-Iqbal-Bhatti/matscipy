{
 "cells": [
  {
   "attachments": {},
   "cell_type": "markdown",
   "metadata": {},
   "source": [
    "# Quasi static fracture simulations\n",
    "\n",
    "## Basic usage\n",
    "\n",
    "The `matscipy.fracture_mechanics.crack` module provides classes and functions for setting up and analysing atomistic simulations of fracture."
   ]
  },
  {
   "cell_type": "code",
   "execution_count": 45,
   "metadata": {},
   "outputs": [],
   "source": [
    "import numpy as np\n",
    "\n",
    "import ase.units as units\n",
    "from ase.build import bulk\n",
    "from ase.constraints import ExpCellFilter\n",
    "from ase.optimize.precon import PreconLBFGS\n",
    "\n",
    "from matscipy.fracture_mechanics.clusters import diamond, set_groups\n",
    "from matscipy.calculators.manybody.explicit_forms.stillinger_weber import StillingerWeber, Holland_Marder_PRL_80_746_Si\n",
    "from matscipy.calculators.manybody import Manybody"
   ]
  },
  {
   "attachments": {},
   "cell_type": "markdown",
   "metadata": {},
   "source": [
    "We first setup a manybody calculator using the \"inadvertendly modified Stillinger Weber\" (IMSW) parameters, in which the strength of the 3-body potential was (initially accidentally) doubled. This is useful for us here as it gives a brittle fracture response."
   ]
  },
  {
   "cell_type": "code",
   "execution_count": 46,
   "metadata": {},
   "outputs": [],
   "source": [
    "calc = Manybody(**StillingerWeber(Holland_Marder_PRL_80_746_Si)a)"
   ]
  },
  {
   "attachments": {},
   "cell_type": "markdown",
   "metadata": {},
   "source": [
    "### Bulk and Elastic properties\n",
    "\n",
    "We can use this calculator to find the equilibrium lattice constant for bulk silicon by performing a variable cell relaxation using [ExpCellFilter](https://wiki.fysik.dtu.dk/ase/ase/constraints.html#the-expcellfilter-class) filter and [PreconLBFGS](https://wiki.fysik.dtu.dk/ase/ase/optimize.html#preconditioned-optimizers) optimizer from ASE. Since the cell is very small the preconditioning does not speed up the calculation; however, it is still useful as this is one of the most robust optimizers and it converges quickly. It is not necessary to use a cubic cell, we do it simply to make the calcualation of the cubic lattice constant `alat` straight-forward."
   ]
  },
  {
   "cell_type": "code",
   "execution_count": 47,
   "metadata": {},
   "outputs": [
    {
     "name": "stdout",
     "output_type": "stream",
     "text": [
      "PreconLBFGS:   0  15:31:08      -34.692786       0.0000       0.0003\n"
     ]
    },
    {
     "name": "stderr",
     "output_type": "stream",
     "text": [
      "/Users/u1470235/gits/matscipy/venv/lib/python3.10/site-packages/ase/optimize/precon/lbfgs.py:133: UserWarning: The system is likely too small to benefit from the standard preconditioner, hence it is disabled. To re-enable preconditioning, call `PreconLBFGS` by explicitly providing the kwarg `precon`\n",
      "  warnings.warn('The system is likely too small to benefit from '\n"
     ]
    },
    {
     "name": "stdout",
     "output_type": "stream",
     "text": [
      "PreconLBFGS:   1  15:31:08      -34.692800       0.0000       0.0000\n"
     ]
    },
    {
     "data": {
      "text/plain": [
       "True"
      ]
     },
     "execution_count": 47,
     "metadata": {},
     "output_type": "execute_result"
    }
   ],
   "source": [
    "el = 'Si' # chemical element\n",
    "si = bulk(el, cubic=True)\n",
    "si.calc = calc\n",
    "ecf = ExpCellFilter(si)\n",
    "opt = PreconLBFGS(ecf)\n",
    "opt.run(fmax=1e-6, smax=1e-6)"
   ]
  },
  {
   "cell_type": "code",
   "execution_count": 48,
   "metadata": {},
   "outputs": [],
   "source": [
    "a0 = si.cell[0, 0]"
   ]
  },
  {
   "attachments": {},
   "cell_type": "markdown",
   "metadata": {},
   "source": [
    "Next we compute the elastic constants using `matscipy.elasticity.fit_elastic_constants()` assuming cubic symmetry to reduce the number of calculations required."
   ]
  },
  {
   "cell_type": "code",
   "execution_count": 49,
   "metadata": {},
   "outputs": [
    {
     "name": "stdout",
     "output_type": "stream",
     "text": [
      "Fitting C_11\n",
      "Strain array([-0.02, -0.01,  0.  ,  0.01,  0.02])\n",
      "Stress array([-4.18433656e+00, -2.05309496e+00,  1.32979590e-05,  1.97563406e+00,\n",
      "        3.87437477e+00]) GPa\n",
      "Cij (gradient) / GPa    :     201.4615167357166\n",
      "Error in Cij / GPa      :     2.647086489317546\n",
      "Correlation coefficient :     0.9997411342093212\n",
      "Setting C11 (1) to 1.257424 +/- 0.016522\n",
      "\n",
      "\n",
      "Fitting C_21\n",
      "Strain array([-0.02, -0.01,  0.  ,  0.01,  0.02])\n",
      "Stress array([-1.13682864e+00, -5.40632635e-01,  1.32979590e-05,  4.89079644e-01,\n",
      "        9.30322868e-01]) GPa\n",
      "Cij (gradient) / GPa    :     51.640152889484874\n",
      "Error in Cij / GPa      :     1.7644310200757045\n",
      "Correlation coefficient :     0.9982534274183545\n",
      "Setting C21 (7) to 0.322312 +/- 0.011013\n",
      "\n",
      "\n",
      "Fitting C_31\n",
      "Strain array([-0.02, -0.01,  0.  ,  0.01,  0.02])\n",
      "Stress array([-1.13682864e+00, -5.40632635e-01,  1.32979590e-05,  4.89079644e-01,\n",
      "        9.30322868e-01]) GPa\n",
      "Cij (gradient) / GPa    :     51.64015288948469\n",
      "Error in Cij / GPa      :     1.764431020075586\n",
      "Correlation coefficient :     0.9982534274183548\n",
      "Updating C31 (7) with value 0.322312 +/- 0.011013\n",
      "\n",
      "\n",
      "Fitting C_44\n",
      "Strain array([-0.02, -0.01,  0.  ,  0.01,  0.02])\n",
      "Stress array([-2.43911515e+00, -1.19994966e+00, -1.05128340e-23,  1.16236289e+00,\n",
      "        2.28858390e+00]) GPa\n",
      "Cij (gradient) / GPa    :     118.17710649364383\n",
      "Error in Cij / GPa      :     1.285752508674578\n",
      "Correlation coefficient :     0.9998224896560226\n",
      "Setting C44 (4) to 0.737603 +/- 0.008025\n",
      "\n",
      "\n",
      "[[b C11 b C12 b C12 b     b     b    ]\n",
      " [b C12 b C11 b C12 b     b     b    ]\n",
      " [b C12 b C12 b C11 b     b     b    ]\n",
      " [b     b     b     b C44 b     b    ]\n",
      " [b     b     b     b     b C44 b    ]\n",
      " [b     b     b     b     b     b C44]]\n",
      "\n",
      " = \n",
      "\n",
      "[[201.46  51.64  51.64   0.     0.     0.  ]\n",
      " [ 51.64 201.46  51.64   0.     0.     0.  ]\n",
      " [ 51.64  51.64 201.46   0.     0.     0.  ]\n",
      " [  0.     0.     0.   118.18   0.     0.  ]\n",
      " [  0.     0.     0.     0.   118.18   0.  ]\n",
      " [  0.     0.     0.     0.     0.   118.18]]\n",
      "C_11 = 201.46 +/- 2.65 GPa\n",
      "C_12 = 51.64 +/- 1.76 GPa\n",
      "C_44 = 118.18 +/- 1.29 GPa\n"
     ]
    }
   ],
   "source": [
    "from matscipy.elasticity import fit_elastic_constants\n",
    "\n",
    "si = bulk(el, a=a0)\n",
    "si.calc = calc\n",
    "C, C_err = fit_elastic_constants(si, symmetry='cubic')"
   ]
  },
  {
   "cell_type": "code",
   "execution_count": 41,
   "metadata": {},
   "outputs": [],
   "source": [
    "C_11 = C[0, 0] / units.GPa\n",
    "C_12 = C[0, 1] / units.GPa\n",
    "C_44 = C[3, 3] / units.GPa"
   ]
  },
  {
   "attachments": {},
   "cell_type": "markdown",
   "metadata": {},
   "source": [
    "We extract the cubic elastic constants $C_{11}$, $C_{12}$ and $C_{44}$ and convert to units of GPa:"
   ]
  },
  {
   "cell_type": "code",
   "execution_count": 43,
   "metadata": {},
   "outputs": [
    {
     "data": {
      "text/plain": [
       "(201.4615167357166, 51.64015288948479, 118.17710649364383)"
      ]
     },
     "execution_count": 43,
     "metadata": {},
     "output_type": "execute_result"
    }
   ],
   "source": [
    "(C_11, C_12, C_44)"
   ]
  },
  {
   "attachments": {},
   "cell_type": "markdown",
   "metadata": {},
   "source": [
    "The remaining ingredient is the surface energy, which we can also compute on-the-fly"
   ]
  },
  {
   "cell_type": "code",
   "execution_count": 52,
   "metadata": {},
   "outputs": [],
   "source": [
    "# UPDATE to import from here once `adapticecont` branch is merged.\n",
    "# from matscipy.fracture_mechanics.clusters import find_surface_energy\n",
    "\n",
    "def find_surface_energy(symbol,calc,a0,surface,size=(8,1,1),vacuum=10,fmax=0.0001,unit='0.1J/m^2'):\n",
    "    # Import required lattice builder\n",
    "    if surface.startswith('bcc'):\n",
    "        from ase.lattice.cubic import BodyCenteredCubic as lattice_builder\n",
    "    elif surface.startswith('fcc'):\n",
    "        from ase.lattice.cubic import FaceCenteredCubic as lattice_builder #untested\n",
    "    elif surface.startswith('diamond'):\n",
    "        from ase.lattice.cubic import Diamond as lattice_builder #untested\n",
    "    ## Append other lattice builders here\n",
    "    else:\n",
    "        print('Error: Unsupported lattice ordering.')\n",
    "\n",
    "    # Set orthogonal directions for cell axes\n",
    "    if surface.endswith('100'):\n",
    "        directions=[[1,0,0], [0,1,0], [0,0,1]] #tested for bcc\n",
    "    elif surface.endswith('110'):\n",
    "        directions=[[1,1,0], [-1,1,0], [0,0,1]] #tested for bcc\n",
    "    elif surface.endswith('111'):\n",
    "        directions=[[1,1,1], [-2,1,1],[0,-1,1]] #tested for bcc\n",
    "    ## Append other cell axis options here\n",
    "    else:\n",
    "        print('Error: Unsupported surface orientation.')\n",
    "    \n",
    "    # Make bulk and slab with same number of atoms (size)\n",
    "    bulk = lattice_builder(directions=directions, size=size, symbol=symbol, latticeconstant=a0, pbc=(1,1,1))\n",
    "    cell = bulk.get_cell() ; cell[0,:] *=2 # vacuum along x axis (surface normal)\n",
    "    slab = bulk.copy() ; slab.set_cell(cell)\n",
    "    \n",
    "    # Optimize the geometries\n",
    "    from ase.optimize import LBFGSLineSearch\n",
    "    bulk.calc = calc ; opt_bulk = LBFGSLineSearch(bulk) ; opt_bulk.run(fmax=fmax)\n",
    "    slab.calc = calc ; opt_slab = LBFGSLineSearch(slab) ; opt_slab.run(fmax=fmax)\n",
    "\n",
    "    # Find surface energy\n",
    "    import numpy as np\n",
    "    Ebulk = bulk.get_potential_energy() ; Eslab = slab.get_potential_energy()\n",
    "    area = np.linalg.norm(np.cross(slab.get_cell()[1,:],slab.get_cell()[2,:]))\n",
    "    gamma_ase = (Eslab - Ebulk)/(2*area)\n",
    "\n",
    "    # Convert to required units\n",
    "    if unit == 'ASE':\n",
    "        return [gamma_ase,'ase_units']\n",
    "    else:\n",
    "        from ase import units\n",
    "        gamma_SI = (gamma_ase / units.J ) * (units.m)**2\n",
    "        if unit =='J/m^2':\n",
    "            return [gamma_SI,'J/m^2']\n",
    "        elif unit == '0.1J/m^2':\n",
    "            return [10*gamma_SI,'0.1J/m^2'] # units required for the fracture code\n",
    "        else:\n",
    "            print('Error: Unsupported unit of surface energy.')"
   ]
  },
  {
   "cell_type": "code",
   "execution_count": 54,
   "metadata": {},
   "outputs": [
    {
     "name": "stdout",
     "output_type": "stream",
     "text": [
      "                 Step     Time          Energy         fmax\n",
      "*Force-consistent energies used in optimization.\n",
      "LBFGSLineSearch:    0 15:49:01     -416.313600*       0.0000\n",
      "                 Step     Time          Energy         fmax\n",
      "*Force-consistent energies used in optimization.\n",
      "LBFGSLineSearch:    0 15:49:01     -403.303800*       0.0000\n"
     ]
    }
   ],
   "source": [
    "surface_energy, unit = find_surface_energy(el, calc, a0, 'diamond111')"
   ]
  },
  {
   "cell_type": "code",
   "execution_count": null,
   "metadata": {},
   "outputs": [],
   "source": [
    "surface_energy  = 1.08  * 10    # GPa*A = 0.1 J/m^2\n",
    "\n",
    "# Crack system\n",
    "n               = [ 4, 6, 1 ]\n",
    "crack_surface   = [ 1,-1, 0 ]\n",
    "crack_front     = [ 1, 1, 0 ]\n",
    "crack_tip       = [ 41, 56 ]\n",
    "skin_x, skin_y = 1, 1\n",
    "\n",
    "vacuum          = 6.0\n",
    "\n",
    "# Simulation control\n",
    "nsteps          = 31\n",
    "# Increase stress intensity factor\n",
    "k1              = np.linspace(0.8, 1.5, nsteps)\n",
    "# Don't move crack tip\n",
    "tip_dx          = np.zeros_like(k1)\n",
    "tip_dz          = np.zeros_like(k1)\n",
    "\n",
    "fmax            = 0.05\n",
    "\n",
    "# Setup crack system\n",
    "cryst = diamond(el, a0, n, crack_surface, crack_front)\n",
    "set_groups(cryst, n, skin_x, skin_y)\n",
    "\n",
    "ase.io.write('cryst.cfg', cryst)\n",
    "\n",
    "# Compute crack tip position\n",
    "r0 = np.sum(cryst.get_positions()[crack_tip,:], axis=0)/len(crack_tip)\n",
    "tip_x0, tip_y0, tip_z0 = r0"
   ]
  },
  {
   "cell_type": "code",
   "execution_count": null,
   "metadata": {},
   "outputs": [],
   "source": []
  }
 ],
 "metadata": {
  "kernelspec": {
   "display_name": "Python 3",
   "language": "python",
   "name": "python3"
  },
  "language_info": {
   "codemirror_mode": {
    "name": "ipython",
    "version": 3
   },
   "file_extension": ".py",
   "mimetype": "text/x-python",
   "name": "python",
   "nbconvert_exporter": "python",
   "pygments_lexer": "ipython3",
   "version": "3.10.10"
  },
  "orig_nbformat": 4
 },
 "nbformat": 4,
 "nbformat_minor": 2
}
