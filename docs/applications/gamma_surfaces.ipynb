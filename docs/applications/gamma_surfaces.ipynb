{
 "cells": [
  {
   "cell_type": "markdown",
   "metadata": {},
   "source": [
    "# Generating Gamma Surfaces & Stacking Fault\n",
    "\n",
    "Gamma surfaces (also called generalised stacking faults) and stacking faults are forms of crystal defects formed by sliding two slabs of a crystal against each other along a given plane. Often, these defects have metastable states (also called stacking faults), which can exist at grain boundaries or between two partial dislocations. Here, we deal with the full pathway from a complete crystal, sliding through any metastable points until we return back to the perfect crystal again. \n",
    "\n",
    "For a stacking fault, the slabs are moved along a single line, whereas for gamma surfaces this is the full plane (hence generalised stacking fault). `matscipy.gamma_surface` provides two classes - `GammaSurface` and `StackingFault` - in order to model these systems, including utility methods for relaxing and plotting the associated potential energy surfaces.\n",
    "\n",
    "## Stacking Faults for a Specific Dislocation\n",
    "When modelling systems of dissociated dislocations connected by a stacking fault, it can be useful to see the stacking fault in isolation. To do this, we will use `matscipy.gamma_surface.StackingFault` to model the stacking fault associated with the dissociated `matscipy.dislocations.DiamondGlideScrew` dislocation in Carbon. \n",
    "\n",
    "We will first use a potential by  to obtain reasonable guesses for a lattice parameter and elastic constants, and take a look at the dissociated `DiamondGlideScrew` dislocation:"
   ]
  },
  {
   "cell_type": "code",
   "execution_count": 1,
   "metadata": {},
   "outputs": [
    {
     "data": {
      "application/vnd.jupyter.widget-view+json": {
       "model_id": "27db6eb3c9504fca9a918c7e57794e93",
       "version_major": 2,
       "version_minor": 0
      },
      "text/plain": []
     },
     "metadata": {},
     "output_type": "display_data"
    },
    {
     "name": "stdout",
     "output_type": "stream",
     "text": [
      "      Step     Time          Energy         fmax\n",
      "*Force-consistent energies used in optimization.\n",
      "FIRE:    0 11:45:11      -71.023173*      21.6660\n",
      "FIRE:    1 11:45:11      -70.778252*      27.1719\n",
      "FIRE:    2 11:45:11      -72.074178*       7.7128\n",
      "FIRE:    3 11:45:11      -71.810725*      12.8423\n",
      "FIRE:    4 11:45:11      -71.909801*      11.1435\n",
      "FIRE:    5 11:45:11      -72.057595*       7.8693\n",
      "FIRE:    6 11:45:11      -72.174468*       3.3124\n",
      "FIRE:    7 11:45:11      -72.190180*       2.0030\n",
      "FIRE:    8 11:45:11      -72.190836*       1.9252\n",
      "FIRE:    9 11:45:11      -72.192047*       1.7727\n",
      "FIRE:   10 11:45:11      -72.193627*       1.5519\n",
      "FIRE:   11 11:45:11      -72.195333*       1.2717\n",
      "FIRE:   12 11:45:11      -72.196904*       0.9434\n",
      "FIRE:   13 11:45:11      -72.198103*       0.5801\n",
      "FIRE:   14 11:45:11      -72.198751*       0.1961\n",
      "FIRE:   15 11:45:11      -72.198716*       0.2336\n",
      "FIRE:   16 11:45:11      -72.198718*       0.2309\n",
      "FIRE:   17 11:45:11      -72.198724*       0.2256\n",
      "FIRE:   18 11:45:11      -72.198731*       0.2177\n",
      "FIRE:   19 11:45:11      -72.198741*       0.2072\n",
      "FIRE:   20 11:45:11      -72.198752*       0.1944\n",
      "FIRE:   21 11:45:11      -72.198765*       0.1794\n",
      "FIRE:   22 11:45:11      -72.198777*       0.1623\n",
      "FIRE:   23 11:45:11      -72.198791*       0.1412\n",
      "FIRE:   24 11:45:11      -72.198806*       0.1156\n",
      "FIRE:   25 11:45:11      -72.198819*       0.0851\n",
      "FIRE:   26 11:45:11      -72.198829*       0.0495\n",
      "FIRE:   27 11:45:11      -72.198835*       0.0087\n",
      "FIRE:   28 11:45:11      -72.198832*       0.0364\n",
      "FIRE:   29 11:45:11      -72.198832*       0.0361\n",
      "FIRE:   30 11:45:11      -72.198832*       0.0354\n",
      "FIRE:   31 11:45:11      -72.198832*       0.0344\n",
      "FIRE:   32 11:45:11      -72.198832*       0.0331\n",
      "FIRE:   33 11:45:11      -72.198833*       0.0316\n",
      "FIRE:   34 11:45:11      -72.198833*       0.0297\n",
      "FIRE:   35 11:45:11      -72.198833*       0.0275\n",
      "FIRE:   36 11:45:11      -72.198833*       0.0249\n",
      "FIRE:   37 11:45:11      -72.198834*       0.0216\n",
      "FIRE:   38 11:45:11      -72.198834*       0.0177\n",
      "FIRE:   39 11:45:11      -72.198834*       0.0131\n",
      "FIRE:   40 11:45:11      -72.198835*       0.0076\n",
      "FIRE:   41 11:45:11      -72.198835*       0.0015\n",
      "FIRE:   42 11:45:11      -72.198835*       0.0054\n",
      "FIRE:   43 11:45:11      -72.198835*       0.0053\n",
      "FIRE:   44 11:45:11      -72.198835*       0.0053\n",
      "FIRE:   45 11:45:11      -72.198835*       0.0051\n",
      "FIRE:   46 11:45:11      -72.198835*       0.0049\n",
      "FIRE:   47 11:45:11      -72.198835*       0.0047\n",
      "FIRE:   48 11:45:11      -72.198835*       0.0044\n",
      "FIRE:   49 11:45:11      -72.198835*       0.0041\n",
      "FIRE:   50 11:45:11      -72.198835*       0.0038\n",
      "FIRE:   51 11:45:11      -72.198835*       0.0033\n",
      "FIRE:   52 11:45:11      -72.198835*       0.0028\n",
      "FIRE:   53 11:45:11      -72.198835*       0.0021\n",
      "FIRE:   54 11:45:11      -72.198835*       0.0013\n",
      "FIRE:   55 11:45:11      -72.198835*       0.0004\n",
      "FIRE:   56 11:45:11      -72.198835*       0.0006\n",
      "FIRE:   57 11:45:11      -72.198835*       0.0006\n",
      "FIRE:   58 11:45:11      -72.198835*       0.0005\n",
      "FIRE:   59 11:45:11      -72.198835*       0.0005\n",
      "FIRE:   60 11:45:11      -72.198835*       0.0005\n",
      "FIRE:   61 11:45:11      -72.198835*       0.0005\n",
      "FIRE:   62 11:45:11      -72.198835*       0.0005\n",
      "FIRE:   63 11:45:11      -72.198835*       0.0004\n",
      "FIRE:   64 11:45:11      -72.198835*       0.0004\n",
      "FIRE:   65 11:45:11      -72.198835*       0.0004\n",
      "FIRE:   66 11:45:11      -72.198835*       0.0003\n",
      "FIRE:   67 11:45:11      -72.198835*       0.0002\n",
      "FIRE:   68 11:45:11      -72.198835*       0.0002\n",
      "FIRE:   69 11:45:11      -72.198835*       0.0001\n",
      "Fitting C_11\n",
      "Strain array([-0.02, -0.01,  0.  ,  0.01,  0.02])\n",
      "Stress array([-8.55171159e+00, -4.21287866e+00, -1.61225268e-04,  4.08839868e+00,\n",
      "        8.05480480e+00]) GPa\n",
      "Cij (gradient) / GPa    :     415.14310104705896\n",
      "Error in Cij / GPa      :     4.240401865695383\n",
      "Correlation coefficient :     0.999843538421368\n",
      "Setting C11 (1) to 2.591119 +/- 0.026467\n",
      "\n",
      "\n",
      "Fitting C_21\n",
      "Strain array([-0.02, -0.01,  0.  ,  0.01,  0.02])\n",
      "Stress array([-5.84787634e+00, -2.84336123e+00, -1.61225268e-04,  2.69023025e+00,\n",
      "        5.23591188e+00]) GPa\n",
      "Cij (gradient) / GPa    :     277.01167931435486\n",
      "Error in Cij / GPa      :     5.22426533207631\n",
      "Correlation coefficient :     0.9994669129070469\n",
      "Setting C21 (7) to 1.728971 +/- 0.032607\n",
      "\n",
      "\n",
      "Fitting C_31\n",
      "Strain array([-0.02, -0.01,  0.  ,  0.01,  0.02])\n",
      "Stress array([-5.84787634e+00, -2.84336123e+00, -1.61225268e-04,  2.69023025e+00,\n",
      "        5.23591188e+00]) GPa\n",
      "Cij (gradient) / GPa    :     277.011679314355\n",
      "Error in Cij / GPa      :     5.224265332076312\n",
      "Correlation coefficient :     0.9994669129070469\n",
      "Updating C31 (7) with value 1.728971 +/- 0.032607\n",
      "\n",
      "\n",
      "Fitting C_44\n",
      "Strain array([-0.02, -0.01,  0.  ,  0.01,  0.02])\n",
      "Stress array([-8.72479644e+00, -4.24868677e+00, -5.27460258e-14,  4.03027055e+00,\n",
      "        7.85073643e+00]) GPa\n",
      "Cij (gradient) / GPa    :     414.3002306307551\n",
      "Error in Cij / GPa      :     7.464883335574426\n",
      "Correlation coefficient :     0.9995133801013282\n",
      "Setting C44 (4) to 2.585859 +/- 0.046592\n",
      "\n",
      "\n",
      "[[b C11 b C12 b C12 b     b     b    ]\n",
      " [b C12 b C11 b C12 b     b     b    ]\n",
      " [b C12 b C12 b C11 b     b     b    ]\n",
      " [b     b     b     b C44 b     b    ]\n",
      " [b     b     b     b     b C44 b    ]\n",
      " [b     b     b     b     b     b C44]]\n",
      "\n",
      " = \n",
      "\n",
      "[[415.14 277.01 277.01   0.     0.     0.  ]\n",
      " [277.01 415.14 277.01   0.     0.     0.  ]\n",
      " [277.01 277.01 415.14   0.     0.     0.  ]\n",
      " [  0.     0.     0.   414.3    0.     0.  ]\n",
      " [  0.     0.     0.     0.   414.3    0.  ]\n",
      " [  0.     0.     0.     0.     0.   414.3 ]]\n",
      "C_11 = 415.14 +/- 4.24 GPa\n",
      "C_12 = 277.01 +/- 5.22 GPa\n",
      "C_44 = 414.30 +/- 7.46 GPa\n",
      "alat = 3.36052777209567\n",
      "0.6123724356957945\n"
     ]
    },
    {
     "data": {
      "application/vnd.jupyter.widget-view+json": {
       "model_id": "0f43e6c98e6c4307a91603abc81b8767",
       "version_major": 2,
       "version_minor": 0
      },
      "text/plain": [
       "NGLWidget()"
      ]
     },
     "metadata": {},
     "output_type": "display_data"
    }
   ],
   "source": [
    "from matscipy.dislocation import DiamondGlideScrew, get_elastic_constants\n",
    "from matscipy.gamma_surface import StackingFault\n",
    "from matscipy.calculators.manybody.explicit_forms.tersoff_brenner import TersoffBrenner, Brenner_PRB_42_9458_C_I\n",
    "from matscipy.calculators.manybody import Manybody\n",
    "from visualisation import show_dislocation, show_stacking_fault\n",
    "\n",
    "calc = Manybody(**TersoffBrenner(Brenner_PRB_42_9458_C_I))\n",
    "\n",
    "# the function accepts any ASE type of calculator\n",
    "alat, C11, C12, C44 = get_elastic_constants(calculator=calc, symbol=\"C\")\n",
    "print(f\"alat = {alat}\")\n",
    "C_screw = DiamondGlideScrew(alat, C11, C12, C44, symbol=\"C\")\n",
    "\n",
    "C_screw_bulk, C_screw_dislo = C_screw.build_cylinder(radius=20, partial_distance=10)\n",
    "\n",
    "print(C_screw.glide_distance_dimensionless)\n",
    "\n",
    "show_dislocation(C_screw_dislo, \n",
    "                 diamond_structure=True, # bonds make it a bit easier to see the structure\n",
    "                 scale=0.3, add_bonds=True, \n",
    "                 partial_distance=10 * C_screw.glide_distance, \n",
    "                 d_name=\"1/6<112> 30 degree partial screw\") \n"
   ]
  },
  {
   "cell_type": "markdown",
   "metadata": {},
   "source": [
    "To model just the stacking fault, we can call `StackingFault` with just the lattice constant, crystalstructure (one of \"fcc\", \"bcc\", \"diamond\"), the chemical symbol, and the kind of dissociated dislocation, and use the function `StackingFault.generate_images()` to generate the fault images."
   ]
  },
  {
   "cell_type": "code",
   "execution_count": 2,
   "metadata": {},
   "outputs": [
    {
     "data": {
      "application/vnd.jupyter.widget-view+json": {
       "model_id": "67e81fb7e6e240e4aa4c88e92816c245",
       "version_major": 2,
       "version_minor": 0
      },
      "text/plain": [
       "HBox(children=(NGLWidget(max_frame=15), VBox(children=(Dropdown(description='Show', options=('All', 'C'), valu…"
      ]
     },
     "execution_count": 2,
     "metadata": {},
     "output_type": "execute_result"
    }
   ],
   "source": [
    "fault = StackingFault(alat, DiamondGlideScrew, symbol=\"C\")\n",
    "fault.generate_images(n=16) # Generate 16 images along the pathway\n",
    "show_stacking_fault(fault.images)"
   ]
  },
  {
   "cell_type": "markdown",
   "metadata": {},
   "source": [
    "Now that we have the images generated, we can use the calculator by [D. Holland and M. Marder](https://journals.aps.org/prl/abstract/10.1103/PhysRevLett.80.746) to relax the images, and look at the energy barrier associated with forming the stacking fault.\n",
    "\n",
    "There are many things to consider when measuring stacking fault energy densities, and there are many conventions found in literature. Here, we only look at relaxations of these systems, but there are still many parameters to explore. We should consider whether the system should be vacuum terminated, how far apart the periodic images of the stacking fault should be, what constraints to add to the system, and whether there could be another plane with the same normal that could be more energetically favourable.\n",
    "\n",
    "This is a lot to consider, so we will explore the effect of tuning these parameters now.\n",
    "\n",
    "### Parameterising stacking fault image generation\n",
    "\n",
    "The default behaviour of `StackingFault.generate_images()` is to build as small of a cell as possible, based on the output of either `ase.lattice.cubic` (when `a` is a lattice parameter), or `ase.build.bulk`. This is likely to suffer from finite size effects for most systems, so it may be useful to include more bulk between periodic images of a stacking fault. We may also wish to use the argument `vaccuum=5.0` to add $5\\AA$ of vacuum between the faults, but we will ignore this for now.."
   ]
  },
  {
   "cell_type": "code",
   "execution_count": 3,
   "metadata": {},
   "outputs": [
    {
     "data": {
      "application/vnd.jupyter.widget-view+json": {
       "model_id": "0af1dbb7a217447e9f35be89c7c6009c",
       "version_major": 2,
       "version_minor": 0
      },
      "text/plain": [
       "HBox(children=(NGLWidget(max_frame=15), VBox(children=(Dropdown(description='Show', options=('All', 'C'), valu…"
      ]
     },
     "execution_count": 3,
     "metadata": {},
     "output_type": "execute_result"
    }
   ],
   "source": [
    "# Re-running fault.generate_images() will just replace the images\n",
    "fault.generate_images(\n",
    "    n=16, # Still generate 16 images\n",
    "    z_replications=3# Add copies of the bulk between stacking faults\n",
    ")\n",
    "show_stacking_fault(fault.images)\n"
   ]
  },
  {
   "cell_type": "markdown",
   "metadata": {},
   "source": [
    "We can see that this gives a stacking fault with more bulk.\n",
    "Next, let's relax the fault and look at the energy barrier.\n",
    "\n",
    "### Relaxing stacking fault images\n",
    "\n",
    "To relax the stacking fault images, we can use `StackingFault.relax_images`. Here, we have more choices to make, mainly through which constraints we apply to the images, which are controlled by the arguments `constrain_atoms` and `cell_relax`. As the name suggests, `constrain_atoms` adds atomic constraints, which restrict the atoms to only relax in the Z direction (towards or away from the stacking fault). The `cell_relax` argument allows the length of the cell in Z (`image.cell[2, 2]`) to be relaxed.\n",
    "\n",
    "Here, we will stick with the defaults (`constrain_atoms=True, cell_relax=True`). We will then use `StackingFault.get_surface_energies()` to evaluate the energy barrier associated with the stacking fault.\n",
    "\n",
    "NOTE: With stacking faults, we actually measure the energy __density__ (energy per unit area of the stacking fault), which is often expressed in $\\text{eV/}\\AA^2$ or in $\\text{J/m}^2$. We return with $\\text{eV/}\\AA^2$ in `StackingFault.get_surface_energies()`."
   ]
  },
  {
   "cell_type": "code",
   "execution_count": 4,
   "metadata": {},
   "outputs": [],
   "source": [
    "fault.relax_images(calc)\n",
    "Es = fault.get_surface_energies(calc)"
   ]
  },
  {
   "cell_type": "markdown",
   "metadata": {},
   "source": [
    "Now that we have relaxed the images and found the energy barrier, we should see what the barrier looks like. One way of doing this is to use the inbuilt `StackingFault.plot_gamma_surface()` function:"
   ]
  },
  {
   "cell_type": "code",
   "execution_count": 5,
   "metadata": {},
   "outputs": [
    {
     "data": {
      "application/vnd.jupyter.widget-view+json": {
       "model_id": "0840cd9ce7d948d5a300807fabc3f53b",
       "version_major": 2,
       "version_minor": 0
      },
      "text/plain": [
       "HBox(children=(NGLWidget(max_frame=15), VBox(children=(Dropdown(description='Show', options=('All', 'C'), valu…"
      ]
     },
     "execution_count": 5,
     "metadata": {},
     "output_type": "execute_result"
    },
    {
     "data": {
      "image/png": "[encoded data removed]",
      "text/plain": [
       "<Figure size 432x288 with 1 Axes>"
      ]
     },
     "metadata": {
      "needs_background": "light"
     },
     "output_type": "display_data"
    }
   ],
   "source": [
    "fault.plot_gamma_surface()\n",
    "\n",
    "show_stacking_fault(fault.images)"
   ]
  },
  {
   "cell_type": "code",
   "execution_count": 6,
   "metadata": {},
   "outputs": [],
   "source": []
  },
  {
   "cell_type": "code",
   "execution_count": null,
   "metadata": {},
   "outputs": [],
   "source": []
  }
 ],
 "metadata": {
  "kernelspec": {
   "display_name": "Python 3",
   "language": "python",
   "name": "python3"
  },
  "language_info": {
   "codemirror_mode": {
    "name": "ipython",
    "version": 3
   },
   "file_extension": ".py",
   "mimetype": "text/x-python",
   "name": "python",
   "nbconvert_exporter": "python",
   "pygments_lexer": "ipython3",
   "version": "3.10.12"
  }
 },
 "nbformat": 4,
 "nbformat_minor": 2
}
