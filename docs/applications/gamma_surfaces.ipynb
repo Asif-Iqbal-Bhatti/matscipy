{
 "cells": [
  {
   "cell_type": "markdown",
   "metadata": {},
   "source": [
    "# Generating Gamma Surfaces & Stacking Fault\n",
    "\n",
    "Gamma surfaces (also called generalised stacking faults) and stacking faults are forms of crystal defects formed by sliding two slabs of a crystal against each other along a given plane. Often, these defects have metastable states (also called stacking faults), which can exist at grain boundaries or between two partial dislocations. Here, we deal with the full pathway from a complete crystal, sliding through any metastable points until we return back to the perfect crystal again. \n",
    "\n",
    "For a stacking fault, the slabs are moved along a single line, whereas for gamma surfaces this is the full plane (hence generalised stacking fault). `matscipy.gamma_surface` provides two classes - `GammaSurface` and `StackingFault` - in order to model these systems, including utility methods for relaxing and plotting the associated potential energy surfaces.\n",
    "\n",
    "## Stacking Faults for a Specific Dislocation\n",
    "When modelling systems of dissociated dislocations connected by a stacking fault, it can be useful to see the stacking fault in isolation. To do this, we will use `matscipy.gamma_surface.StackingFault` to model the stacking fault associated with the dissociated `matscipy.dislocations.DiamondGlideScrew` dislocation in Si:"
   ]
  },
  {
   "cell_type": "code",
   "execution_count": 1,
   "metadata": {},
   "outputs": [
    {
     "data": {
      "application/vnd.jupyter.widget-view+json": {
       "model_id": "62d02933c3b64eae8167a286de861015",
       "version_major": 2,
       "version_minor": 0
      },
      "text/plain": []
     },
     "metadata": {},
     "output_type": "display_data"
    },
    {
     "name": "stdout",
     "output_type": "stream",
     "text": [
      "      Step     Time          Energy         fmax\n",
      "*Force-consistent energies used in optimization.\n",
      "FIRE:    0 17:26:22      -34.692786*       0.0922\n",
      "FIRE:    1 17:26:22      -34.692742*       0.1881\n",
      "FIRE:    2 17:26:22      -34.692797*       0.0452\n",
      "FIRE:    3 17:26:22      -34.692771*       0.1323\n",
      "FIRE:    4 17:26:22      -34.692781*       0.1071\n",
      "FIRE:    5 17:26:22      -34.692794*       0.0616\n",
      "FIRE:    6 17:26:22      -34.692800*       0.0043\n",
      "FIRE:    7 17:26:22      -34.692795*       0.0537\n",
      "FIRE:    8 17:26:22      -34.692796*       0.0511\n",
      "FIRE:    9 17:26:22      -34.692796*       0.0461\n",
      "FIRE:   10 17:26:22      -34.692798*       0.0390\n",
      "FIRE:   11 17:26:22      -34.692799*       0.0299\n",
      "FIRE:   12 17:26:22      -34.692799*       0.0195\n",
      "FIRE:   13 17:26:22      -34.692800*       0.0081\n",
      "FIRE:   14 17:26:22      -34.692800*       0.0036\n",
      "FIRE:   15 17:26:22      -34.692800*       0.0036\n",
      "FIRE:   16 17:26:22      -34.692800*       0.0035\n",
      "FIRE:   17 17:26:22      -34.692800*       0.0034\n",
      "FIRE:   18 17:26:22      -34.692800*       0.0032\n",
      "FIRE:   19 17:26:22      -34.692800*       0.0030\n",
      "FIRE:   20 17:26:22      -34.692800*       0.0028\n",
      "FIRE:   21 17:26:22      -34.692800*       0.0025\n",
      "FIRE:   22 17:26:22      -34.692800*       0.0022\n",
      "FIRE:   23 17:26:22      -34.692800*       0.0017\n",
      "FIRE:   24 17:26:22      -34.692800*       0.0013\n",
      "FIRE:   25 17:26:22      -34.692800*       0.0007\n",
      "FIRE:   26 17:26:22      -34.692800*       0.0000\n",
      "Fitting C_11\n",
      "Strain array([-0.02, -0.01,  0.  ,  0.01,  0.02])\n",
      "Stress array([-4.18437928e+00, -2.05313584e+00, -2.57946679e-05,  1.97559670e+00,\n",
      "        3.87433910e+00]) GPa\n",
      "Cij (gradient) / GPa    :     201.461692967182\n",
      "Error in Cij / GPa      :     2.6470882834167937\n",
      "Correlation coefficient :     0.9997411343112752\n",
      "Setting C11 (1) to 1.257425 +/- 0.016522\n",
      "\n",
      "\n",
      "Fitting C_21\n",
      "Strain array([-0.02, -0.01,  0.  ,  0.01,  0.02])\n",
      "Stress array([-1.13686951e+00, -5.40672589e-01, -2.57946679e-05,  4.89041361e-01,\n",
      "        9.30285346e-01]) GPa\n",
      "Cij (gradient) / GPa    :     51.64023659032263\n",
      "Error in Cij / GPa      :     1.7644327851075108\n",
      "Correlation coefficient :     0.9982534295801978\n",
      "Setting C21 (7) to 0.322313 +/- 0.011013\n",
      "\n",
      "\n",
      "Fitting C_31\n",
      "Strain array([-0.02, -0.01,  0.  ,  0.01,  0.02])\n",
      "Stress array([-1.13686951e+00, -5.40672589e-01, -2.57946680e-05,  4.89041361e-01,\n",
      "        9.30285346e-01]) GPa\n",
      "Cij (gradient) / GPa    :     51.640236590323\n",
      "Error in Cij / GPa      :     1.764432785107523\n",
      "Correlation coefficient :     0.9982534295801978\n",
      "Updating C31 (7) with value 0.322313 +/- 0.011013\n",
      "\n",
      "\n",
      "Fitting C_44\n",
      "Strain array([-0.02, -0.01,  0.  ,  0.01,  0.02])\n",
      "Stress array([-2.43911684e+00, -1.19995048e+00, -2.27565102e-15,  1.16236368e+00,\n",
      "        2.28858547e+00]) GPa\n",
      "Cij (gradient) / GPa    :     118.17718786807852\n",
      "Error in Cij / GPa      :     1.2857535435707688\n",
      "Correlation coefficient :     0.9998224896147394\n",
      "Setting C44 (4) to 0.737604 +/- 0.008025\n",
      "\n",
      "\n",
      "[[b C11 b C12 b C12 b     b     b    ]\n",
      " [b C12 b C11 b C12 b     b     b    ]\n",
      " [b C12 b C12 b C11 b     b     b    ]\n",
      " [b     b     b     b C44 b     b    ]\n",
      " [b     b     b     b     b C44 b    ]\n",
      " [b     b     b     b     b     b C44]]\n",
      "\n",
      " = \n",
      "\n",
      "[[201.46  51.64  51.64   0.     0.     0.  ]\n",
      " [ 51.64 201.46  51.64   0.     0.     0.  ]\n",
      " [ 51.64  51.64 201.46   0.     0.     0.  ]\n",
      " [  0.     0.     0.   118.18   0.     0.  ]\n",
      " [  0.     0.     0.     0.   118.18   0.  ]\n",
      " [  0.     0.     0.     0.     0.   118.18]]\n",
      "C_11 = 201.46 +/- 2.65 GPa\n",
      "C_12 = 51.64 +/- 1.76 GPa\n",
      "C_44 = 118.18 +/- 1.29 GPa\n",
      "alat = 5.430949317991436\n"
     ]
    },
    {
     "data": {
      "application/vnd.jupyter.widget-view+json": {
       "model_id": "0aca765d30a248099a7dd4118625f089",
       "version_major": 2,
       "version_minor": 0
      },
      "text/plain": [
       "NGLWidget()"
      ]
     },
     "metadata": {},
     "output_type": "display_data"
    }
   ],
   "source": [
    "from matscipy.dislocation import DiamondGlideScrew, get_elastic_constants\n",
    "from matscipy.gamma_surface import StackingFault\n",
    "from matscipy.calculators.manybody.explicit_forms.stillinger_weber import StillingerWeber,\\\n",
    "                                                                Holland_Marder_PRL_80_746_Si\n",
    "from matscipy.calculators.manybody import Manybody\n",
    "from visualisation import show_dislocation, interactive_view\n",
    "from ase.visualize import view\n",
    "\n",
    "calc = Manybody(**StillingerWeber(Holland_Marder_PRL_80_746_Si))\n",
    "\n",
    "# the function accepts any ASE type of calculator\n",
    "alat, C11, C12, C44 = get_elastic_constants(calculator=calc, symbol=\"Si\")\n",
    "print(f\"alat = {alat}\")\n",
    "Si_screw = DiamondGlideScrew(alat, C11, C12, C44, symbol=\"Si\")\n",
    "\n",
    "Si_screw_bulk, Si_screw_dislo = Si_screw.build_cylinder(radius=20, partial_distance=5)\n",
    "\n",
    "show_dislocation(Si_screw_dislo, \n",
    "                 diamond_structure=True, # bonds make it a bit easier to see the structure\n",
    "                 scale=0.3, add_bonds=True, \n",
    "                 partial_distance=5 * Si_screw.glide_distance, \n",
    "                 d_name=\"1/6<112> 30 degree partial screw\") \n"
   ]
  },
  {
   "cell_type": "markdown",
   "metadata": {},
   "source": [
    "To model just the stacking fault, we can call `StackingFault` with just the lattice constant, crystalstructure (one of \"fcc\", \"bcc\", \"diamond\"), the chemical symbol, and the kind of dissociated dislocation, and use the function `StackingFault.generate_images()` to generate the fault images."
   ]
  },
  {
   "cell_type": "code",
   "execution_count": 5,
   "metadata": {},
   "outputs": [
    {
     "data": {
      "application/vnd.jupyter.widget-view+json": {
       "model_id": "472942a8fac24afe89073c7377886c07",
       "version_major": 2,
       "version_minor": 0
      },
      "text/plain": [
       "HBox(children=(NGLWidget(max_frame=31), VBox(children=(Dropdown(description='Show', options=('All', 'Si'), val…"
      ]
     },
     "execution_count": 5,
     "metadata": {},
     "output_type": "execute_result"
    }
   ],
   "source": [
    "fault = StackingFault(alat, DiamondGlideScrew, symbol=\"Si\")\n",
    "fault.generate_images(n=32) # Generate 32 images along the sliding pathway\n",
    "images = [image * (1, 1, 2) for image in fault.images]\n",
    "cell = images[0].cell[:, :]\n",
    "for image in images:\n",
    "    image.set_cell(cell)\n",
    "    image.wrap()\n",
    "view(images, viewer=\"ngl\")"
   ]
  },
  {
   "cell_type": "code",
   "execution_count": null,
   "metadata": {},
   "outputs": [],
   "source": []
  }
 ],
 "metadata": {
  "kernelspec": {
   "display_name": "Python 3",
   "language": "python",
   "name": "python3"
  },
  "language_info": {
   "codemirror_mode": {
    "name": "ipython",
    "version": 3
   },
   "file_extension": ".py",
   "mimetype": "text/x-python",
   "name": "python",
   "nbconvert_exporter": "python",
   "pygments_lexer": "ipython3",
   "version": "3.10.12"
  }
 },
 "nbformat": 4,
 "nbformat_minor": 2
}
