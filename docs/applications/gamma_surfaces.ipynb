{
 "cells": [
  {
   "cell_type": "markdown",
   "metadata": {},
   "source": [
    "# Generating Gamma Surfaces & Stacking Fault\n",
    "\n",
    "Gamma surfaces (also called generalised stacking faults) and stacking faults are forms of crystal defects formed by sliding two slabs of a crystal against each other along a given plane. Often, these defects have metastable states (also called stacking faults), which can exist at grain boundaries or between two partial dislocations. Here, we deal with the full pathway from a complete crystal, sliding through any metastable points until we return back to the perfect crystal again. \n",
    "\n",
    "For a stacking fault, the slabs are moved along a single line, whereas for gamma surfaces this is the full plane (hence generalised stacking fault). `matscipy.gamma_surface` provides two classes - `GammaSurface` and `StackingFault` - in order to model these systems, including utility methods for relaxing and plotting the associated potential energy surfaces.\n",
    "\n",
    "## Stacking Faults for a Specific Dislocation\n",
    "When modelling systems of dissociated dislocations connected by a stacking fault, it can be useful to see the stacking fault in isolation. To do this, we will use `matscipy.gamma_surface.StackingFault` to model the stacking fault associated with the dissociated `matscipy.dislocations.DiamondGlideScrew` dislocation in Carbon. \n",
    "\n",
    "We will first use a potential by  to obtain reasonable guesses for a lattice parameter and elastic constants, and take a look at the dissociated `DiamondGlideScrew` dislocation:"
   ]
  },
  {
   "cell_type": "code",
   "execution_count": 27,
   "metadata": {},
   "outputs": [
    {
     "name": "stdout",
     "output_type": "stream",
     "text": [
      "      Step     Time          Energy         fmax\n",
      "*Force-consistent energies used in optimization.\n",
      "FIRE:    0 14:15:59      -71.023173*      21.6660\n",
      "FIRE:    1 14:15:59      -70.778252*      27.1719\n",
      "FIRE:    2 14:15:59      -72.074178*       7.7128\n",
      "FIRE:    3 14:15:59      -71.810725*      12.8423\n",
      "FIRE:    4 14:15:59      -71.909801*      11.1435\n",
      "FIRE:    5 14:15:59      -72.057595*       7.8693\n",
      "FIRE:    6 14:15:59      -72.174468*       3.3124\n",
      "FIRE:    7 14:15:59      -72.190180*       2.0030\n",
      "FIRE:    8 14:15:59      -72.190836*       1.9252\n"
     ]
    },
    {
     "name": "stdout",
     "output_type": "stream",
     "text": [
      "FIRE:    9 14:15:59      -72.192047*       1.7727\n",
      "FIRE:   10 14:15:59      -72.193627*       1.5519\n",
      "FIRE:   11 14:15:59      -72.195333*       1.2717\n",
      "FIRE:   12 14:15:59      -72.196904*       0.9434\n",
      "FIRE:   13 14:15:59      -72.198103*       0.5801\n",
      "FIRE:   14 14:15:59      -72.198751*       0.1961\n",
      "FIRE:   15 14:15:59      -72.198716*       0.2336\n",
      "FIRE:   16 14:15:59      -72.198718*       0.2309\n",
      "FIRE:   17 14:15:59      -72.198724*       0.2256\n",
      "FIRE:   18 14:15:59      -72.198731*       0.2177\n",
      "FIRE:   19 14:15:59      -72.198741*       0.2072\n",
      "FIRE:   20 14:15:59      -72.198752*       0.1944\n",
      "FIRE:   21 14:15:59      -72.198765*       0.1794\n",
      "FIRE:   22 14:15:59      -72.198777*       0.1623\n",
      "FIRE:   23 14:15:59      -72.198791*       0.1412\n",
      "FIRE:   24 14:15:59      -72.198806*       0.1156\n",
      "FIRE:   25 14:15:59      -72.198819*       0.0851\n",
      "FIRE:   26 14:15:59      -72.198829*       0.0495\n",
      "FIRE:   27 14:15:59      -72.198835*       0.0087\n",
      "FIRE:   28 14:15:59      -72.198832*       0.0364\n",
      "FIRE:   29 14:15:59      -72.198832*       0.0361\n",
      "FIRE:   30 14:15:59      -72.198832*       0.0354\n",
      "FIRE:   31 14:15:59      -72.198832*       0.0344\n",
      "FIRE:   32 14:15:59      -72.198832*       0.0331\n",
      "FIRE:   33 14:15:59      -72.198833*       0.0316\n",
      "FIRE:   34 14:15:59      -72.198833*       0.0297\n",
      "FIRE:   35 14:15:59      -72.198833*       0.0275\n",
      "FIRE:   36 14:15:59      -72.198833*       0.0249\n",
      "FIRE:   37 14:15:59      -72.198834*       0.0216\n",
      "FIRE:   38 14:15:59      -72.198834*       0.0177\n",
      "FIRE:   39 14:15:59      -72.198834*       0.0131\n",
      "FIRE:   40 14:15:59      -72.198835*       0.0076\n",
      "FIRE:   41 14:15:59      -72.198835*       0.0015\n",
      "FIRE:   42 14:15:59      -72.198835*       0.0054\n",
      "FIRE:   43 14:15:59      -72.198835*       0.0053\n",
      "FIRE:   44 14:15:59      -72.198835*       0.0053\n",
      "FIRE:   45 14:15:59      -72.198835*       0.0051\n",
      "FIRE:   46 14:15:59      -72.198835*       0.0049\n",
      "FIRE:   47 14:15:59      -72.198835*       0.0047\n",
      "FIRE:   48 14:15:59      -72.198835*       0.0044\n",
      "FIRE:   49 14:15:59      -72.198835*       0.0041\n",
      "FIRE:   50 14:15:59      -72.198835*       0.0038\n",
      "FIRE:   51 14:15:59      -72.198835*       0.0033\n",
      "FIRE:   52 14:15:59      -72.198835*       0.0028\n",
      "FIRE:   53 14:15:59      -72.198835*       0.0021\n",
      "FIRE:   54 14:15:59      -72.198835*       0.0013\n",
      "FIRE:   55 14:15:59      -72.198835*       0.0004\n",
      "FIRE:   56 14:15:59      -72.198835*       0.0006\n",
      "FIRE:   57 14:15:59      -72.198835*       0.0006\n",
      "FIRE:   58 14:15:59      -72.198835*       0.0005\n",
      "FIRE:   59 14:15:59      -72.198835*       0.0005\n",
      "FIRE:   60 14:15:59      -72.198835*       0.0005\n",
      "FIRE:   61 14:15:59      -72.198835*       0.0005\n",
      "FIRE:   62 14:15:59      -72.198835*       0.0005\n",
      "FIRE:   63 14:15:59      -72.198835*       0.0004\n",
      "FIRE:   64 14:15:59      -72.198835*       0.0004\n",
      "FIRE:   65 14:15:59      -72.198835*       0.0004\n",
      "FIRE:   66 14:15:59      -72.198835*       0.0003\n",
      "FIRE:   67 14:15:59      -72.198835*       0.0002\n",
      "FIRE:   68 14:15:59      -72.198835*       0.0002\n",
      "FIRE:   69 14:15:59      -72.198835*       0.0001\n",
      "Fitting C_11\n",
      "Strain array([-0.02, -0.01,  0.  ,  0.01,  0.02])\n",
      "Stress array([-8.55171159e+00, -4.21287866e+00, -1.61225268e-04,  4.08839868e+00,\n",
      "        8.05480480e+00]) GPa\n",
      "Cij (gradient) / GPa    :     415.14310104705896\n",
      "Error in Cij / GPa      :     4.240401865695383\n",
      "Correlation coefficient :     0.999843538421368\n",
      "Setting C11 (1) to 2.591119 +/- 0.026467\n",
      "\n",
      "\n",
      "Fitting C_21\n",
      "Strain array([-0.02, -0.01,  0.  ,  0.01,  0.02])\n",
      "Stress array([-5.84787634e+00, -2.84336123e+00, -1.61225268e-04,  2.69023025e+00,\n",
      "        5.23591188e+00]) GPa\n",
      "Cij (gradient) / GPa    :     277.01167931435486\n",
      "Error in Cij / GPa      :     5.22426533207631\n",
      "Correlation coefficient :     0.9994669129070469\n",
      "Setting C21 (7) to 1.728971 +/- 0.032607\n",
      "\n",
      "\n",
      "Fitting C_31\n",
      "Strain array([-0.02, -0.01,  0.  ,  0.01,  0.02])\n",
      "Stress array([-5.84787634e+00, -2.84336123e+00, -1.61225268e-04,  2.69023025e+00,\n",
      "        5.23591188e+00]) GPa\n",
      "Cij (gradient) / GPa    :     277.011679314355\n",
      "Error in Cij / GPa      :     5.224265332076312\n",
      "Correlation coefficient :     0.9994669129070469\n",
      "Updating C31 (7) with value 1.728971 +/- 0.032607\n",
      "\n",
      "\n",
      "Fitting C_44\n",
      "Strain array([-0.02, -0.01,  0.  ,  0.01,  0.02])\n",
      "Stress array([-8.72479644e+00, -4.24868677e+00, -5.27460258e-14,  4.03027055e+00,\n",
      "        7.85073643e+00]) GPa\n",
      "Cij (gradient) / GPa    :     414.3002306307551\n",
      "Error in Cij / GPa      :     7.464883335574426\n",
      "Correlation coefficient :     0.9995133801013282\n",
      "Setting C44 (4) to 2.585859 +/- 0.046592\n",
      "\n",
      "\n",
      "[[b C11 b C12 b C12 b     b     b    ]\n",
      " [b C12 b C11 b C12 b     b     b    ]\n",
      " [b C12 b C12 b C11 b     b     b    ]\n",
      " [b     b     b     b C44 b     b    ]\n",
      " [b     b     b     b     b C44 b    ]\n",
      " [b     b     b     b     b     b C44]]\n",
      "\n",
      " = \n",
      "\n",
      "[[415.14 277.01 277.01   0.     0.     0.  ]\n",
      " [277.01 415.14 277.01   0.     0.     0.  ]\n",
      " [277.01 277.01 415.14   0.     0.     0.  ]\n",
      " [  0.     0.     0.   414.3    0.     0.  ]\n",
      " [  0.     0.     0.     0.   414.3    0.  ]\n",
      " [  0.     0.     0.     0.     0.   414.3 ]]\n",
      "C_11 = 415.14 +/- 4.24 GPa\n",
      "C_12 = 277.01 +/- 5.22 GPa\n",
      "C_44 = 414.30 +/- 7.46 GPa\n",
      "alat = 3.36052777209567\n"
     ]
    },
    {
     "data": {
      "application/vnd.jupyter.widget-view+json": {
       "model_id": "23e6d036d66c4c76a1ed2965c0cbf69c",
       "version_major": 2,
       "version_minor": 0
      },
      "text/plain": [
       "NGLWidget()"
      ]
     },
     "metadata": {},
     "output_type": "display_data"
    }
   ],
   "source": [
    "from matscipy.dislocation import DiamondGlideScrew, get_elastic_constants\n",
    "from matscipy.gamma_surface import StackingFault, GammaSurface\n",
    "from matscipy.calculators.manybody.explicit_forms.tersoff_brenner import TersoffBrenner, Brenner_PRB_42_9458_C_I\n",
    "from matscipy.calculators.manybody import Manybody\n",
    "from visualisation import show_dislocation, show_stacking_fault\n",
    "\n",
    "calc = Manybody(**TersoffBrenner(Brenner_PRB_42_9458_C_I))\n",
    "\n",
    "# the function accepts any ASE type of calculator\n",
    "alat, C11, C12, C44 = get_elastic_constants(calculator=calc, symbol=\"C\")\n",
    "print(f\"alat = {alat}\")\n",
    "C_screw = DiamondGlideScrew(alat, C11, C12, C44, symbol=\"C\")\n",
    "\n",
    "C_screw_bulk, C_screw_dislo = C_screw.build_cylinder(radius=25, partial_distance=20)\n",
    "\n",
    "view = show_dislocation(C_screw_dislo, \n",
    "                 diamond_structure=True, # bonds make it a bit easier to see the structure\n",
    "                 scale=0.3, add_bonds=True, \n",
    "                 partial_distance=20 * C_screw.glide_distance, \n",
    "                 d_name=\"1/6<112> 30 degree partial screw\") \n",
    "\n",
    "view.control.zoom(0.7)\n",
    "view"
   ]
  },
  {
   "cell_type": "markdown",
   "metadata": {},
   "source": [
    "To model just the stacking fault, we can call `StackingFault` with just the lattice constant, crystalstructure (one of \"fcc\", \"bcc\", \"diamond\"), the chemical symbol, and the kind of dissociated dislocation, and use the function `StackingFault.generate_images()` to generate the fault images."
   ]
  },
  {
   "cell_type": "code",
   "execution_count": 10,
   "metadata": {},
   "outputs": [
    {
     "data": {
      "application/vnd.jupyter.widget-view+json": {
       "model_id": "fa1118e8dd17495b860dd3ae4a4c9b8b",
       "version_major": 2,
       "version_minor": 0
      },
      "text/plain": [
       "HBox(children=(NGLWidget(max_frame=15), VBox(children=(Dropdown(description='Show', options=('All', 'C'), valu…"
      ]
     },
     "execution_count": 10,
     "metadata": {},
     "output_type": "execute_result"
    }
   ],
   "source": [
    "fault = StackingFault(alat, DiamondGlideScrew, symbol=\"C\")\n",
    "fault.generate_images(n=16) # Generate 16 images along the pathway\n",
    "show_stacking_fault(fault.images)"
   ]
  },
  {
   "cell_type": "markdown",
   "metadata": {},
   "source": [
    "Now that we have the images generated, we can use the calculator by [D. Holland and M. Marder](https://journals.aps.org/prl/abstract/10.1103/PhysRevLett.80.746) to relax the images, and look at the energy barrier associated with forming the stacking fault.\n",
    "\n",
    "There are many things to consider when measuring stacking fault energy densities, and there are many conventions found in literature. Here, we only look at relaxations of these systems, but there are still many parameters to explore. We should consider whether the system should be vacuum terminated, how far apart the periodic images of the stacking fault should be, what constraints to add to the system, and whether there could be another plane with the same normal that could be more energetically favourable.\n",
    "\n",
    "This is a lot to consider, so we will explore the effect of tuning these parameters now.\n",
    "\n",
    "### Parameterising stacking fault image generation\n",
    "\n",
    "The default behaviour of `StackingFault.generate_images()` is to build as small of a cell as possible, based on the output of either `ase.lattice.cubic` (when `a` is a lattice parameter), or `ase.build.bulk`. This is likely to suffer from finite size effects for most systems, so it may be useful to include more bulk between periodic images of a stacking fault. We will also add a vacuum layer between the faults, as this is a common methodology in the literature."
   ]
  },
  {
   "cell_type": "code",
   "execution_count": 11,
   "metadata": {},
   "outputs": [
    {
     "data": {
      "application/vnd.jupyter.widget-view+json": {
       "model_id": "9dbbc294142549fb900fd75835a7365e",
       "version_major": 2,
       "version_minor": 0
      },
      "text/plain": [
       "HBox(children=(NGLWidget(max_frame=15), VBox(children=(Dropdown(description='Show', options=('All', 'C'), valu…"
      ]
     },
     "execution_count": 11,
     "metadata": {},
     "output_type": "execute_result"
    }
   ],
   "source": [
    "# Re-running fault.generate_images() will replace the images\n",
    "fault.generate_images(\n",
    "    n=16, # Still generate 16 images\n",
    "    z_replications=4, # Add copies of the bulk between stacking faults\n",
    "    vacuum=10.0 # Add vacuum layer between stakcing faults\n",
    ")\n",
    "show_stacking_fault(fault.images)\n"
   ]
  },
  {
   "cell_type": "markdown",
   "metadata": {},
   "source": [
    "We can see that this gives a stacking fault with more bulk.\n",
    "Next, let's relax the fault and look at the energy barrier.\n",
    "\n",
    "### Relaxing stacking fault images\n",
    "\n",
    "To relax the stacking fault images, we can use `StackingFault.relax_images`. Here, we have more choices to make, mainly through which constraints we apply to the images, which are controlled by the arguments `constrain_atoms` and `cell_relax`. As the name suggests, `constrain_atoms` adds atomic constraints, which restrict the atoms to only relax in the Z direction (towards or away from the stacking fault). The `cell_relax` argument allows the length of the cell in Z (`image.cell[2, 2]`) to be relaxed.\n",
    "\n",
    "Because we added a vacuum layer, it is inefficient to try to relax the cell, therefore we will use `cell_relax=False`. We will then use `StackingFault.get_surface_energies()` to evaluate the energy barrier associated with the stacking fault.\n",
    "\n",
    "NOTE: With stacking faults, we actually measure the energy __density__ (energy per unit area of the stacking fault), which is often expressed in $\\text{eV/}\\AA^2$ or in $\\text{J/m}^2$. We return with $\\text{eV/}\\AA^2$ in `StackingFault.get_surface_energies()`."
   ]
  },
  {
   "cell_type": "code",
   "execution_count": 12,
   "metadata": {},
   "outputs": [],
   "source": [
    "fault.relax_images(calc, cell_relax=False)\n",
    "Es = fault.get_surface_energies(calc)"
   ]
  },
  {
   "cell_type": "markdown",
   "metadata": {},
   "source": [
    "Now that we have relaxed the images and found the energy barrier, we should see what the barrier looks like. One way of doing this is to use the inbuilt `StackingFault.plot_gamma_surface()` function:"
   ]
  },
  {
   "cell_type": "code",
   "execution_count": 13,
   "metadata": {},
   "outputs": [
    {
     "data": {
      "text/plain": [
       "(<Figure size 432x288 with 1 Axes>,\n",
       " <AxesSubplot:title={'center':'(1 1 1) Stacking Fault\\nSurface Separation = 33.28${\\\\AA}$'}, xlabel='Position along (1 1 -2) path', ylabel='Energy Density (eV/${\\\\AA}^2$)'>)"
      ]
     },
     "execution_count": 13,
     "metadata": {},
     "output_type": "execute_result"
    },
    {
     "data": {
      "image/png": "[encoded data removed]",
      "text/plain": [
       "<Figure size 432x288 with 1 Axes>"
      ]
     },
     "metadata": {
      "needs_background": "light"
     },
     "output_type": "display_data"
    }
   ],
   "source": [
    "fault.plot_gamma_surface()"
   ]
  },
  {
   "cell_type": "markdown",
   "metadata": {},
   "source": [
    "We can see that the potential predicts a $\\sim 0.40eV/\\AA^2$ barrier, a shallow metastable state, and then a new minimum state with formation energy $\\sim 0.05eV/\\AA^2$ - this new state is exactly the stacking fault we see in the dislocation.\n",
    "\n",
    "## Gamma Surfaces without a dislocation\n",
    "\n",
    "All of the above applies to the `GammaSurface` class as well, with the exception that `GammaSurface.generate_images()` requires `nx` and `ny` as arguments, rather than the `n` argument from `StackingFault.generate_images()` (we need to define a grid of points, rather than a line).\n",
    "\n",
    "When using `GammaSurface` with a dislocation, `ny` will control the number of points in the direction of the stacking fault we see in that dislocation (`GammaSurface.generate_images(nx=1, ny=n)` is essentially equivalent to `StackingFault.generate_images(n=n)`). However, there exist a wide range of stacking faults and gamma surfaces that may not be linked to a dissociated dislocation in `matscipy.dislocation`.\n",
    "\n",
    "In order to generate stacking faults and gamma surfaces in any desired direction, we need a well-defined normal vector in miller index notation. In this example, we will take the normal to be (001). As a test system, lets use BCC Tungsten and the EAM4 potential by [Marinica _et. al._](http://dx.doi.org/10.1088/0953-8984/25/39/395502)."
   ]
  },
  {
   "cell_type": "code",
   "execution_count": 16,
   "metadata": {},
   "outputs": [
    {
     "name": "stdout",
     "output_type": "stream",
     "text": [
      "      Step     Time          Energy         fmax\n",
      "*Force-consistent energies used in optimization.\n",
      "FIRE:    0 13:44:32      -17.792788*       1.5616\n",
      "FIRE:    1 13:44:32      -17.796007*       1.2330\n",
      "FIRE:    2 13:44:32      -17.798904*       0.6354\n",
      "FIRE:    3 13:44:32      -17.799853*       0.2223\n",
      "FIRE:    4 13:44:32      -17.799882*       0.1976\n",
      "FIRE:    5 13:44:32      -17.799928*       0.1509\n",
      "FIRE:    6 13:44:32      -17.799970*       0.0870\n",
      "FIRE:    7 13:44:32      -17.799991*       0.0130\n",
      "FIRE:    8 13:44:32      -17.799981*       0.0629\n",
      "FIRE:    9 13:44:32      -17.799981*       0.0611\n",
      "FIRE:   10 13:44:32      -17.799982*       0.0576\n",
      "FIRE:   11 13:44:32      -17.799984*       0.0525\n",
      "FIRE:   12 13:44:32      -17.799986*       0.0458\n",
      "FIRE:   13 13:44:32      -17.799988*       0.0379\n",
      "FIRE:   14 13:44:32      -17.799989*       0.0289\n",
      "FIRE:   15 13:44:32      -17.799991*       0.0191\n",
      "FIRE:   16 13:44:32      -17.799991*       0.0076\n",
      "FIRE:   17 13:44:32      -17.799992*       0.0052\n",
      "FIRE:   18 13:44:32      -17.799992*       0.0052\n",
      "FIRE:   19 13:44:32      -17.799992*       0.0051\n",
      "FIRE:   20 13:44:32      -17.799992*       0.0049\n",
      "FIRE:   21 13:44:32      -17.799992*       0.0047\n",
      "FIRE:   22 13:44:32      -17.799992*       0.0044\n",
      "FIRE:   23 13:44:32      -17.799992*       0.0041\n",
      "FIRE:   24 13:44:32      -17.799992*       0.0038\n",
      "FIRE:   25 13:44:32      -17.799992*       0.0034\n",
      "FIRE:   26 13:44:32      -17.799992*       0.0028\n",
      "FIRE:   27 13:44:32      -17.799992*       0.0022\n",
      "FIRE:   28 13:44:32      -17.799992*       0.0015\n",
      "FIRE:   29 13:44:32      -17.799992*       0.0006\n",
      "FIRE:   30 13:44:32      -17.799992*       0.0003\n",
      "FIRE:   31 13:44:32      -17.799992*       0.0003\n",
      "FIRE:   32 13:44:32      -17.799992*       0.0003\n",
      "FIRE:   33 13:44:32      -17.799992*       0.0003\n",
      "FIRE:   34 13:44:32      -17.799992*       0.0003\n",
      "FIRE:   35 13:44:32      -17.799992*       0.0003\n",
      "FIRE:   36 13:44:32      -17.799992*       0.0003\n",
      "FIRE:   37 13:44:32      -17.799992*       0.0003\n",
      "FIRE:   38 13:44:32      -17.799992*       0.0002\n",
      "FIRE:   39 13:44:32      -17.799992*       0.0002\n",
      "FIRE:   40 13:44:32      -17.799992*       0.0002\n",
      "FIRE:   41 13:44:32      -17.799992*       0.0001\n",
      "FIRE:   42 13:44:32      -17.799992*       0.0001\n",
      "Fitting C_11\n",
      "Strain array([-0.02, -0.01,  0.  ,  0.01,  0.02])\n",
      "Stress array([-1.18143011e+01, -5.57729763e+00, -2.88261126e-04,  4.98286691e+00,\n",
      "        9.85079614e+00]) GPa\n",
      "Cij (gradient) / GPa    :     538.9035896451811\n",
      "Error in Cij / GPa      :     16.58438171877605\n",
      "Correlation coefficient :     0.9985824334709763\n",
      "Setting C11 (1) to 3.363572 +/- 0.103512\n",
      "\n",
      "\n",
      "Fitting C_21\n",
      "Strain array([-0.02, -0.01,  0.  ,  0.01,  0.02])\n",
      "Stress array([-5.18171556e+00, -2.29563243e+00, -2.88261126e-04,  1.85153957e+00,\n",
      "        3.74132626e+00]) GPa\n",
      "Cij (gradient) / GPa    :     219.93255649330905\n",
      "Error in Cij / GPa      :     12.450223131452\n",
      "Correlation coefficient :     0.9952274688373496\n",
      "Setting C21 (7) to 1.372711 +/- 0.077708\n",
      "\n",
      "\n",
      "Fitting C_31\n",
      "Strain array([-0.02, -0.01,  0.  ,  0.01,  0.02])\n",
      "Stress array([-5.18171556e+00, -2.29563243e+00, -2.88261126e-04,  1.85153957e+00,\n",
      "        3.74132626e+00]) GPa\n",
      "Cij (gradient) / GPa    :     219.93255649330894\n",
      "Error in Cij / GPa      :     12.450223131452285\n",
      "Correlation coefficient :     0.9952274688373494\n",
      "Updating C31 (7) with value 1.372711 +/- 0.077708\n",
      "\n",
      "\n",
      "Fitting C_44\n",
      "Strain array([-0.02, -0.01,  0.  ,  0.01,  0.02])\n",
      "Stress array([-4.37426370e+00, -1.88654647e+00,  6.87238462e-15,  1.43563268e+00,\n",
      "        2.90478138e+00]) GPa\n",
      "Cij (gradient) / GPa    :     178.8026930257019\n",
      "Error in Cij / GPa      :     12.702352202927411\n",
      "Correlation coefficient :     0.992514621692753\n",
      "Setting C44 (4) to 1.115999 +/- 0.079282\n",
      "\n",
      "\n",
      "[[b C11 b C12 b C12 b     b     b    ]\n",
      " [b C12 b C11 b C12 b     b     b    ]\n",
      " [b C12 b C12 b C11 b     b     b    ]\n",
      " [b     b     b     b C44 b     b    ]\n",
      " [b     b     b     b     b C44 b    ]\n",
      " [b     b     b     b     b     b C44]]\n",
      "\n",
      " = \n",
      "\n",
      "[[538.9  219.93 219.93   0.     0.     0.  ]\n",
      " [219.93 538.9  219.93   0.     0.     0.  ]\n",
      " [219.93 219.93 538.9    0.     0.     0.  ]\n",
      " [  0.     0.     0.   178.8    0.     0.  ]\n",
      " [  0.     0.     0.     0.   178.8    0.  ]\n",
      " [  0.     0.     0.     0.     0.   178.8 ]]\n",
      "C_11 = 538.90 +/- 16.58 GPa\n",
      "C_12 = 219.93 +/- 12.45 GPa\n",
      "C_44 = 178.80 +/- 12.70 GPa\n"
     ]
    }
   ],
   "source": [
    "from matscipy.calculators.eam import EAM\n",
    "calc = EAM(\"../../tests/w_eam4.fs\")\n",
    "\n",
    "alat, C11, C12, C44 = get_elastic_constants(calculator=calc, symbol=\"W\")\n",
    "surface = GammaSurface(alat, surface_direction=[0, 0, 1], crystalstructure=\"bcc\", symbol=\"W\")"
   ]
  },
  {
   "cell_type": "markdown",
   "metadata": {},
   "source": [
    "To do a gamma surface or stacking fault calculation, we need a complete orthogonal basis, however we only supplied a single basis vector. Internally, the code has searched for a reasonable choice of basis on the assumption that \"good\" bases have integer miller indeces, and that the size of these integers should be close to zero.\n",
    "\n",
    "To see what the full basis is in miller index notation, we can look at the `surf_directions` dict:"
   ]
  },
  {
   "cell_type": "code",
   "execution_count": 19,
   "metadata": {},
   "outputs": [
    {
     "name": "stdout",
     "output_type": "stream",
     "text": [
      "{'x': array([0, 1, 0]), 'y': array([-1,  0,  0]), 'z': array([0, 0, 1])}\n"
     ]
    }
   ],
   "source": [
    "print(surface.surf_directions)"
   ]
  },
  {
   "cell_type": "markdown",
   "metadata": {},
   "source": [
    "The (001) direction we set as the normal to the surface is chosen to be in the z direction. The code has then found that (010) and (-100) are two directions that result in a \"sensible\" basis for performing out calculations. \n",
    "\n",
    "In the `get_surface_energies()` function, there is an optional argument `relax` which internally calls `relax_images`. This means we can relax the images and get associated energy densities all from one function call."
   ]
  },
  {
   "cell_type": "code",
   "execution_count": 20,
   "metadata": {},
   "outputs": [],
   "source": [
    "surface.generate_images(nx=5,\n",
    "                        ny=5,\n",
    "                        z_replications=4)\n",
    "\n",
    "Es = surface.get_surface_energies(calc, relax=True)"
   ]
  },
  {
   "cell_type": "markdown",
   "metadata": {},
   "source": [
    "Now that the images are relaxed, we can plot the energy density of the system across the full surface. We will also use the `si=True` argument in the plotting function to convert the energy densities from $eV/\\AA^2$ into $J/m^2$."
   ]
  },
  {
   "cell_type": "code",
   "execution_count": 21,
   "metadata": {},
   "outputs": [
    {
     "data": {
      "text/plain": [
       "(<Figure size 432x288 with 2 Axes>,\n",
       " <AxesSubplot:title={'center':'(0 0 1) Gamma Surface\\nSurface Separation = 12.57 A'}, xlabel='(0 1 0)', ylabel='(-1 0 0)'>)"
      ]
     },
     "execution_count": 21,
     "metadata": {},
     "output_type": "execute_result"
    },
    {
     "data": {
      "image/png": "[encoded data removed]",
      "text/plain": [
       "<Figure size 432x288 with 2 Axes>"
      ]
     },
     "metadata": {
      "needs_background": "light"
     },
     "output_type": "display_data"
    }
   ],
   "source": [
    "surface.plot_gamma_surface(si=True)"
   ]
  },
  {
   "cell_type": "markdown",
   "metadata": {},
   "source": [
    "We can see that the plot has helpfully labelled the axes with the miller indices, and from this we can see that the potential thinks that the system will want to glide in the (010) and (100) directions.\n",
    "\n",
    "## Stacking Faults and Gamma Surfaces in Multi-species Systems\n",
    "The `GammaSurface` and `StackingFault` classes handle input arguments in a similar way to the classes in `matscipy.disocation`, in that instead of supplying a lattice parameter + crystalstructure + symbol, we can instead supply a bulk structure in the form of an Atoms object. This use-case follows similar caveats to the dislocation systems in complex systems, in that we are limited to systems that can be expressed in a cubic cell. Generating stacking faults from dislocations (as in the first section) also requires that the input bulk shares geometry with the \"base\" crystalstructure of that dislocation (e.g. the DiamondGlideScrew example will be fine in crystal systems like Diamond and Zincblende, as Zincblende has equivalent geometry).\n",
    "\n",
    "To repeat the GaAs example from the multispecies dislocation documentation:"
   ]
  },
  {
   "cell_type": "code",
   "execution_count": 22,
   "metadata": {},
   "outputs": [
    {
     "data": {
      "application/vnd.jupyter.widget-view+json": {
       "model_id": "fc87d5865330432d89527cf65e28f15d",
       "version_major": 2,
       "version_minor": 0
      },
      "text/plain": [
       "HBox(children=(NGLWidget(max_frame=31), VBox(children=(Dropdown(description='Show', options=('All', 'Ga', 'As'…"
      ]
     },
     "execution_count": 22,
     "metadata": {},
     "output_type": "execute_result"
    }
   ],
   "source": [
    "from ase.build import bulk\n",
    "\n",
    "# Data from https://doi.org/10.1080/08927022.2011.602975\n",
    "alat = 11.2402/2\n",
    "\n",
    "GaAs = bulk(\"GaAs\", crystalstructure=\"zincblende\", cubic=True, a=alat)\n",
    "\n",
    "surface = StackingFault(GaAs, DiamondGlideScrew)\n",
    "\n",
    "surface.generate_images(32)\n",
    "\n",
    "show_stacking_fault(surface.images)"
   ]
  }
 ],
 "metadata": {
  "kernelspec": {
   "display_name": "Python 3",
   "language": "python",
   "name": "python3"
  },
  "language_info": {
   "codemirror_mode": {
    "name": "ipython",
    "version": 3
   },
   "file_extension": ".py",
   "mimetype": "text/x-python",
   "name": "python",
   "nbconvert_exporter": "python",
   "pygments_lexer": "ipython3",
   "version": "3.10.12"
  }
 },
 "nbformat": 4,
 "nbformat_minor": 2
}
