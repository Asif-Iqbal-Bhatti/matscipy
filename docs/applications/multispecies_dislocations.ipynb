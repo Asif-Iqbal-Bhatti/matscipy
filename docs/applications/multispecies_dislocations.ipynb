{
 "cells": [
  {
   "cell_type": "markdown",
   "metadata": {},
   "source": [
    "## Beyond Single-species Systems\n",
    "So far, we have only seen dislocations of single-species systems. However, the above dislocation classes can also be applied to more complex ordered systems, under the following constraints:\n",
    "1. The desired system can be expressed in a cubic lattice\n",
    "2. The desired system shares geometry with an existing crystal structure\n",
    "\n",
    "As an example, let's take Zincblende InP and compare with a diamond lattice:"
   ]
  },
  {
   "cell_type": "code",
   "execution_count": null,
   "metadata": {},
   "outputs": [],
   "source": [
    "from ase.build import bulk\n",
    "from ase.lattice.cubic import Diamond\n",
    "import numpy as np\n",
    "\n",
    "# Data from https://pubs.acs.org/doi/epdf/10.1021/acs.jpca.0c02450 DFT values\n",
    "alat = 5.84\n",
    "C11 = 99.3\n",
    "C12 = 55.4\n",
    "C44 = 45.0\n",
    "\n",
    "InP = bulk(\"InP\", crystalstructure=\"zincblende\", cubic=True, a=alat)\n",
    "\n",
    "diamond = Diamond(\"C\", latticeconstant=alat)\n",
    "\n",
    "inp_pos = InP.get_scaled_positions()\n",
    "dia_pos = diamond.get_scaled_positions()\n",
    "\n",
    "# Sort the coords, as bulk uses a different atom order\n",
    "inp_idxs = np.lexsort((inp_pos[:, 0], inp_pos[:, 1], inp_pos[:, 2]))\n",
    "dia_idxs = np.lexsort((dia_pos[:, 0], dia_pos[:, 1], dia_pos[:, 2]))\n",
    "print(\"InP Fractional Coordinates\")\n",
    "print(inp_pos[inp_idxs, :])\n",
    "print()\n",
    "print(\"Diamond Fractional Coordinates\")\n",
    "print(dia_pos[dia_idxs, :])\n",
    "\n",
    "interactive_view(InP, scale=0.4)"
   ]
  },
  {
   "cell_type": "markdown",
   "metadata": {},
   "source": [
    "We can see that the fractional coordinates of the Zincblende InP are the same as the Diamond structure we generated - this is what was meant by the second constraint. The equivalent geometry means that the continuum-scale displacement field used to build the dislocations will be applied to atoms in the same fractional coordinates, allowing us to get an equivalent core reconstruction.\n",
    "\n",
    "To actually build a dislocation with this bulk, we can simply pass it as an argument, in place of the lattice constant:"
   ]
  },
  {
   "cell_type": "code",
   "execution_count": null,
   "metadata": {},
   "outputs": [],
   "source": [
    "from matscipy.dislocation import DiamondGlide60Degree\n",
    "\n",
    "disloc = DiamondGlide60Degree(InP, C11, C12, C44)\n",
    "\n",
    "InP_bulk, InP_dislocation = disloc.build_cylinder(radius=20)\n",
    "\n",
    "interactive_view(InP_dislocation, scale=0.4)"
   ]
  },
  {
   "cell_type": "markdown",
   "metadata": {},
   "source": [
    "### Dislocations in Disordered Systems\n",
    "Generating dislocation structures for systems which have some chemical disorder is also possible, with some caveats:\n",
    "1. The generation routines will only work reliably when given on-lattice bulk structures with cubic cells\n",
    "2. The generated structure is based on a periodic replication of the base unit_cell, thus won't have true disorder\n",
    "3. The displacement field applied to the bulk structure does not depend on atomic species - known lattice distortions caused by the disorder will not be captured\n",
    "4. The current code only allows $C_{11}$, $C_{12}$, and $C_{44}$ to be specified, so more complex elastic effects (E.G. $C_{11} \\neq C_{22}$) cannot currently be captured\n",
    "\n",
    "With these in mind, a recommended workflow would be to start by generating the dislocation system for an ordered system, but using the elastic constants of the disordered system. From there, the disorder can be applied by simply changing the chemcical symbols of the atoms to match the target composition.\n",
    "\n",
    "To show a worked example of this, consider the alloy $\\text{In}_{0.5} \\text{Ga}_{0.5} \\text{As}$. This should form a distorted Zincblende structure, where the In sites from the previous InP bulk are now 50% occupied by Ga, and all P sites are now In.\n",
    "\n",
    "In order to model this, we can generate a dislocation for GaAs (which is very similar to the InP example above), but using the lattice constant and elastic properties of $\\text{In}_{0.5} \\text{Ga}_{0.5} \\text{As}$."
   ]
  },
  {
   "cell_type": "code",
   "execution_count": null,
   "metadata": {},
   "outputs": [],
   "source": [
    "from ase.build import bulk\n",
    "from matscipy.dislocation import DiamondGlide60Degree\n",
    "\n",
    "alat = 5.87 # Rough value from https://www.ioffe.ru/SVA/NSM/Semicond/GaInAs/mechanic.html\n",
    "# Data from https://doi.org/10.1080/08927022.2011.602975\n",
    "C11 = 120.31\n",
    "C12 = 55.87\n",
    "C44 = 58.26\n",
    "\n",
    "GaAs = bulk(\"GaAs\", crystalstructure=\"zincblende\", cubic=True, a=alat)\n",
    "\n",
    "\n",
    "disloc = DiamondGlide60Degree(GaAs, C11, C12, C44)\n",
    "\n",
    "GaAs_bulk, GaAs_dislocation = disloc.build_cylinder(radius=20)\n",
    "\n",
    "interactive_view(GaAs_dislocation, scale=0.4)"
   ]
  },
  {
   "cell_type": "markdown",
   "metadata": {},
   "source": [
    "From this GaAs structure, we then do Monte Carlo sampling to introduce 50% In to the structure:"
   ]
  },
  {
   "cell_type": "code",
   "execution_count": null,
   "metadata": {},
   "outputs": [],
   "source": [
    "import numpy as np\n",
    "\n",
    "np.random.seed(2)\n",
    "\n",
    "species = np.array(GaAs_bulk.get_chemical_symbols())\n",
    "\n",
    "Ga_idxs = np.argwhere(species == \"Ga\")[:, 0]\n",
    "\n",
    "# Choose half the idxs to be In\n",
    "In_idxs = np.random.choice(Ga_idxs, size=int(Ga_idxs.shape[0]/2), replace=False)\n",
    "\n",
    "# Introduce the chemical disorder in In-Ga sites\n",
    "species[In_idxs] = \"In\"\n",
    "\n",
    "InGaAs_bulk = GaAs_bulk.copy()\n",
    "InGaAs_bulk.set_chemical_symbols(species)\n",
    "\n",
    "InGaAs_dislocation = GaAs_dislocation.copy()\n",
    "InGaAs_dislocation.set_chemical_symbols(species)\n",
    "\n",
    "interactive_view(InGaAs_dislocation, scale=0.4)"
   ]
  }
 ],
 "metadata": {
  "language_info": {
   "name": "python"
  }
 },
 "nbformat": 4,
 "nbformat_minor": 2
}
